{
 "cells": [
  {
   "cell_type": "markdown",
   "metadata": {},
   "source": [
    "# Automatic Approach to Calculate Displacement & Throw on Thrust Faults \n",
    "## *Real-world Applications*\n",
    "\n",
    "## A Case Study on coalmines dataset from Ruhr coalfield in the lower Rhine basin, Germany.  \n",
    "\n",
    "***By: Ramy Abdallah***\n",
    "\n",
    "![Chevron folds](https://i.imgur.com/VS2Qj9D.jpg)"
   ]
  },
  {
   "cell_type": "markdown",
   "metadata": {},
   "source": [
    "## Introduction"
   ]
  },
  {
   "cell_type": "markdown",
   "metadata": {},
   "source": [
    "Our case study comes from part of the Ruhr coalfield in the Lower Rhine Basin, Germany (Drozdzewski 1993). Strata of Namurian and Westphalian age are deformed into a series of folds and thrusts that accommodate contractional tectonics along the northern margin of the Variscan orogenic system (e.g. Wrede 2005). These successions contain numerous coal seams that have been exploited by extensive deep-mining. It is the richness of direct subsurface observations, through the mine workings, along with the level of structural complexity that challenges geological interpretation, that motivates our study."
   ]
  },
  {
   "cell_type": "markdown",
   "metadata": {},
   "source": [
    "The data used in our study come from an extensive report by Drozdzewski et al. (1980) on part of the Ruhr coalfield (Fig. 1). The mine-workings (galleries, adits and shafts) along with associated boreholes and seismic reflection profiles provide subsurface information, supported by surface exposure enhanced by open-cast pits. Collectively these observational resources allow interpretation of the subsurface geological structure to a depth of 2 km over a 323.29 km2 area. Drozdzewski et al. (1980) report these observations and erect their own geological interpretations on a series of paper maps and cross-sections. Cross-section spacing is at 1 to 2 km, resulting in a set of 12 serial cross-sections, with two tying cross-lines (see the following fig). Critically, Drozdzewski et al. (1980) also indicate levels of confidence in their interpretations using descriptive criteria."
   ]
  },
  {
   "cell_type": "markdown",
   "metadata": {},
   "source": [
    "The cross-section used in this study is cross-section number 5 from the Ruhr coalfield, lower Rhine basin, Germany. The cross-section was digitised manually using Move structural software and exported as a data file to be used in the Python ecosystem.\n",
    "\n",
    "![Thrust Faults Structures](https://i.imgur.com/Bn7cm2t.jpg)"
   ]
  },
  {
   "cell_type": "markdown",
   "metadata": {},
   "source": [
    "## Objective"
   ]
  },
  {
   "cell_type": "markdown",
   "metadata": {},
   "source": [
    "The main objective of this notebook is to apply the intuitive new approach that we develop in the previous notebooks to calculate the displacement and throw from a 2D subsurface cross-section from the Ruhr coalmine, Germany. This study proves that the Python script developed and tested on synthetic models can be applied for real-world cross-sections and used for production."
   ]
  },
  {
   "cell_type": "markdown",
   "metadata": {},
   "source": [
    "## Data"
   ]
  },
  {
   "cell_type": "markdown",
   "metadata": {},
   "source": [
    "The 2D subsurface models used in this notebook are in data format (.dat) and generated from the digitised cross-section number 5, where we calculated the displacement and throw on the cross-section and applied the generated workflow in the previous cross-sections."
   ]
  },
  {
   "cell_type": "markdown",
   "metadata": {},
   "source": [
    "## Libraries"
   ]
  },
  {
   "cell_type": "markdown",
   "metadata": {},
   "source": [
    "In this study we are going to use mainly `math` libarary."
   ]
  },
  {
   "cell_type": "markdown",
   "metadata": {},
   "source": [
    "This package allows access to the standard's mathematical functions. For more information see https://docs.python.org/3/library/math.html#module-math"
   ]
  },
  {
   "cell_type": "code",
   "execution_count": 1,
   "metadata": {},
   "outputs": [],
   "source": [
    "import csv\n",
    "import math\n",
    "import numpy as np\n",
    "import pandas as pd\n",
    "import seaborn as sns\n",
    "import matplotlib as mpl\n",
    "from matplotlib import style\n",
    "import matplotlib.pyplot as plt\n",
    "from mpl_toolkits import mplot3d\n",
    "from mpl_toolkits.mplot3d import Axes3D\n",
    "\n",
    "sns.set()\n",
    "%matplotlib notebook"
   ]
  },
  {
   "cell_type": "markdown",
   "metadata": {},
   "source": [
    "## Project Generalised Workflow"
   ]
  },
  {
   "cell_type": "markdown",
   "metadata": {},
   "source": [
    ">1. **Load, read and explore the data**\n",
    ">2. **Visualised the cross-section model**\n",
    ">3. **Displacement and throw calculation on cross-section 5 model**\n",
    ">4. **Summarize inferences & write a conclusion**"
   ]
  },
  {
   "cell_type": "markdown",
   "metadata": {},
   "source": [
    "## Methods"
   ]
  },
  {
   "cell_type": "markdown",
   "metadata": {},
   "source": [
    "### 1. Load, read and explore the data"
   ]
  },
  {
   "cell_type": "markdown",
   "metadata": {},
   "source": [
    "### Download the 2D Geological Models as Data files"
   ]
  },
  {
   "cell_type": "markdown",
   "metadata": {},
   "source": [
    "We read, explore, clean and visualise the subsurface model that we want to calculate the displacement and throw. For a detailed explanation, please read the 2D and 3D visualisation notebooks. We will start by the fault data points then we will resume to the horizons data."
   ]
  },
  {
   "cell_type": "markdown",
   "metadata": {},
   "source": [
    "#### Fault data points"
   ]
  },
  {
   "cell_type": "code",
   "execution_count": 2,
   "metadata": {},
   "outputs": [],
   "source": [
    "filepath = r'C:\\Users\\r04ra18\\Desktop\\fault-dataset\\final-notebooks\\data\\section5_structure_model_222_15012020.dat'\n",
    "\n",
    "with open(filepath, \"r\") as file:  \n",
    "    lines = file.readlines()"
   ]
  },
  {
   "cell_type": "code",
   "execution_count": 3,
   "metadata": {},
   "outputs": [
    {
     "name": "stdout",
     "output_type": "stream",
     "text": [
      "Number of lines: 1261 \n",
      "\n",
      "first 5 lines:\n",
      "\n"
     ]
    },
    {
     "data": {
      "text/plain": [
       "['350456.6366\\t5706406.7966\\t-87.8852\\tFault1-5-29\\n',\n",
       " '350478.0276\\t5706378.7303\\t-102.7436\\tFault1-5-29\\n',\n",
       " '350532.4334\\t5706307.3468\\t-140.5343\\tFault1-5-29\\n',\n",
       " '350537.2661\\t5706301.0061\\t-144.3919\\tFault1-5-29\\n',\n",
       " '350575.4939\\t5706248.1305\\t-175.9631\\tFault1-5-29\\n']"
      ]
     },
     "execution_count": 3,
     "metadata": {},
     "output_type": "execute_result"
    }
   ],
   "source": [
    "print(\"Number of lines:\", len(lines), \"\\n\")\n",
    "print(\"first 5 lines:\\n\")\n",
    "lines[:5]"
   ]
  },
  {
   "cell_type": "markdown",
   "metadata": {},
   "source": [
    "Here we iterate over every line and strip away the \\n from the right of the string"
   ]
  },
  {
   "cell_type": "code",
   "execution_count": 4,
   "metadata": {},
   "outputs": [
    {
     "data": {
      "text/plain": [
       "['350456.6366\\t5706406.7966\\t-87.8852\\tFault1-5-29',\n",
       " '350478.0276\\t5706378.7303\\t-102.7436\\tFault1-5-29',\n",
       " '350532.4334\\t5706307.3468\\t-140.5343\\tFault1-5-29',\n",
       " '350537.2661\\t5706301.0061\\t-144.3919\\tFault1-5-29',\n",
       " '350575.4939\\t5706248.1305\\t-175.9631\\tFault1-5-29']"
      ]
     },
     "execution_count": 4,
     "metadata": {},
     "output_type": "execute_result"
    }
   ],
   "source": [
    "for i, line in enumerate(lines):  \n",
    "    lines[i] = line.rstrip(\"\\n\")  \n",
    "    \n",
    "lines[:5]"
   ]
  },
  {
   "cell_type": "markdown",
   "metadata": {},
   "source": [
    "Similarly, we create a loop to iterate over fault data and strip out the character “\\t”"
   ]
  },
  {
   "cell_type": "code",
   "execution_count": 5,
   "metadata": {},
   "outputs": [],
   "source": [
    "count_faults = []  \n",
    "for line in lines: \n",
    "    line_values = line.split(\"\\t\")  \n",
    "                                   \n",
    "    for count_fault in line_values: \n",
    "        count_faults.append((count_fault))"
   ]
  },
  {
   "cell_type": "markdown",
   "metadata": {},
   "source": [
    "We have five faults segments in our dataset. Let count each data point in each fault segment and separate them in the next step."
   ]
  },
  {
   "cell_type": "code",
   "execution_count": 6,
   "metadata": {},
   "outputs": [
    {
     "name": "stdout",
     "output_type": "stream",
     "text": [
      "67\n",
      "26\n",
      "13\n",
      "18\n",
      "5\n"
     ]
    }
   ],
   "source": [
    "print(count_faults.count('Fault1-5-29'))\n",
    "print(count_faults.count('Fault1-5-30'))\n",
    "print(count_faults.count('Fault1-5-33'))\n",
    "print(count_faults.count('Fault1-5-37'))\n",
    "print(count_faults.count('Fault1-5-39'))"
   ]
  },
  {
   "cell_type": "markdown",
   "metadata": {},
   "source": [
    "Then we index the data points to get the points for each fault segment."
   ]
  },
  {
   "cell_type": "code",
   "execution_count": 7,
   "metadata": {},
   "outputs": [],
   "source": [
    "fault_29_grid = lines[:67]\n",
    "fault_30_grid = lines[67:93]\n",
    "fault_33_grid = lines[93:106]\n",
    "fault_37_grid = lines[106:124]\n",
    "fault_39_grid = lines[124:129]"
   ]
  },
  {
   "cell_type": "markdown",
   "metadata": {},
   "source": [
    "After that we create a for loop to clean the data points by striping the fault name, \"\\t\", \"''\", \" \"."
   ]
  },
  {
   "cell_type": "markdown",
   "metadata": {},
   "source": [
    "Drop the name."
   ]
  },
  {
   "cell_type": "code",
   "execution_count": 8,
   "metadata": {},
   "outputs": [],
   "source": [
    "for i, line in enumerate(fault_29_grid):  \n",
    "    fault_29_grid[i] = line.rstrip(\"tFault1-5-29\")"
   ]
  },
  {
   "cell_type": "markdown",
   "metadata": {},
   "source": [
    "Clean \"\\t\"."
   ]
  },
  {
   "cell_type": "code",
   "execution_count": 9,
   "metadata": {},
   "outputs": [],
   "source": [
    "xyzfault_29_values = []  \n",
    "for line in fault_29_grid:  \n",
    "    line_values = line.split(\"\\t\")  \n",
    "    \n",
    "    for xyz_value in line_values: \n",
    "        xyzfault_29_values.append(format(xyz_value)) "
   ]
  },
  {
   "cell_type": "markdown",
   "metadata": {},
   "source": [
    "Clean \"''\""
   ]
  },
  {
   "cell_type": "code",
   "execution_count": 10,
   "metadata": {},
   "outputs": [],
   "source": [
    "for i, line in enumerate(xyzfault_29_values):  \n",
    "    xyzfault_29_values[i] = line.rstrip(\"''\")\n",
    "    \n",
    "for i, line in enumerate(xyzfault_29_values):  \n",
    "    xyzfault_29_values[i] = line.strip()"
   ]
  },
  {
   "cell_type": "markdown",
   "metadata": {},
   "source": [
    "Clean ''"
   ]
  },
  {
   "cell_type": "code",
   "execution_count": 11,
   "metadata": {},
   "outputs": [],
   "source": [
    "ztt = []\n",
    "for i in xyzfault_29_values:\n",
    "    if i != '':\n",
    "        ztt.append(i)"
   ]
  },
  {
   "cell_type": "markdown",
   "metadata": {},
   "source": [
    "Clean \" \""
   ]
  },
  {
   "cell_type": "code",
   "execution_count": 12,
   "metadata": {},
   "outputs": [],
   "source": [
    "xyz_f29_values = []  \n",
    "for line in ztt:  \n",
    "    line_values = line.split(\" \")  \n",
    "    \n",
    "    for xyz_value in line_values: \n",
    "        xyz_f29_values.append(float(xyz_value)) "
   ]
  },
  {
   "cell_type": "markdown",
   "metadata": {},
   "source": [
    "Then let us get the x, y and z data and store them in a separate list."
   ]
  },
  {
   "cell_type": "code",
   "execution_count": 13,
   "metadata": {},
   "outputs": [],
   "source": [
    "xyz_f29_values\n",
    "f29_x = xyz_f29_values[::3]\n",
    "f29_y = xyz_f29_values[1::3]\n",
    "f29_z = xyz_f29_values[2::3]"
   ]
  },
  {
   "cell_type": "markdown",
   "metadata": {},
   "source": [
    "Later we apply the same preparation to other faults in the dataset."
   ]
  },
  {
   "cell_type": "code",
   "execution_count": 14,
   "metadata": {},
   "outputs": [],
   "source": [
    "for i, line in enumerate(fault_30_grid):  \n",
    "    fault_30_grid[i] = line.rstrip(\"tFault1-5-30\")\n",
    "    \n",
    "for i, line in enumerate(fault_33_grid):  \n",
    "    fault_33_grid[i] = line.rstrip(\"tFault1-5-33\")\n",
    "    \n",
    "for i, line in enumerate(fault_37_grid):  \n",
    "    fault_37_grid[i] = line.rstrip(\"tFault1-5-37\")    \n",
    "    \n",
    "for i, line in enumerate(fault_39_grid):  \n",
    "    fault_39_grid[i] = line.rstrip(\"tFault1-5-39\")    "
   ]
  },
  {
   "cell_type": "code",
   "execution_count": 15,
   "metadata": {},
   "outputs": [],
   "source": [
    "xyzfault_30_values = []  \n",
    "for line in fault_30_grid:  \n",
    "    line_values = line.split(\"\\t\")  \n",
    "    \n",
    "    for xyz_value in line_values: \n",
    "        xyzfault_30_values.append(format(xyz_value))\n",
    "        \n",
    "xyzfault_33_values = []  \n",
    "for line in fault_33_grid:  \n",
    "    line_values = line.split(\"\\t\")  \n",
    "    \n",
    "    for xyz_value in line_values: \n",
    "        xyzfault_33_values.append(format(xyz_value))\n",
    "        \n",
    "xyzfault_37_values = []  \n",
    "for line in fault_37_grid:  \n",
    "    line_values = line.split(\"\\t\")  \n",
    "    \n",
    "    for xyz_value in line_values: \n",
    "        xyzfault_37_values.append(format(xyz_value))\n",
    "\n",
    "xyzfault_39_values = []  \n",
    "for line in fault_39_grid:  \n",
    "    line_values = line.split(\"\\t\")  \n",
    "    \n",
    "    for xyz_value in line_values: \n",
    "        xyzfault_39_values.append(format(xyz_value))"
   ]
  },
  {
   "cell_type": "code",
   "execution_count": 16,
   "metadata": {},
   "outputs": [],
   "source": [
    "ztt_30 = []\n",
    "for i in xyzfault_30_values:\n",
    "    if i != '':\n",
    "        ztt_30.append(i) \n",
    "        \n",
    "ztt_33 = []\n",
    "for i in xyzfault_33_values:\n",
    "    if i != '':\n",
    "        ztt_33.append(i) \n",
    "        \n",
    "ztt_37 = []\n",
    "for i in xyzfault_37_values:\n",
    "    if i != '':\n",
    "        ztt_37.append(i) \n",
    "\n",
    "ztt_39 = []\n",
    "for i in xyzfault_39_values:\n",
    "    if i != '':\n",
    "        ztt_39.append(i) "
   ]
  },
  {
   "cell_type": "code",
   "execution_count": 17,
   "metadata": {},
   "outputs": [],
   "source": [
    "xyz_f30_values = []  \n",
    "for line in ztt_30:  \n",
    "    line_values = line.split(\" \")  \n",
    "    \n",
    "    for xyz_value in line_values: \n",
    "        xyz_f30_values.append(float(xyz_value)) \n",
    "\n",
    "xyz_f33_values = []  \n",
    "for line in ztt_33:  \n",
    "    line_values = line.split(\" \")  \n",
    "    \n",
    "    for xyz_value in line_values: \n",
    "        xyz_f33_values.append(float(xyz_value)) \n",
    "\n",
    "xyz_f37_values = []  \n",
    "for line in ztt_37:  \n",
    "    line_values = line.split(\" \")  \n",
    "    \n",
    "    for xyz_value in line_values: \n",
    "        xyz_f37_values.append(float(xyz_value)) \n",
    "\n",
    "xyz_f39_values = []  \n",
    "for line in ztt_39:  \n",
    "    line_values = line.split(\" \")  \n",
    "    \n",
    "    for xyz_value in line_values: \n",
    "        xyz_f39_values.append(float(xyz_value))      "
   ]
  },
  {
   "cell_type": "code",
   "execution_count": 18,
   "metadata": {},
   "outputs": [],
   "source": [
    "xyz_f30_values\n",
    "f30_x = xyz_f30_values[::3]\n",
    "f30_y = xyz_f30_values[1::3]\n",
    "f30_z = xyz_f30_values[2::3]\n",
    "\n",
    "xyz_f33_values\n",
    "f33_x = xyz_f33_values[::3]\n",
    "f33_y = xyz_f33_values[1::3]\n",
    "f33_z = xyz_f33_values[2::3]\n",
    "\n",
    "xyz_f37_values\n",
    "f37_x = xyz_f37_values[::3]\n",
    "f37_y = xyz_f37_values[1::3]\n",
    "f37_z = xyz_f37_values[2::3]\n",
    "\n",
    "xyz_f39_values\n",
    "f39_x = xyz_f39_values[::3]\n",
    "f39_y = xyz_f39_values[1::3]\n",
    "f39_z = xyz_f39_values[2::3]"
   ]
  },
  {
   "cell_type": "markdown",
   "metadata": {},
   "source": [
    "#### Horizons data points"
   ]
  },
  {
   "cell_type": "markdown",
   "metadata": {},
   "source": [
    "On the horizons datapoints we apply the same workflow that we adopt on the faults datapoints. For the horizons datapoints we need to split the data of the Hanging wall \"HW from the footwall \"FW\" data points in order to calculate the throw or the dispalcement."
   ]
  },
  {
   "cell_type": "code",
   "execution_count": 19,
   "metadata": {},
   "outputs": [],
   "source": [
    "filepath = r'C:\\Users\\r04ra18\\Desktop\\fault-dataset\\final-notebooks\\data\\section5_smh_hwfw_16012020.dat'\n",
    "\n",
    "with open(filepath, \"r\") as file:  \n",
    "    lines_hz = file.readlines()"
   ]
  },
  {
   "cell_type": "code",
   "execution_count": 20,
   "metadata": {},
   "outputs": [
    {
     "name": "stdout",
     "output_type": "stream",
     "text": [
      "Number of lines: 1133 \n",
      "\n",
      "first 5 lines:\n",
      "\n"
     ]
    },
    {
     "data": {
      "text/plain": [
       "['x\\ty\\tz\\tName\\n',\n",
       " '351033.1964\\t5705615.0505\\t-621.0671\\tDi_hw29\\n',\n",
       " '351033.1964\\t5705615.0505\\t-621.0671\\tDi_hw29\\n',\n",
       " '351036.3700\\t5705610.6608\\t-612.6657\\tDi_hw29\\n',\n",
       " '351046.8313\\t5705596.1911\\t-617.3645\\tDi_hw29\\n']"
      ]
     },
     "execution_count": 20,
     "metadata": {},
     "output_type": "execute_result"
    }
   ],
   "source": [
    "print(\"Number of lines:\", len(lines_hz), \"\\n\")\n",
    "print(\"first 5 lines:\\n\")\n",
    "lines_hz[:5]"
   ]
  },
  {
   "cell_type": "code",
   "execution_count": 21,
   "metadata": {},
   "outputs": [
    {
     "data": {
      "text/plain": [
       "['x\\ty\\tz\\tName',\n",
       " '351033.1964\\t5705615.0505\\t-621.0671\\tDi_hw29',\n",
       " '351033.1964\\t5705615.0505\\t-621.0671\\tDi_hw29',\n",
       " '351036.3700\\t5705610.6608\\t-612.6657\\tDi_hw29',\n",
       " '351046.8313\\t5705596.1911\\t-617.3645\\tDi_hw29']"
      ]
     },
     "execution_count": 21,
     "metadata": {},
     "output_type": "execute_result"
    }
   ],
   "source": [
    "for i, line in enumerate(lines_hz):  \n",
    "    lines_hz[i] = line.rstrip(\"\\n\")  \n",
    "    \n",
    "lines_hz[:5]"
   ]
  },
  {
   "cell_type": "markdown",
   "metadata": {},
   "source": [
    "We start cleaning the horizons data by dropping the names of the faults."
   ]
  },
  {
   "cell_type": "code",
   "execution_count": 22,
   "metadata": {},
   "outputs": [],
   "source": [
    "Di_hw29_grid = []  \n",
    "for line in lines_hz:  \n",
    "    if '\\tDi_hw29' in line:\n",
    "        Di_hw29_grid.append(line)\n",
    "        \n",
    "Di_hw30_grid = []  \n",
    "for line in lines_hz:  \n",
    "    if '\\tDi_hw30' in line:\n",
    "        Di_hw30_grid.append(line)\n",
    "\n",
    "Gi5_hw29_grid = []  \n",
    "for line in lines_hz:  \n",
    "    if '\\tGi5_hw29' in line:\n",
    "        Gi5_hw29_grid.append(line)\n",
    "        \n",
    "Fi_hw29_grid = []  \n",
    "for line in lines_hz:  \n",
    "    if '\\tFi_hw29' in line:\n",
    "        Fi_hw29_grid.append(line)\n",
    "        \n",
    "Sb_hw29_grid = []  \n",
    "for line in lines_hz:  \n",
    "    if '\\tSb_hw29' in line:\n",
    "        Sb_hw29_grid.append(line)\n",
    "\n",
    "Ma_fw29_grid = []  \n",
    "for line in lines_hz:  \n",
    "    if '\\tMa_fw29' in line:\n",
    "        Ma_fw29_grid.append(line)\n",
    "\n",
    "Ma_fw37_grid = []  \n",
    "for line in lines_hz:  \n",
    "    if '\\tMa_fw37' in line:\n",
    "        Ma_fw37_grid.append(line)\n",
    "\n",
    "Hu_fw37_grid = []  \n",
    "for line in lines_hz:  \n",
    "    if '\\tHu_fw37' in line:\n",
    "        Hu_fw37_grid.append(line)\n",
    "        \n",
    "Sb_hw29_grid = []  \n",
    "for line in lines_hz:  \n",
    "    if '\\tSb_hw29' in line:\n",
    "        Sb_hw29_grid.append(line)\n",
    "        \n",
    "Hu_fw37_grid = []  \n",
    "for line in lines_hz:  \n",
    "    if '\\tHu_fw37' in line:\n",
    "        Hu_fw37_grid.append(line)\n",
    "        \n",
    "Hu_fw29_grid = []  \n",
    "for line in lines_hz:  \n",
    "    if '\\tHu_fw29' in line:\n",
    "        Hu_fw29_grid.append(line)\n",
    "        \n",
    "Ka_fw29_grid = []  \n",
    "for line in lines_hz:  \n",
    "    if '\\tKa_fw29' in line:\n",
    "        Ka_fw29_grid.append(line)\n",
    "        \n",
    "Ka_hw29_grid = []  \n",
    "for line in lines_hz:  \n",
    "    if '\\tKa_hw29' in line:\n",
    "        Ka_hw29_grid.append(line)\n",
    "        \n",
    "ER_fw29_grid = []  \n",
    "for line in lines_hz:  \n",
    "    if '\\tER_fw29' in line:\n",
    "        ER_fw29_grid.append(line)\n",
    "        \n",
    "Er_hw29_grid = []  \n",
    "for line in lines_hz:  \n",
    "    if '\\tEr_hw29' in line:\n",
    "        Er_hw29_grid.append(line)\n",
    "        \n",
    "Pr_hw30_grid = []  \n",
    "for line in lines_hz:  \n",
    "    if '\\tPr_hw30' in line:\n",
    "        Pr_hw30_grid.append(line)\n",
    "        \n",
    "Mg_hw29_grid = []  \n",
    "for line in lines_hz:  \n",
    "    if '\\tMg_hw29' in line:\n",
    "        Mg_hw29_grid.append(line)"
   ]
  },
  {
   "cell_type": "code",
   "execution_count": 23,
   "metadata": {},
   "outputs": [],
   "source": [
    "Di_fw29_grid = []  \n",
    "for line in lines_hz:  \n",
    "    if '\\tDi_fw29' in line:\n",
    "        Di_fw29_grid.append(line)\n",
    "        \n",
    "So_fw29_grid = []  \n",
    "for line in lines_hz:  \n",
    "    if '\\tSo_fw29' in line:\n",
    "        So_fw29_grid.append(line)\n",
    "\n",
    "Gi5_fw29_grid = []  \n",
    "for line in lines_hz:  \n",
    "    if '\\tGi5_fw29' in line:\n",
    "        Gi5_fw29_grid.append(line)\n",
    "        \n",
    "Pr_fw29_grid = []  \n",
    "for line in lines_hz:  \n",
    "    if '\\tPr_fw29' in line:\n",
    "        Pr_fw29_grid.append(line)\n",
    "        \n",
    "Fi_fw29_grid = []  \n",
    "for line in lines_hz:  \n",
    "    if '\\tFi_fw29' in line:\n",
    "        Fi_fw29_grid.append(line)\n",
    "        \n",
    "Mg_fw29_grid = []  \n",
    "for line in lines_hz:  \n",
    "    if '\\tMg_fw29' in line:\n",
    "        Mg_fw29_grid.append(line)\n",
    "        \n",
    "Sb_fw29_grid = []  \n",
    "for line in lines_hz:  \n",
    "    if '\\tSb_fw29' in line:\n",
    "        Sb_fw29_grid.append(line)\n",
    "        \n",
    "Hf_grid = []  \n",
    "for line in lines_hz:  \n",
    "    if '\\tHf' in line:\n",
    "        Hf_grid.append(line)\n",
    "        \n",
    "Hu_hw29_grid = []  \n",
    "for line in lines_hz:  \n",
    "    if '\\tHu_hw29' in line:\n",
    "        Hu_hw29_grid.append(line)\n",
    "        \n",
    "La_fw29_grid = []  \n",
    "for line in lines_hz:  \n",
    "    if '\\tLa_fw29' in line:\n",
    "        La_fw29_grid.append(line)\n",
    "        \n",
    "Gu_fw37_grid = []  \n",
    "for line in lines_hz:  \n",
    "    if '\\tGu_fw37' in line:\n",
    "        Gu_fw37_grid.append(line)\n",
    "        \n",
    "Gufw29_grid = []  \n",
    "for line in lines_hz:  \n",
    "    if '\\tGufw29' in line:\n",
    "        Gufw29_grid.append(line)\n",
    "        \n",
    "Ma_hw29_grid = []  \n",
    "for line in lines_hz:  \n",
    "    if '\\tMa_hw29' in line:\n",
    "        Ma_hw29_grid.append(line)\n",
    "\n",
    "Er_fw33_grid = []  \n",
    "for line in lines_hz:  \n",
    "    if '\\tEr_fw33' in line:\n",
    "        Er_fw33_grid.append(line)\n",
    "        \n",
    "Ka_fw33_grid = []  \n",
    "for line in lines_hz:  \n",
    "    if '\\tKa_fw33' in line:\n",
    "        Ka_fw33_grid.append(line)\n",
    "        \n",
    "Fi_hw39_grid = []  \n",
    "for line in lines_hz:  \n",
    "    if '\\tFi_hw39' in line:\n",
    "        Fi_hw39_grid.append(line)\n",
    "        \n",
    "Gi5_hw30_grid = []  \n",
    "for line in lines_hz:  \n",
    "    if '\\tGi5_hw30' in line:\n",
    "        Gi5_hw30_grid.append(line)\n",
    "        \n",
    "So_hw29_grid = []  \n",
    "for line in lines_hz:  \n",
    "    if '\\tSo_hw29' in line:\n",
    "        So_hw29_grid.append(line)\n",
    "        \n",
    "So_hw30_grid = []  \n",
    "for line in lines_hz:  \n",
    "    if '\\tSo_hw30' in line:\n",
    "        So_hw30_grid.append(line)"
   ]
  },
  {
   "cell_type": "code",
   "execution_count": 24,
   "metadata": {},
   "outputs": [],
   "source": [
    "Pr_hw29_grid = []  \n",
    "for line in lines_hz:  \n",
    "    if '\\tPr_hw29' in line:\n",
    "        Pr_hw29_grid.append(line)\n",
    "        \n",
    "Er_hw30_grid = []  \n",
    "for line in lines_hz:  \n",
    "    if '\\tEr_hw30' in line:\n",
    "        Er_hw30_grid.append(line)\n",
    "        \n",
    "Zo8_fw29_grid = []  \n",
    "for line in lines_hz:  \n",
    "    if '\\tZo8_fw29' in line:\n",
    "        Zo8_fw29_grid.append(line)\n",
    "        \n",
    "Zo8_hw29_grid = []  \n",
    "for line in lines_hz:  \n",
    "    if '\\tZo8_hw29' in line:\n",
    "        Zo8_hw29_grid.append(line)\n",
    "        \n",
    "La_hw29_grid = []  \n",
    "for line in lines_hz:  \n",
    "    if '\\tLa_hw29' in line:\n",
    "        La_hw29_grid.append(line)\n",
    "        \n",
    "Gu_hw29_grid = []  \n",
    "for line in lines_hz:  \n",
    "    if '\\tGu_hw29' in line:\n",
    "        Gu_hw29_grid.append(line)\n",
    "        \n",
    "Ka_hw30_grid = []  \n",
    "for line in lines_hz:  \n",
    "    if '\\tKa_hw30' in line:\n",
    "        Ka_hw30_grid.append(line)\n",
    "        \n",
    "Wb_grid = []  \n",
    "for line in lines_hz:  \n",
    "    if '\\tWb' in line:\n",
    "        Wb_grid.append(line)"
   ]
  },
  {
   "cell_type": "markdown",
   "metadata": {},
   "source": [
    "In the following lines we clean the data points and store the \"x\", \"y\" and \"z\" on a speparate lists."
   ]
  },
  {
   "cell_type": "code",
   "execution_count": 25,
   "metadata": {},
   "outputs": [],
   "source": [
    "for i, line in enumerate(Di_hw29_grid):  \n",
    "    Di_hw29_grid[i] = line.rstrip(\"\\tDi_hw29\")"
   ]
  },
  {
   "cell_type": "code",
   "execution_count": 26,
   "metadata": {},
   "outputs": [],
   "source": [
    "for i, line in enumerate(Di_hw30_grid):  \n",
    "    Di_hw30_grid[i] = line.rstrip(\"\\tDi_hw30\")"
   ]
  },
  {
   "cell_type": "code",
   "execution_count": 27,
   "metadata": {},
   "outputs": [],
   "source": [
    "for i, line in enumerate(Gi5_hw29_grid):  \n",
    "    Gi5_hw29_grid[i] = line.rstrip(\"\\tGi5_hw29\")"
   ]
  },
  {
   "cell_type": "code",
   "execution_count": 28,
   "metadata": {},
   "outputs": [],
   "source": [
    "for i, line in enumerate(Fi_hw29_grid):  \n",
    "    Fi_hw29_grid[i] = line.rstrip(\"\\tFi_hw29\")"
   ]
  },
  {
   "cell_type": "code",
   "execution_count": 29,
   "metadata": {},
   "outputs": [],
   "source": [
    "for i, line in enumerate(Sb_hw29_grid):  \n",
    "    Sb_hw29_grid[i] = line.rstrip(\"\\tSb_hw29\")"
   ]
  },
  {
   "cell_type": "code",
   "execution_count": 30,
   "metadata": {},
   "outputs": [],
   "source": [
    "for i, line in enumerate(Ma_hw29_grid):  \n",
    "    Ma_hw29_grid[i] = line.rstrip(\"\\tMa_hw29\")"
   ]
  },
  {
   "cell_type": "code",
   "execution_count": 31,
   "metadata": {},
   "outputs": [],
   "source": [
    "for i, line in enumerate(Ma_fw29_grid):  \n",
    "    Ma_fw29_grid[i] = line.rstrip(\"\\tMa_fw29\")"
   ]
  },
  {
   "cell_type": "code",
   "execution_count": 32,
   "metadata": {},
   "outputs": [],
   "source": [
    "for i, line in enumerate(Ma_fw37_grid):  \n",
    "    Ma_fw37_grid[i] = line.rstrip(\"\\tMa_fw37\")"
   ]
  },
  {
   "cell_type": "code",
   "execution_count": 33,
   "metadata": {},
   "outputs": [],
   "source": [
    "for i, line in enumerate(Hu_fw37_grid):  \n",
    "    Hu_fw37_grid[i] = line.rstrip(\"\\tHu_fw37\")"
   ]
  },
  {
   "cell_type": "code",
   "execution_count": 34,
   "metadata": {},
   "outputs": [],
   "source": [
    "for i, line in enumerate(Hu_fw29_grid):  \n",
    "    Hu_fw29_grid[i] = line.rstrip(\"\\tHu_fw29\")"
   ]
  },
  {
   "cell_type": "code",
   "execution_count": 35,
   "metadata": {},
   "outputs": [],
   "source": [
    "for i, line in enumerate(Ka_fw29_grid):  \n",
    "    Ka_fw29_grid[i] = line.rstrip(\"\\tKa_fw29\")"
   ]
  },
  {
   "cell_type": "code",
   "execution_count": 36,
   "metadata": {},
   "outputs": [],
   "source": [
    "for i, line in enumerate(Ka_hw29_grid):  \n",
    "    Ka_hw29_grid[i] = line.rstrip(\"\\tKa_hw29\")"
   ]
  },
  {
   "cell_type": "code",
   "execution_count": 37,
   "metadata": {},
   "outputs": [],
   "source": [
    "for i, line in enumerate(ER_fw29_grid):  \n",
    "    ER_fw29_grid[i] = line.rstrip(\"\\tER_fw29\")"
   ]
  },
  {
   "cell_type": "code",
   "execution_count": 38,
   "metadata": {},
   "outputs": [],
   "source": [
    "for i, line in enumerate(Er_hw29_grid):  \n",
    "    Er_hw29_grid[i] = line.rstrip(\"\\tEr_hw29\")"
   ]
  },
  {
   "cell_type": "code",
   "execution_count": 39,
   "metadata": {},
   "outputs": [],
   "source": [
    "for i, line in enumerate(Pr_hw30_grid):  \n",
    "    Pr_hw30_grid[i] = line.rstrip(\"\\tPr_hw30\")"
   ]
  },
  {
   "cell_type": "code",
   "execution_count": 40,
   "metadata": {},
   "outputs": [],
   "source": [
    "for i, line in enumerate(Mg_hw29_grid):  \n",
    "    Mg_hw29_grid[i] = line.rstrip(\"\\tMg_hw29\")"
   ]
  },
  {
   "cell_type": "code",
   "execution_count": 41,
   "metadata": {},
   "outputs": [],
   "source": [
    "for i, line in enumerate(Di_fw29_grid):  \n",
    "    Di_fw29_grid[i] = line.rstrip(\"\\tDi_fw29\")"
   ]
  },
  {
   "cell_type": "code",
   "execution_count": 42,
   "metadata": {},
   "outputs": [],
   "source": [
    "for i, line in enumerate(So_fw29_grid):  \n",
    "    So_fw29_grid[i] = line.rstrip(\"\\tSo_fw29\")"
   ]
  },
  {
   "cell_type": "code",
   "execution_count": 43,
   "metadata": {},
   "outputs": [],
   "source": [
    "for i, line in enumerate(Gi5_fw29_grid):  \n",
    "    Gi5_fw29_grid[i] = line.rstrip(\"\\tGi5_fw29\")"
   ]
  },
  {
   "cell_type": "code",
   "execution_count": 44,
   "metadata": {},
   "outputs": [],
   "source": [
    "for i, line in enumerate(Pr_fw29_grid):  \n",
    "    Pr_fw29_grid[i] = line.rstrip(\"\\tPr_fw29\")"
   ]
  },
  {
   "cell_type": "code",
   "execution_count": 45,
   "metadata": {},
   "outputs": [],
   "source": [
    "for i, line in enumerate(Fi_fw29_grid):  \n",
    "    Fi_fw29_grid[i] = line.rstrip(\"\\tFi_fw29\")"
   ]
  },
  {
   "cell_type": "code",
   "execution_count": 46,
   "metadata": {},
   "outputs": [],
   "source": [
    "for i, line in enumerate(Mg_fw29_grid):  \n",
    "    Mg_fw29_grid[i] = line.rstrip(\"\\tMg_fw29\")"
   ]
  },
  {
   "cell_type": "code",
   "execution_count": 47,
   "metadata": {},
   "outputs": [],
   "source": [
    "for i, line in enumerate(Sb_fw29_grid):  \n",
    "    Sb_fw29_grid[i] = line.rstrip(\"\\tSb_fw29\")"
   ]
  },
  {
   "cell_type": "code",
   "execution_count": 48,
   "metadata": {},
   "outputs": [],
   "source": [
    "for i, line in enumerate(Hf_grid):  \n",
    "    Hf_grid[i] = line.rstrip(\"\\tHf\")"
   ]
  },
  {
   "cell_type": "code",
   "execution_count": 49,
   "metadata": {},
   "outputs": [],
   "source": [
    "for i, line in enumerate(Hu_hw29_grid):  \n",
    "    Hu_hw29_grid[i] = line.rstrip(\"\\tHu_hw29\")"
   ]
  },
  {
   "cell_type": "code",
   "execution_count": 50,
   "metadata": {},
   "outputs": [],
   "source": [
    "for i, line in enumerate(La_fw29_grid):  \n",
    "    La_fw29_grid[i] = line.rstrip(\"\\tLa_fw29\")"
   ]
  },
  {
   "cell_type": "code",
   "execution_count": 51,
   "metadata": {},
   "outputs": [],
   "source": [
    "for i, line in enumerate(Gu_fw37_grid):  \n",
    "    Gu_fw37_grid[i] = line.rstrip(\"\\tGu_fw37\")"
   ]
  },
  {
   "cell_type": "code",
   "execution_count": 52,
   "metadata": {},
   "outputs": [],
   "source": [
    "for i, line in enumerate(Gufw29_grid):  \n",
    "    Gufw29_grid[i] = line.rstrip(\"\\tGufw29\")"
   ]
  },
  {
   "cell_type": "code",
   "execution_count": 53,
   "metadata": {},
   "outputs": [],
   "source": [
    "for i, line in enumerate(Ma_hw29_grid):  \n",
    "    Ma_hw29_grid[i] = line.rstrip(\"\\tMa_hw29\")"
   ]
  },
  {
   "cell_type": "code",
   "execution_count": 54,
   "metadata": {},
   "outputs": [],
   "source": [
    "for i, line in enumerate(Er_fw33_grid):  \n",
    "    Er_fw33_grid[i] = line.rstrip(\"\\tEr_fw33\")"
   ]
  },
  {
   "cell_type": "code",
   "execution_count": 55,
   "metadata": {},
   "outputs": [],
   "source": [
    "for i, line in enumerate(Ka_fw33_grid):  \n",
    "    Ka_fw33_grid[i] = line.rstrip(\"\\tKa_fw33\")"
   ]
  },
  {
   "cell_type": "code",
   "execution_count": 56,
   "metadata": {},
   "outputs": [],
   "source": [
    "for i, line in enumerate(Fi_hw39_grid):  \n",
    "    Fi_hw39_grid[i] = line.rstrip(\"\\tFi_hw39\")"
   ]
  },
  {
   "cell_type": "code",
   "execution_count": 57,
   "metadata": {},
   "outputs": [],
   "source": [
    "for i, line in enumerate(Gi5_hw30_grid):  \n",
    "    Gi5_hw30_grid[i] = line.rstrip(\"\\tGi5_hw30\")"
   ]
  },
  {
   "cell_type": "code",
   "execution_count": 58,
   "metadata": {},
   "outputs": [],
   "source": [
    "for i, line in enumerate(So_hw29_grid):  \n",
    "    So_hw29_grid[i] = line.rstrip(\"\\tSo_hw29\")"
   ]
  },
  {
   "cell_type": "code",
   "execution_count": 59,
   "metadata": {},
   "outputs": [],
   "source": [
    "for i, line in enumerate(So_hw30_grid):  \n",
    "    So_hw30_grid[i] = line.rstrip(\"\\tSo_hw30\")"
   ]
  },
  {
   "cell_type": "code",
   "execution_count": 60,
   "metadata": {},
   "outputs": [],
   "source": [
    "for i, line in enumerate(Pr_hw29_grid):  \n",
    "    Pr_hw29_grid[i] = line.rstrip(\"\\tPr_hw29\")"
   ]
  },
  {
   "cell_type": "code",
   "execution_count": 61,
   "metadata": {},
   "outputs": [],
   "source": [
    "for i, line in enumerate(Er_hw30_grid):  \n",
    "    Er_hw30_grid[i] = line.rstrip(\"\\tEr_hw30\")"
   ]
  },
  {
   "cell_type": "code",
   "execution_count": 62,
   "metadata": {},
   "outputs": [],
   "source": [
    "for i, line in enumerate(Zo8_fw29_grid):  \n",
    "    Zo8_fw29_grid[i] = line.rstrip(\"\\tZo8_fw29\")"
   ]
  },
  {
   "cell_type": "code",
   "execution_count": 63,
   "metadata": {},
   "outputs": [],
   "source": [
    "for i, line in enumerate(Zo8_hw29_grid):  \n",
    "    Zo8_hw29_grid[i] = line.rstrip(\"\\tZo8_hw29\")"
   ]
  },
  {
   "cell_type": "code",
   "execution_count": 64,
   "metadata": {},
   "outputs": [],
   "source": [
    "for i, line in enumerate(La_hw29_grid):  \n",
    "    La_hw29_grid[i] = line.rstrip(\"\\tLa_hw29\")"
   ]
  },
  {
   "cell_type": "code",
   "execution_count": 65,
   "metadata": {},
   "outputs": [],
   "source": [
    "for i, line in enumerate(Gu_hw29_grid):  \n",
    "    Gu_hw29_grid[i] = line.rstrip(\"\\tGu_hw29\")"
   ]
  },
  {
   "cell_type": "code",
   "execution_count": 66,
   "metadata": {},
   "outputs": [],
   "source": [
    "for i, line in enumerate(Ka_hw30_grid):  \n",
    "    Ka_hw30_grid[i] = line.rstrip(\"\\tKa_hw30\")"
   ]
  },
  {
   "cell_type": "code",
   "execution_count": 67,
   "metadata": {},
   "outputs": [],
   "source": [
    "for i, line in enumerate(Wb_grid):  \n",
    "    Wb_grid[i] = line.rstrip(\"\\tWb\")"
   ]
  },
  {
   "cell_type": "code",
   "execution_count": 68,
   "metadata": {},
   "outputs": [],
   "source": [
    "xyzDi_hw29_values = []  \n",
    "for line in Di_hw29_grid:  \n",
    "    line_values = line.split(\"\\t\")  \n",
    "    \n",
    "    for xyz_value in line_values: \n",
    "        xyzDi_hw29_values.append(float(xyz_value))"
   ]
  },
  {
   "cell_type": "code",
   "execution_count": 69,
   "metadata": {},
   "outputs": [],
   "source": [
    "xyzDi_hw29_values\n",
    "Di_hw29_x = xyzDi_hw29_values[::3]\n",
    "Di_hw29_y = xyzDi_hw29_values[1::3]\n",
    "Di_hw29_z = xyzDi_hw29_values[2::3]"
   ]
  },
  {
   "cell_type": "code",
   "execution_count": 70,
   "metadata": {},
   "outputs": [],
   "source": [
    "xyzDi_hw30_values = []  \n",
    "for line in Di_hw30_grid:  \n",
    "    line_values = line.split(\"\\t\")  \n",
    "    \n",
    "    for xyz_value in line_values: \n",
    "        xyzDi_hw30_values.append(float(xyz_value))"
   ]
  },
  {
   "cell_type": "code",
   "execution_count": 71,
   "metadata": {},
   "outputs": [],
   "source": [
    "xyzDi_hw29_values\n",
    "Di_hw30_x = xyzDi_hw30_values[::3]\n",
    "Di_hw30_y = xyzDi_hw30_values[1::3]\n",
    "Di_hw30_z = xyzDi_hw30_values[2::3]"
   ]
  },
  {
   "cell_type": "code",
   "execution_count": 72,
   "metadata": {},
   "outputs": [],
   "source": [
    "xyzGi5_hw29_values = []  \n",
    "for line in Gi5_hw29_grid:  \n",
    "    line_values = line.split(\"\\t\")  \n",
    "    \n",
    "    for xyz_value in line_values: \n",
    "        xyzGi5_hw29_values.append(float(xyz_value))"
   ]
  },
  {
   "cell_type": "code",
   "execution_count": 73,
   "metadata": {},
   "outputs": [],
   "source": [
    "xyzDi_hw29_values\n",
    "Gi5_hw29_x = xyzGi5_hw29_values[::3]\n",
    "Gi5_hw29_y = xyzGi5_hw29_values[1::3]\n",
    "Gi5_hw29_z = xyzGi5_hw29_values[2::3]"
   ]
  },
  {
   "cell_type": "code",
   "execution_count": 74,
   "metadata": {},
   "outputs": [],
   "source": [
    "xyzFi_hw29_values = []  \n",
    "for line in Fi_hw29_grid:  \n",
    "    line_values = line.split(\"\\t\")  \n",
    "    \n",
    "    for xyz_value in line_values: \n",
    "        xyzFi_hw29_values.append(float(xyz_value))"
   ]
  },
  {
   "cell_type": "code",
   "execution_count": 75,
   "metadata": {},
   "outputs": [],
   "source": [
    "xyzFi_hw29_values\n",
    "Fi_hw29_x = xyzFi_hw29_values[::3]\n",
    "Fi_hw29_y = xyzFi_hw29_values[1::3]\n",
    "Fi_hw29_z = xyzFi_hw29_values[2::3]"
   ]
  },
  {
   "cell_type": "code",
   "execution_count": 76,
   "metadata": {},
   "outputs": [],
   "source": [
    "xyzSb_hw29_values = []  \n",
    "for line in Sb_hw29_grid:  \n",
    "    line_values = line.split(\"\\t\")  \n",
    "    \n",
    "    for xyz_value in line_values: \n",
    "        xyzSb_hw29_values.append(float(xyz_value))"
   ]
  },
  {
   "cell_type": "code",
   "execution_count": 77,
   "metadata": {},
   "outputs": [],
   "source": [
    "xyzSb_hw29_values\n",
    "Sb_hw29_x = xyzSb_hw29_values[::3]\n",
    "Sb_hw29_y = xyzSb_hw29_values[1::3]\n",
    "Sb_hw29_z = xyzSb_hw29_values[2::3]"
   ]
  },
  {
   "cell_type": "code",
   "execution_count": null,
   "metadata": {},
   "outputs": [],
   "source": []
  },
  {
   "cell_type": "code",
   "execution_count": 78,
   "metadata": {},
   "outputs": [],
   "source": [
    "xyzMa_fw29_values = []  \n",
    "for line in Ma_fw29_grid:  \n",
    "    line_values = line.split(\"\\t\")  \n",
    "    \n",
    "    for xyz_value in line_values: \n",
    "        xyzMa_fw29_values.append(float(xyz_value))"
   ]
  },
  {
   "cell_type": "code",
   "execution_count": 79,
   "metadata": {},
   "outputs": [],
   "source": [
    "xyzMa_fw29_values\n",
    "Ma_fw29_x = xyzMa_fw29_values[::3]\n",
    "Ma_fw29_y = xyzMa_fw29_values[1::3]\n",
    "Ma_fw29_z = xyzMa_fw29_values[2::3]"
   ]
  },
  {
   "cell_type": "code",
   "execution_count": 80,
   "metadata": {},
   "outputs": [],
   "source": [
    "xyzMa_fw37_values = []  \n",
    "for line in Ma_fw37_grid:  \n",
    "    line_values = line.split(\"\\t\")  \n",
    "    \n",
    "    for xyz_value in line_values: \n",
    "        xyzMa_fw37_values.append(float(xyz_value))"
   ]
  },
  {
   "cell_type": "code",
   "execution_count": 81,
   "metadata": {},
   "outputs": [],
   "source": [
    "xyzMa_fw37_values\n",
    "Ma_fw37_x = xyzMa_fw37_values[::3]\n",
    "Ma_fw37_y = xyzMa_fw37_values[1::3]\n",
    "Ma_fw37_z = xyzMa_fw37_values[2::3]"
   ]
  },
  {
   "cell_type": "code",
   "execution_count": 82,
   "metadata": {},
   "outputs": [],
   "source": [
    "xyzHu_fw37_values = []  \n",
    "for line in Hu_fw37_grid:  \n",
    "    line_values = line.split(\"\\t\")  \n",
    "    \n",
    "    for xyz_value in line_values: \n",
    "        xyzHu_fw37_values.append(float(xyz_value))"
   ]
  },
  {
   "cell_type": "code",
   "execution_count": 83,
   "metadata": {},
   "outputs": [],
   "source": [
    "xyzHu_fw37_values\n",
    "Hu_fw37_x = xyzHu_fw37_values[::3]\n",
    "Hu_fw37_y = xyzHu_fw37_values[1::3]\n",
    "Hu_fw37_z = xyzHu_fw37_values[2::3]"
   ]
  },
  {
   "cell_type": "code",
   "execution_count": 84,
   "metadata": {},
   "outputs": [],
   "source": [
    "xyzHu_fw29_values = []  \n",
    "for line in Hu_fw29_grid:  \n",
    "    line_values = line.split(\"\\t\")  \n",
    "    \n",
    "    for xyz_value in line_values: \n",
    "        xyzHu_fw29_values.append(float(xyz_value))"
   ]
  },
  {
   "cell_type": "code",
   "execution_count": 85,
   "metadata": {},
   "outputs": [],
   "source": [
    "xyzHu_fw29_values\n",
    "Hu_fw29_x = xyzHu_fw29_values[::3]\n",
    "Hu_fw29_y = xyzHu_fw29_values[1::3]\n",
    "Hu_fw29_z = xyzHu_fw29_values[2::3]"
   ]
  },
  {
   "cell_type": "code",
   "execution_count": 86,
   "metadata": {},
   "outputs": [],
   "source": [
    "xyzKa_fw29_values = []  \n",
    "for line in Ka_fw29_grid:  \n",
    "    line_values = line.split(\"\\t\")  \n",
    "    \n",
    "    for xyz_value in line_values: \n",
    "        xyzKa_fw29_values.append(float(xyz_value))"
   ]
  },
  {
   "cell_type": "code",
   "execution_count": 87,
   "metadata": {},
   "outputs": [],
   "source": [
    "xyzKa_fw29_values\n",
    "Ka_fw29_x = xyzKa_fw29_values[::3]\n",
    "Ka_fw29_y = xyzKa_fw29_values[1::3]\n",
    "Ka_fw29_z = xyzKa_fw29_values[2::3]"
   ]
  },
  {
   "cell_type": "code",
   "execution_count": 88,
   "metadata": {},
   "outputs": [],
   "source": [
    "xyzKa_hw29_values = []  \n",
    "for line in Ka_hw29_grid:  \n",
    "    line_values = line.split(\"\\t\")  \n",
    "    \n",
    "    for xyz_value in line_values: \n",
    "        xyzKa_hw29_values.append(float(xyz_value))"
   ]
  },
  {
   "cell_type": "code",
   "execution_count": 89,
   "metadata": {},
   "outputs": [],
   "source": [
    "xyzKa_hw29_values\n",
    "Ka_hw29_x = xyzKa_hw29_values[::3]\n",
    "Ka_hw29_y = xyzKa_hw29_values[1::3]\n",
    "Ka_hw29_z = xyzKa_hw29_values[2::3]"
   ]
  },
  {
   "cell_type": "code",
   "execution_count": 90,
   "metadata": {},
   "outputs": [],
   "source": [
    "xyzER_fw29_values = []  \n",
    "for line in ER_fw29_grid:  \n",
    "    line_values = line.split(\"\\t\")  \n",
    "    \n",
    "    for xyz_value in line_values: \n",
    "        xyzER_fw29_values.append(float(xyz_value))"
   ]
  },
  {
   "cell_type": "code",
   "execution_count": 91,
   "metadata": {},
   "outputs": [],
   "source": [
    "xyzER_fw29_values\n",
    "ER_fw29_x = xyzER_fw29_values[::3]\n",
    "ER_fw29_y = xyzER_fw29_values[1::3]\n",
    "ER_fw29_z = xyzER_fw29_values[2::3]"
   ]
  },
  {
   "cell_type": "code",
   "execution_count": 92,
   "metadata": {},
   "outputs": [],
   "source": [
    "xyzEr_hw29_values = []  \n",
    "for line in Er_hw29_grid:  \n",
    "    line_values = line.split(\"\\t\")  \n",
    "    \n",
    "    for xyz_value in line_values: \n",
    "        xyzEr_hw29_values.append(float(xyz_value))"
   ]
  },
  {
   "cell_type": "code",
   "execution_count": 93,
   "metadata": {},
   "outputs": [],
   "source": [
    "xyzEr_hw29_values\n",
    "Er_hw29_x = xyzEr_hw29_values[::3]\n",
    "Er_hw29_y = xyzEr_hw29_values[1::3]\n",
    "Er_hw29_z = xyzEr_hw29_values[2::3]"
   ]
  },
  {
   "cell_type": "code",
   "execution_count": 94,
   "metadata": {},
   "outputs": [],
   "source": [
    "xyzPr_hw30_values = []  \n",
    "for line in Pr_hw30_grid:  \n",
    "    line_values = line.split(\"\\t\")  \n",
    "    \n",
    "    for xyz_value in line_values: \n",
    "        xyzPr_hw30_values.append(float(xyz_value))"
   ]
  },
  {
   "cell_type": "code",
   "execution_count": 95,
   "metadata": {},
   "outputs": [],
   "source": [
    "xyzPr_hw30_values\n",
    "Pr_hw30_x = xyzPr_hw30_values[::3]\n",
    "Pr_hw30_y = xyzPr_hw30_values[1::3]\n",
    "Pr_hw30_z = xyzPr_hw30_values[2::3]"
   ]
  },
  {
   "cell_type": "code",
   "execution_count": 96,
   "metadata": {},
   "outputs": [],
   "source": [
    "xyzHf_values = []  \n",
    "for line in Hf_grid:  \n",
    "    line_values = line.split(\"\\t\")  \n",
    "    \n",
    "    for xyz_value in line_values: \n",
    "        xyzHf_values.append(float(xyz_value))"
   ]
  },
  {
   "cell_type": "code",
   "execution_count": 97,
   "metadata": {},
   "outputs": [],
   "source": [
    "xyzHf_values\n",
    "Hf_x = xyzHf_values[::3]\n",
    "Hf_y = xyzHf_values[1::3]\n",
    "Hf_z = xyzHf_values[2::3]"
   ]
  },
  {
   "cell_type": "code",
   "execution_count": 98,
   "metadata": {},
   "outputs": [],
   "source": [
    "xyzWb_values = []  \n",
    "for line in Wb_grid:  \n",
    "    line_values = line.split(\"\\t\")  \n",
    "    \n",
    "    for xyz_value in line_values: \n",
    "        xyzWb_values.append(float(xyz_value))"
   ]
  },
  {
   "cell_type": "code",
   "execution_count": 99,
   "metadata": {},
   "outputs": [],
   "source": [
    "xyzWb_values\n",
    "Wb_x = xyzWb_values[::3]\n",
    "Wb_y = xyzWb_values[1::3]\n",
    "Wb_z = xyzWb_values[2::3]"
   ]
  },
  {
   "cell_type": "code",
   "execution_count": 100,
   "metadata": {},
   "outputs": [],
   "source": [
    "xyzMg_hw29_values = []  \n",
    "for line in Mg_hw29_grid:  \n",
    "    line_values = line.split(\"\\t\")  \n",
    "    \n",
    "    for xyz_value in line_values: \n",
    "        xyzMg_hw29_values.append(float(xyz_value))"
   ]
  },
  {
   "cell_type": "code",
   "execution_count": 101,
   "metadata": {},
   "outputs": [],
   "source": [
    "xyzMg_hw29_values\n",
    "Mg_hw29_x = xyzMg_hw29_values[::3]\n",
    "Mg_hw29_y = xyzMg_hw29_values[1::3]\n",
    "Mg_hw29_z = xyzMg_hw29_values[2::3]"
   ]
  },
  {
   "cell_type": "code",
   "execution_count": 102,
   "metadata": {},
   "outputs": [],
   "source": [
    "xyzDi_fw29_values = []  \n",
    "for line in Di_fw29_grid:  \n",
    "    line_values = line.split(\"\\t\")  \n",
    "    \n",
    "    for xyz_value in line_values: \n",
    "        xyzDi_fw29_values.append(float(xyz_value))"
   ]
  },
  {
   "cell_type": "code",
   "execution_count": 103,
   "metadata": {},
   "outputs": [],
   "source": [
    "xyzDi_fw29_values\n",
    "Di_fw29_x = xyzDi_fw29_values[::3]\n",
    "Di_fw29_y = xyzDi_fw29_values[1::3]\n",
    "Di_fw29_z = xyzDi_fw29_values[2::3]"
   ]
  },
  {
   "cell_type": "code",
   "execution_count": 104,
   "metadata": {},
   "outputs": [],
   "source": [
    "xyzSo_fw29_values = []  \n",
    "for line in So_fw29_grid:  \n",
    "    line_values = line.split(\"\\t\")  \n",
    "    \n",
    "    for xyz_value in line_values: \n",
    "        xyzSo_fw29_values.append(float(xyz_value))"
   ]
  },
  {
   "cell_type": "code",
   "execution_count": 105,
   "metadata": {},
   "outputs": [],
   "source": [
    "xyzSo_fw29_values\n",
    "So_fw29_x = xyzSo_fw29_values[::3]\n",
    "So_fw29_y = xyzSo_fw29_values[1::3]\n",
    "So_fw29_z = xyzSo_fw29_values[2::3]"
   ]
  },
  {
   "cell_type": "code",
   "execution_count": 106,
   "metadata": {},
   "outputs": [],
   "source": [
    "xyzGi5_fw29_values = []  \n",
    "for line in Gi5_fw29_grid:  \n",
    "    line_values = line.split(\"\\t\")  \n",
    "    \n",
    "    for xyz_value in line_values: \n",
    "        xyzGi5_fw29_values.append(float(xyz_value))"
   ]
  },
  {
   "cell_type": "code",
   "execution_count": 107,
   "metadata": {},
   "outputs": [],
   "source": [
    "xyzGi5_fw29_values\n",
    "Gi5_fw29_x = xyzGi5_fw29_values[::3]\n",
    "Gi5_fw29_y = xyzGi5_fw29_values[1::3]\n",
    "Gi5_fw29_z = xyzGi5_fw29_values[2::3]"
   ]
  },
  {
   "cell_type": "code",
   "execution_count": 108,
   "metadata": {},
   "outputs": [],
   "source": [
    "xyzPr_fw29_values = []  \n",
    "for line in Pr_fw29_grid:  \n",
    "    line_values = line.split(\"\\t\")  \n",
    "    \n",
    "    for xyz_value in line_values: \n",
    "        xyzPr_fw29_values.append(float(xyz_value))"
   ]
  },
  {
   "cell_type": "code",
   "execution_count": 109,
   "metadata": {},
   "outputs": [],
   "source": [
    "xyzPr_fw29_values\n",
    "Pr_fw29_x = xyzPr_fw29_values[::3]\n",
    "Pr_fw29_y = xyzPr_fw29_values[1::3]\n",
    "Pr_fw29_z = xyzPr_fw29_values[2::3]"
   ]
  },
  {
   "cell_type": "code",
   "execution_count": 110,
   "metadata": {},
   "outputs": [],
   "source": [
    "xyzFi_fw29_values = []  \n",
    "for line in Fi_fw29_grid:  \n",
    "    line_values = line.split(\"\\t\")  \n",
    "    \n",
    "    for xyz_value in line_values: \n",
    "        xyzFi_fw29_values.append(float(xyz_value))"
   ]
  },
  {
   "cell_type": "code",
   "execution_count": 111,
   "metadata": {},
   "outputs": [],
   "source": [
    "xyzFi_fw29_values\n",
    "Fi_fw29_x = xyzFi_fw29_values[::3]\n",
    "Fi_fw29_y = xyzFi_fw29_values[1::3]\n",
    "Fi_fw29_z = xyzFi_fw29_values[2::3]"
   ]
  },
  {
   "cell_type": "code",
   "execution_count": 112,
   "metadata": {},
   "outputs": [],
   "source": [
    "xyzMg_fw29_values = []  \n",
    "for line in Mg_fw29_grid:  \n",
    "    line_values = line.split(\"\\t\")  \n",
    "    \n",
    "    for xyz_value in line_values: \n",
    "        xyzMg_fw29_values.append(float(xyz_value))"
   ]
  },
  {
   "cell_type": "code",
   "execution_count": 113,
   "metadata": {},
   "outputs": [],
   "source": [
    "xyzMg_fw29_values\n",
    "Mg_fw29_x = xyzMg_fw29_values[::3]\n",
    "Mg_fw29_y = xyzMg_fw29_values[1::3]\n",
    "Mg_fw29_z = xyzMg_fw29_values[2::3]"
   ]
  },
  {
   "cell_type": "code",
   "execution_count": 114,
   "metadata": {},
   "outputs": [],
   "source": [
    "xyzSb_fw29_values = []  \n",
    "for line in Sb_fw29_grid:  \n",
    "    line_values = line.split(\"\\t\")  \n",
    "    \n",
    "    for xyz_value in line_values: \n",
    "        xyzSb_fw29_values.append(float(xyz_value))"
   ]
  },
  {
   "cell_type": "code",
   "execution_count": 115,
   "metadata": {},
   "outputs": [],
   "source": [
    "xyzSb_fw29_values\n",
    "Sb_fw29_x = xyzSb_fw29_values[::3]\n",
    "Sb_fw29_y = xyzSb_fw29_values[1::3]\n",
    "Sb_fw29_z = xyzSb_fw29_values[2::3]"
   ]
  },
  {
   "cell_type": "code",
   "execution_count": 116,
   "metadata": {},
   "outputs": [],
   "source": [
    "xyzHu_hw29_values = []  \n",
    "for line in Hu_hw29_grid:  \n",
    "    line_values = line.split(\"\\t\")  \n",
    "    \n",
    "    for xyz_value in line_values: \n",
    "        xyzHu_hw29_values.append(float(xyz_value))"
   ]
  },
  {
   "cell_type": "code",
   "execution_count": 117,
   "metadata": {},
   "outputs": [],
   "source": [
    "xyzHu_hw29_values\n",
    "Hu_hw29_x = xyzHu_hw29_values[::3]\n",
    "Hu_hw29_y = xyzHu_hw29_values[1::3]\n",
    "Hu_hw29_z = xyzHu_hw29_values[2::3]"
   ]
  },
  {
   "cell_type": "code",
   "execution_count": 118,
   "metadata": {},
   "outputs": [],
   "source": [
    "xyzLa_fw29_values = []  \n",
    "for line in La_fw29_grid:  \n",
    "    line_values = line.split(\"\\t\")  \n",
    "    \n",
    "    for xyz_value in line_values: \n",
    "        xyzLa_fw29_values.append(float(xyz_value))"
   ]
  },
  {
   "cell_type": "code",
   "execution_count": 119,
   "metadata": {},
   "outputs": [],
   "source": [
    "xyzLa_fw29_values\n",
    "La_fw29_x = xyzLa_fw29_values[::3]\n",
    "La_fw29_y = xyzLa_fw29_values[1::3]\n",
    "La_fw29_z = xyzLa_fw29_values[2::3]"
   ]
  },
  {
   "cell_type": "code",
   "execution_count": 120,
   "metadata": {},
   "outputs": [],
   "source": [
    "xyzGu_fw37_values = []  \n",
    "for line in Gu_fw37_grid:  \n",
    "    line_values = line.split(\"\\t\")  \n",
    "    \n",
    "    for xyz_value in line_values: \n",
    "        xyzGu_fw37_values.append(float(xyz_value))"
   ]
  },
  {
   "cell_type": "code",
   "execution_count": 121,
   "metadata": {},
   "outputs": [],
   "source": [
    "xyzGu_fw37_values\n",
    "Gu_fw37_x = xyzGu_fw37_values[::3]\n",
    "Gu_fw37_y = xyzGu_fw37_values[1::3]\n",
    "Gu_fw37_z = xyzGu_fw37_values[2::3]"
   ]
  },
  {
   "cell_type": "code",
   "execution_count": 122,
   "metadata": {},
   "outputs": [],
   "source": [
    "xyzGufw29_values = []  \n",
    "for line in Gufw29_grid:  \n",
    "    line_values = line.split(\"\\t\")  \n",
    "    \n",
    "    for xyz_value in line_values: \n",
    "        xyzGufw29_values.append(float(xyz_value))"
   ]
  },
  {
   "cell_type": "code",
   "execution_count": 123,
   "metadata": {},
   "outputs": [],
   "source": [
    "xyzGufw29_values\n",
    "Gufw29_x = xyzGufw29_values[::3]\n",
    "Gufw29_y = xyzGufw29_values[1::3]\n",
    "Gufw29_z = xyzGufw29_values[2::3]"
   ]
  },
  {
   "cell_type": "code",
   "execution_count": 124,
   "metadata": {},
   "outputs": [],
   "source": [
    "xyzMa_hw29_values = []  \n",
    "for line in Ma_hw29_grid:  \n",
    "    line_values = line.split(\"\\t\")  \n",
    "    \n",
    "    for xyz_value in line_values: \n",
    "        xyzMa_hw29_values.append(float(xyz_value))"
   ]
  },
  {
   "cell_type": "code",
   "execution_count": 125,
   "metadata": {},
   "outputs": [],
   "source": [
    "xyzMa_hw29_values\n",
    "Ma_hw29_x = xyzMa_hw29_values[::3]\n",
    "Ma_hw29_y = xyzMa_hw29_values[1::3]\n",
    "Ma_hw29_z = xyzMa_hw29_values[2::3]"
   ]
  },
  {
   "cell_type": "code",
   "execution_count": 126,
   "metadata": {},
   "outputs": [],
   "source": [
    "xyzEr_fw33_values = []  \n",
    "for line in Er_fw33_grid:  \n",
    "    line_values = line.split(\"\\t\")  \n",
    "    \n",
    "    for xyz_value in line_values: \n",
    "        xyzEr_fw33_values.append(float(xyz_value))"
   ]
  },
  {
   "cell_type": "code",
   "execution_count": 127,
   "metadata": {},
   "outputs": [],
   "source": [
    "xyzEr_fw33_values\n",
    "Er_fw33_x = xyzEr_fw33_values[::3]\n",
    "Er_fw33_y = xyzEr_fw33_values[1::3]\n",
    "Er_fw33_z = xyzEr_fw33_values[2::3]"
   ]
  },
  {
   "cell_type": "code",
   "execution_count": 128,
   "metadata": {},
   "outputs": [],
   "source": [
    "xyzKa_fw33_values = []  \n",
    "for line in Ka_fw33_grid:  \n",
    "    line_values = line.split(\"\\t\")  \n",
    "    \n",
    "    for xyz_value in line_values: \n",
    "        xyzKa_fw33_values.append(float(xyz_value))"
   ]
  },
  {
   "cell_type": "code",
   "execution_count": 129,
   "metadata": {},
   "outputs": [],
   "source": [
    "xyzKa_fw33_values\n",
    "Ka_fw33_x = xyzKa_fw33_values[::3]\n",
    "Ka_fw33_y = xyzKa_fw33_values[1::3]\n",
    "Ka_fw33_z = xyzKa_fw33_values[2::3]"
   ]
  },
  {
   "cell_type": "code",
   "execution_count": 130,
   "metadata": {},
   "outputs": [],
   "source": [
    "xyzFi_hw39_values = []  \n",
    "for line in Fi_hw39_grid:  \n",
    "    line_values = line.split(\"\\t\")  \n",
    "    \n",
    "    for xyz_value in line_values: \n",
    "        xyzFi_hw39_values.append(float(xyz_value))"
   ]
  },
  {
   "cell_type": "code",
   "execution_count": 131,
   "metadata": {},
   "outputs": [],
   "source": [
    "xyzFi_hw39_values\n",
    "Fi_hw39_x = xyzFi_hw39_values[::3]\n",
    "Fi_hw39_y = xyzFi_hw39_values[1::3]\n",
    "Fi_hw39_z = xyzFi_hw39_values[2::3]"
   ]
  },
  {
   "cell_type": "code",
   "execution_count": 132,
   "metadata": {},
   "outputs": [],
   "source": [
    "xyzGi5_hw30_values = []  \n",
    "for line in Gi5_hw30_grid:  \n",
    "    line_values = line.split(\"\\t\")  \n",
    "    \n",
    "    for xyz_value in line_values: \n",
    "        xyzGi5_hw30_values.append(float(xyz_value))"
   ]
  },
  {
   "cell_type": "code",
   "execution_count": 133,
   "metadata": {},
   "outputs": [],
   "source": [
    "xyzGi5_hw30_values\n",
    "Gi5_hw30_x = xyzGi5_hw30_values[::3]\n",
    "Gi5_hw30_y = xyzGi5_hw30_values[1::3]\n",
    "Gi5_hw30_z = xyzGi5_hw30_values[2::3]"
   ]
  },
  {
   "cell_type": "code",
   "execution_count": 134,
   "metadata": {},
   "outputs": [],
   "source": [
    "xyzSo_hw30_values = []  \n",
    "for line in So_hw30_grid:  \n",
    "    line_values = line.split(\"\\t\")  \n",
    "    \n",
    "    for xyz_value in line_values: \n",
    "        xyzSo_hw30_values.append(float(xyz_value))"
   ]
  },
  {
   "cell_type": "code",
   "execution_count": 135,
   "metadata": {},
   "outputs": [],
   "source": [
    "xyzSo_hw30_values\n",
    "So_hw30_x = xyzSo_hw30_values[::3]\n",
    "So_hw30_y = xyzSo_hw30_values[1::3]\n",
    "So_hw30_z = xyzSo_hw30_values[2::3]"
   ]
  },
  {
   "cell_type": "code",
   "execution_count": 136,
   "metadata": {},
   "outputs": [],
   "source": [
    "xyzSo_hw29_values = []  \n",
    "for line in So_hw29_grid:  \n",
    "    line_values = line.split(\"\\t\")  \n",
    "    \n",
    "    for xyz_value in line_values: \n",
    "        xyzSo_hw29_values.append(float(xyz_value))"
   ]
  },
  {
   "cell_type": "code",
   "execution_count": 137,
   "metadata": {},
   "outputs": [],
   "source": [
    "xyzSo_hw29_values\n",
    "So_hw29_x = xyzSo_hw29_values[::3]\n",
    "So_hw29_y = xyzSo_hw29_values[1::3]\n",
    "So_hw29_z = xyzSo_hw29_values[2::3]"
   ]
  },
  {
   "cell_type": "code",
   "execution_count": 138,
   "metadata": {},
   "outputs": [],
   "source": [
    "xyzPr_hw29_values = []  \n",
    "for line in Pr_hw29_grid:  \n",
    "    line_values = line.split(\"\\t\")  \n",
    "    \n",
    "    for xyz_value in line_values: \n",
    "        xyzPr_hw29_values.append(float(xyz_value))"
   ]
  },
  {
   "cell_type": "code",
   "execution_count": 139,
   "metadata": {},
   "outputs": [],
   "source": [
    "xyzPr_hw29_values\n",
    "Pr_hw29_x = xyzPr_hw29_values[::3]\n",
    "Pr_hw29_y = xyzPr_hw29_values[1::3]\n",
    "Pr_hw29_z = xyzPr_hw29_values[2::3]"
   ]
  },
  {
   "cell_type": "code",
   "execution_count": 140,
   "metadata": {},
   "outputs": [],
   "source": [
    "xyzEr_hw30_values = []  \n",
    "for line in Er_hw30_grid:  \n",
    "    line_values = line.split(\"\\t\")  \n",
    "    \n",
    "    for xyz_value in line_values: \n",
    "        xyzEr_hw30_values.append(float(xyz_value))"
   ]
  },
  {
   "cell_type": "code",
   "execution_count": 141,
   "metadata": {},
   "outputs": [],
   "source": [
    "xyzEr_hw30_values\n",
    "Er_hw30_x = xyzEr_hw30_values[::3]\n",
    "Er_hw30_y = xyzEr_hw30_values[1::3]\n",
    "Er_hw30_z = xyzEr_hw30_values[2::3]"
   ]
  },
  {
   "cell_type": "code",
   "execution_count": 142,
   "metadata": {},
   "outputs": [],
   "source": [
    "xyzZo8_fw29_values = []  \n",
    "for line in Zo8_fw29_grid:  \n",
    "    line_values = line.split(\"\\t\")  \n",
    "    \n",
    "    for xyz_value in line_values: \n",
    "        xyzZo8_fw29_values.append(float(xyz_value))"
   ]
  },
  {
   "cell_type": "code",
   "execution_count": 143,
   "metadata": {},
   "outputs": [],
   "source": [
    "xyzZo8_fw29_values\n",
    "Zo8_fw29_x = xyzZo8_fw29_values[::3]\n",
    "Zo8_fw29_y = xyzZo8_fw29_values[1::3]\n",
    "Zo8_fw29_z = xyzZo8_fw29_values[2::3]"
   ]
  },
  {
   "cell_type": "code",
   "execution_count": 144,
   "metadata": {},
   "outputs": [],
   "source": [
    "xyzZo8_hw29_values = []  \n",
    "for line in Zo8_hw29_grid:  \n",
    "    line_values = line.split(\"\\t\")  \n",
    "    \n",
    "    for xyz_value in line_values: \n",
    "        xyzZo8_hw29_values.append(float(xyz_value))"
   ]
  },
  {
   "cell_type": "code",
   "execution_count": 145,
   "metadata": {},
   "outputs": [],
   "source": [
    "xyzZo8_hw29_values\n",
    "Zo8_hw29_x = xyzZo8_hw29_values[::3]\n",
    "Zo8_hw29_y = xyzZo8_hw29_values[1::3]\n",
    "Zo8_hw29_z = xyzZo8_hw29_values[2::3]"
   ]
  },
  {
   "cell_type": "code",
   "execution_count": 146,
   "metadata": {},
   "outputs": [],
   "source": [
    "xyzGu_hw29_values = []  \n",
    "for line in Gu_hw29_grid:  \n",
    "    line_values = line.split(\"\\t\")  \n",
    "    \n",
    "    for xyz_value in line_values: \n",
    "        xyzGu_hw29_values.append(float(xyz_value))"
   ]
  },
  {
   "cell_type": "code",
   "execution_count": 147,
   "metadata": {},
   "outputs": [],
   "source": [
    "xyzGu_hw29_values\n",
    "Gu_hw29_x = xyzGu_hw29_values[::3]\n",
    "Gu_hw29_y = xyzGu_hw29_values[1::3]\n",
    "Gu_hw29_z = xyzGu_hw29_values[2::3]"
   ]
  },
  {
   "cell_type": "code",
   "execution_count": 148,
   "metadata": {},
   "outputs": [],
   "source": [
    "xyzLa_hw29_values = []  \n",
    "for line in La_hw29_grid:  \n",
    "    line_values = line.split(\"\\t\")  \n",
    "    \n",
    "    for xyz_value in line_values: \n",
    "        xyzLa_hw29_values.append(float(xyz_value))"
   ]
  },
  {
   "cell_type": "code",
   "execution_count": 149,
   "metadata": {},
   "outputs": [],
   "source": [
    "xyzLa_hw29_values\n",
    "La_hw29_x = xyzLa_hw29_values[::3]\n",
    "La_hw29_y = xyzLa_hw29_values[1::3]\n",
    "La_hw29_z = xyzLa_hw29_values[2::3]"
   ]
  },
  {
   "cell_type": "code",
   "execution_count": 150,
   "metadata": {},
   "outputs": [],
   "source": [
    "xyzKa_hw30_values = []  \n",
    "for line in Ka_hw30_grid:  \n",
    "    line_values = line.split(\"\\t\")  \n",
    "    \n",
    "    for xyz_value in line_values: \n",
    "        xyzKa_hw30_values.append(float(xyz_value))"
   ]
  },
  {
   "cell_type": "code",
   "execution_count": 151,
   "metadata": {},
   "outputs": [],
   "source": [
    "xyzKa_hw30_values\n",
    "Ka_hw30_x = xyzKa_hw30_values[::3]\n",
    "Ka_hw30_y = xyzKa_hw30_values[1::3]\n",
    "Ka_hw30_z = xyzKa_hw30_values[2::3]"
   ]
  },
  {
   "cell_type": "markdown",
   "metadata": {},
   "source": [
    "After we download our model, clean the data points let us visualised the model."
   ]
  },
  {
   "cell_type": "markdown",
   "metadata": {},
   "source": [
    "### 2. Visualising Real-world Subsurface Model"
   ]
  },
  {
   "cell_type": "markdown",
   "metadata": {},
   "source": [
    "Form more information about the visualisation please see the previous notebooks."
   ]
  },
  {
   "cell_type": "code",
   "execution_count": 152,
   "metadata": {},
   "outputs": [
    {
     "data": {
      "application/javascript": [
       "/* Put everything inside the global mpl namespace */\n",
       "/* global mpl */\n",
       "window.mpl = {};\n",
       "\n",
       "mpl.get_websocket_type = function () {\n",
       "    if (typeof WebSocket !== 'undefined') {\n",
       "        return WebSocket;\n",
       "    } else if (typeof MozWebSocket !== 'undefined') {\n",
       "        return MozWebSocket;\n",
       "    } else {\n",
       "        alert(\n",
       "            'Your browser does not have WebSocket support. ' +\n",
       "                'Please try Chrome, Safari or Firefox ≥ 6. ' +\n",
       "                'Firefox 4 and 5 are also supported but you ' +\n",
       "                'have to enable WebSockets in about:config.'\n",
       "        );\n",
       "    }\n",
       "};\n",
       "\n",
       "mpl.figure = function (figure_id, websocket, ondownload, parent_element) {\n",
       "    this.id = figure_id;\n",
       "\n",
       "    this.ws = websocket;\n",
       "\n",
       "    this.supports_binary = this.ws.binaryType !== undefined;\n",
       "\n",
       "    if (!this.supports_binary) {\n",
       "        var warnings = document.getElementById('mpl-warnings');\n",
       "        if (warnings) {\n",
       "            warnings.style.display = 'block';\n",
       "            warnings.textContent =\n",
       "                'This browser does not support binary websocket messages. ' +\n",
       "                'Performance may be slow.';\n",
       "        }\n",
       "    }\n",
       "\n",
       "    this.imageObj = new Image();\n",
       "\n",
       "    this.context = undefined;\n",
       "    this.message = undefined;\n",
       "    this.canvas = undefined;\n",
       "    this.rubberband_canvas = undefined;\n",
       "    this.rubberband_context = undefined;\n",
       "    this.format_dropdown = undefined;\n",
       "\n",
       "    this.image_mode = 'full';\n",
       "\n",
       "    this.root = document.createElement('div');\n",
       "    this.root.setAttribute('style', 'display: inline-block');\n",
       "    this._root_extra_style(this.root);\n",
       "\n",
       "    parent_element.appendChild(this.root);\n",
       "\n",
       "    this._init_header(this);\n",
       "    this._init_canvas(this);\n",
       "    this._init_toolbar(this);\n",
       "\n",
       "    var fig = this;\n",
       "\n",
       "    this.waiting = false;\n",
       "\n",
       "    this.ws.onopen = function () {\n",
       "        fig.send_message('supports_binary', { value: fig.supports_binary });\n",
       "        fig.send_message('send_image_mode', {});\n",
       "        if (fig.ratio !== 1) {\n",
       "            fig.send_message('set_dpi_ratio', { dpi_ratio: fig.ratio });\n",
       "        }\n",
       "        fig.send_message('refresh', {});\n",
       "    };\n",
       "\n",
       "    this.imageObj.onload = function () {\n",
       "        if (fig.image_mode === 'full') {\n",
       "            // Full images could contain transparency (where diff images\n",
       "            // almost always do), so we need to clear the canvas so that\n",
       "            // there is no ghosting.\n",
       "            fig.context.clearRect(0, 0, fig.canvas.width, fig.canvas.height);\n",
       "        }\n",
       "        fig.context.drawImage(fig.imageObj, 0, 0);\n",
       "    };\n",
       "\n",
       "    this.imageObj.onunload = function () {\n",
       "        fig.ws.close();\n",
       "    };\n",
       "\n",
       "    this.ws.onmessage = this._make_on_message_function(this);\n",
       "\n",
       "    this.ondownload = ondownload;\n",
       "};\n",
       "\n",
       "mpl.figure.prototype._init_header = function () {\n",
       "    var titlebar = document.createElement('div');\n",
       "    titlebar.classList =\n",
       "        'ui-dialog-titlebar ui-widget-header ui-corner-all ui-helper-clearfix';\n",
       "    var titletext = document.createElement('div');\n",
       "    titletext.classList = 'ui-dialog-title';\n",
       "    titletext.setAttribute(\n",
       "        'style',\n",
       "        'width: 100%; text-align: center; padding: 3px;'\n",
       "    );\n",
       "    titlebar.appendChild(titletext);\n",
       "    this.root.appendChild(titlebar);\n",
       "    this.header = titletext;\n",
       "};\n",
       "\n",
       "mpl.figure.prototype._canvas_extra_style = function (_canvas_div) {};\n",
       "\n",
       "mpl.figure.prototype._root_extra_style = function (_canvas_div) {};\n",
       "\n",
       "mpl.figure.prototype._init_canvas = function () {\n",
       "    var fig = this;\n",
       "\n",
       "    var canvas_div = (this.canvas_div = document.createElement('div'));\n",
       "    canvas_div.setAttribute(\n",
       "        'style',\n",
       "        'border: 1px solid #ddd;' +\n",
       "            'box-sizing: content-box;' +\n",
       "            'clear: both;' +\n",
       "            'min-height: 1px;' +\n",
       "            'min-width: 1px;' +\n",
       "            'outline: 0;' +\n",
       "            'overflow: hidden;' +\n",
       "            'position: relative;' +\n",
       "            'resize: both;'\n",
       "    );\n",
       "\n",
       "    function on_keyboard_event_closure(name) {\n",
       "        return function (event) {\n",
       "            return fig.key_event(event, name);\n",
       "        };\n",
       "    }\n",
       "\n",
       "    canvas_div.addEventListener(\n",
       "        'keydown',\n",
       "        on_keyboard_event_closure('key_press')\n",
       "    );\n",
       "    canvas_div.addEventListener(\n",
       "        'keyup',\n",
       "        on_keyboard_event_closure('key_release')\n",
       "    );\n",
       "\n",
       "    this._canvas_extra_style(canvas_div);\n",
       "    this.root.appendChild(canvas_div);\n",
       "\n",
       "    var canvas = (this.canvas = document.createElement('canvas'));\n",
       "    canvas.classList.add('mpl-canvas');\n",
       "    canvas.setAttribute('style', 'box-sizing: content-box;');\n",
       "\n",
       "    this.context = canvas.getContext('2d');\n",
       "\n",
       "    var backingStore =\n",
       "        this.context.backingStorePixelRatio ||\n",
       "        this.context.webkitBackingStorePixelRatio ||\n",
       "        this.context.mozBackingStorePixelRatio ||\n",
       "        this.context.msBackingStorePixelRatio ||\n",
       "        this.context.oBackingStorePixelRatio ||\n",
       "        this.context.backingStorePixelRatio ||\n",
       "        1;\n",
       "\n",
       "    this.ratio = (window.devicePixelRatio || 1) / backingStore;\n",
       "\n",
       "    var rubberband_canvas = (this.rubberband_canvas = document.createElement(\n",
       "        'canvas'\n",
       "    ));\n",
       "    rubberband_canvas.setAttribute(\n",
       "        'style',\n",
       "        'box-sizing: content-box; position: absolute; left: 0; top: 0; z-index: 1;'\n",
       "    );\n",
       "\n",
       "    // Apply a ponyfill if ResizeObserver is not implemented by browser.\n",
       "    if (this.ResizeObserver === undefined) {\n",
       "        if (window.ResizeObserver !== undefined) {\n",
       "            this.ResizeObserver = window.ResizeObserver;\n",
       "        } else {\n",
       "            var obs = _JSXTOOLS_RESIZE_OBSERVER({});\n",
       "            this.ResizeObserver = obs.ResizeObserver;\n",
       "        }\n",
       "    }\n",
       "\n",
       "    this.resizeObserverInstance = new this.ResizeObserver(function (entries) {\n",
       "        var nentries = entries.length;\n",
       "        for (var i = 0; i < nentries; i++) {\n",
       "            var entry = entries[i];\n",
       "            var width, height;\n",
       "            if (entry.contentBoxSize) {\n",
       "                if (entry.contentBoxSize instanceof Array) {\n",
       "                    // Chrome 84 implements new version of spec.\n",
       "                    width = entry.contentBoxSize[0].inlineSize;\n",
       "                    height = entry.contentBoxSize[0].blockSize;\n",
       "                } else {\n",
       "                    // Firefox implements old version of spec.\n",
       "                    width = entry.contentBoxSize.inlineSize;\n",
       "                    height = entry.contentBoxSize.blockSize;\n",
       "                }\n",
       "            } else {\n",
       "                // Chrome <84 implements even older version of spec.\n",
       "                width = entry.contentRect.width;\n",
       "                height = entry.contentRect.height;\n",
       "            }\n",
       "\n",
       "            // Keep the size of the canvas and rubber band canvas in sync with\n",
       "            // the canvas container.\n",
       "            if (entry.devicePixelContentBoxSize) {\n",
       "                // Chrome 84 implements new version of spec.\n",
       "                canvas.setAttribute(\n",
       "                    'width',\n",
       "                    entry.devicePixelContentBoxSize[0].inlineSize\n",
       "                );\n",
       "                canvas.setAttribute(\n",
       "                    'height',\n",
       "                    entry.devicePixelContentBoxSize[0].blockSize\n",
       "                );\n",
       "            } else {\n",
       "                canvas.setAttribute('width', width * fig.ratio);\n",
       "                canvas.setAttribute('height', height * fig.ratio);\n",
       "            }\n",
       "            canvas.setAttribute(\n",
       "                'style',\n",
       "                'width: ' + width + 'px; height: ' + height + 'px;'\n",
       "            );\n",
       "\n",
       "            rubberband_canvas.setAttribute('width', width);\n",
       "            rubberband_canvas.setAttribute('height', height);\n",
       "\n",
       "            // And update the size in Python. We ignore the initial 0/0 size\n",
       "            // that occurs as the element is placed into the DOM, which should\n",
       "            // otherwise not happen due to the minimum size styling.\n",
       "            if (fig.ws.readyState == 1 && width != 0 && height != 0) {\n",
       "                fig.request_resize(width, height);\n",
       "            }\n",
       "        }\n",
       "    });\n",
       "    this.resizeObserverInstance.observe(canvas_div);\n",
       "\n",
       "    function on_mouse_event_closure(name) {\n",
       "        return function (event) {\n",
       "            return fig.mouse_event(event, name);\n",
       "        };\n",
       "    }\n",
       "\n",
       "    rubberband_canvas.addEventListener(\n",
       "        'mousedown',\n",
       "        on_mouse_event_closure('button_press')\n",
       "    );\n",
       "    rubberband_canvas.addEventListener(\n",
       "        'mouseup',\n",
       "        on_mouse_event_closure('button_release')\n",
       "    );\n",
       "    // Throttle sequential mouse events to 1 every 20ms.\n",
       "    rubberband_canvas.addEventListener(\n",
       "        'mousemove',\n",
       "        on_mouse_event_closure('motion_notify')\n",
       "    );\n",
       "\n",
       "    rubberband_canvas.addEventListener(\n",
       "        'mouseenter',\n",
       "        on_mouse_event_closure('figure_enter')\n",
       "    );\n",
       "    rubberband_canvas.addEventListener(\n",
       "        'mouseleave',\n",
       "        on_mouse_event_closure('figure_leave')\n",
       "    );\n",
       "\n",
       "    canvas_div.addEventListener('wheel', function (event) {\n",
       "        if (event.deltaY < 0) {\n",
       "            event.step = 1;\n",
       "        } else {\n",
       "            event.step = -1;\n",
       "        }\n",
       "        on_mouse_event_closure('scroll')(event);\n",
       "    });\n",
       "\n",
       "    canvas_div.appendChild(canvas);\n",
       "    canvas_div.appendChild(rubberband_canvas);\n",
       "\n",
       "    this.rubberband_context = rubberband_canvas.getContext('2d');\n",
       "    this.rubberband_context.strokeStyle = '#000000';\n",
       "\n",
       "    this._resize_canvas = function (width, height, forward) {\n",
       "        if (forward) {\n",
       "            canvas_div.style.width = width + 'px';\n",
       "            canvas_div.style.height = height + 'px';\n",
       "        }\n",
       "    };\n",
       "\n",
       "    // Disable right mouse context menu.\n",
       "    this.rubberband_canvas.addEventListener('contextmenu', function (_e) {\n",
       "        event.preventDefault();\n",
       "        return false;\n",
       "    });\n",
       "\n",
       "    function set_focus() {\n",
       "        canvas.focus();\n",
       "        canvas_div.focus();\n",
       "    }\n",
       "\n",
       "    window.setTimeout(set_focus, 100);\n",
       "};\n",
       "\n",
       "mpl.figure.prototype._init_toolbar = function () {\n",
       "    var fig = this;\n",
       "\n",
       "    var toolbar = document.createElement('div');\n",
       "    toolbar.classList = 'mpl-toolbar';\n",
       "    this.root.appendChild(toolbar);\n",
       "\n",
       "    function on_click_closure(name) {\n",
       "        return function (_event) {\n",
       "            return fig.toolbar_button_onclick(name);\n",
       "        };\n",
       "    }\n",
       "\n",
       "    function on_mouseover_closure(tooltip) {\n",
       "        return function (event) {\n",
       "            if (!event.currentTarget.disabled) {\n",
       "                return fig.toolbar_button_onmouseover(tooltip);\n",
       "            }\n",
       "        };\n",
       "    }\n",
       "\n",
       "    fig.buttons = {};\n",
       "    var buttonGroup = document.createElement('div');\n",
       "    buttonGroup.classList = 'mpl-button-group';\n",
       "    for (var toolbar_ind in mpl.toolbar_items) {\n",
       "        var name = mpl.toolbar_items[toolbar_ind][0];\n",
       "        var tooltip = mpl.toolbar_items[toolbar_ind][1];\n",
       "        var image = mpl.toolbar_items[toolbar_ind][2];\n",
       "        var method_name = mpl.toolbar_items[toolbar_ind][3];\n",
       "\n",
       "        if (!name) {\n",
       "            /* Instead of a spacer, we start a new button group. */\n",
       "            if (buttonGroup.hasChildNodes()) {\n",
       "                toolbar.appendChild(buttonGroup);\n",
       "            }\n",
       "            buttonGroup = document.createElement('div');\n",
       "            buttonGroup.classList = 'mpl-button-group';\n",
       "            continue;\n",
       "        }\n",
       "\n",
       "        var button = (fig.buttons[name] = document.createElement('button'));\n",
       "        button.classList = 'mpl-widget';\n",
       "        button.setAttribute('role', 'button');\n",
       "        button.setAttribute('aria-disabled', 'false');\n",
       "        button.addEventListener('click', on_click_closure(method_name));\n",
       "        button.addEventListener('mouseover', on_mouseover_closure(tooltip));\n",
       "\n",
       "        var icon_img = document.createElement('img');\n",
       "        icon_img.src = '_images/' + image + '.png';\n",
       "        icon_img.srcset = '_images/' + image + '_large.png 2x';\n",
       "        icon_img.alt = tooltip;\n",
       "        button.appendChild(icon_img);\n",
       "\n",
       "        buttonGroup.appendChild(button);\n",
       "    }\n",
       "\n",
       "    if (buttonGroup.hasChildNodes()) {\n",
       "        toolbar.appendChild(buttonGroup);\n",
       "    }\n",
       "\n",
       "    var fmt_picker = document.createElement('select');\n",
       "    fmt_picker.classList = 'mpl-widget';\n",
       "    toolbar.appendChild(fmt_picker);\n",
       "    this.format_dropdown = fmt_picker;\n",
       "\n",
       "    for (var ind in mpl.extensions) {\n",
       "        var fmt = mpl.extensions[ind];\n",
       "        var option = document.createElement('option');\n",
       "        option.selected = fmt === mpl.default_extension;\n",
       "        option.innerHTML = fmt;\n",
       "        fmt_picker.appendChild(option);\n",
       "    }\n",
       "\n",
       "    var status_bar = document.createElement('span');\n",
       "    status_bar.classList = 'mpl-message';\n",
       "    toolbar.appendChild(status_bar);\n",
       "    this.message = status_bar;\n",
       "};\n",
       "\n",
       "mpl.figure.prototype.request_resize = function (x_pixels, y_pixels) {\n",
       "    // Request matplotlib to resize the figure. Matplotlib will then trigger a resize in the client,\n",
       "    // which will in turn request a refresh of the image.\n",
       "    this.send_message('resize', { width: x_pixels, height: y_pixels });\n",
       "};\n",
       "\n",
       "mpl.figure.prototype.send_message = function (type, properties) {\n",
       "    properties['type'] = type;\n",
       "    properties['figure_id'] = this.id;\n",
       "    this.ws.send(JSON.stringify(properties));\n",
       "};\n",
       "\n",
       "mpl.figure.prototype.send_draw_message = function () {\n",
       "    if (!this.waiting) {\n",
       "        this.waiting = true;\n",
       "        this.ws.send(JSON.stringify({ type: 'draw', figure_id: this.id }));\n",
       "    }\n",
       "};\n",
       "\n",
       "mpl.figure.prototype.handle_save = function (fig, _msg) {\n",
       "    var format_dropdown = fig.format_dropdown;\n",
       "    var format = format_dropdown.options[format_dropdown.selectedIndex].value;\n",
       "    fig.ondownload(fig, format);\n",
       "};\n",
       "\n",
       "mpl.figure.prototype.handle_resize = function (fig, msg) {\n",
       "    var size = msg['size'];\n",
       "    if (size[0] !== fig.canvas.width || size[1] !== fig.canvas.height) {\n",
       "        fig._resize_canvas(size[0], size[1], msg['forward']);\n",
       "        fig.send_message('refresh', {});\n",
       "    }\n",
       "};\n",
       "\n",
       "mpl.figure.prototype.handle_rubberband = function (fig, msg) {\n",
       "    var x0 = msg['x0'] / fig.ratio;\n",
       "    var y0 = (fig.canvas.height - msg['y0']) / fig.ratio;\n",
       "    var x1 = msg['x1'] / fig.ratio;\n",
       "    var y1 = (fig.canvas.height - msg['y1']) / fig.ratio;\n",
       "    x0 = Math.floor(x0) + 0.5;\n",
       "    y0 = Math.floor(y0) + 0.5;\n",
       "    x1 = Math.floor(x1) + 0.5;\n",
       "    y1 = Math.floor(y1) + 0.5;\n",
       "    var min_x = Math.min(x0, x1);\n",
       "    var min_y = Math.min(y0, y1);\n",
       "    var width = Math.abs(x1 - x0);\n",
       "    var height = Math.abs(y1 - y0);\n",
       "\n",
       "    fig.rubberband_context.clearRect(\n",
       "        0,\n",
       "        0,\n",
       "        fig.canvas.width / fig.ratio,\n",
       "        fig.canvas.height / fig.ratio\n",
       "    );\n",
       "\n",
       "    fig.rubberband_context.strokeRect(min_x, min_y, width, height);\n",
       "};\n",
       "\n",
       "mpl.figure.prototype.handle_figure_label = function (fig, msg) {\n",
       "    // Updates the figure title.\n",
       "    fig.header.textContent = msg['label'];\n",
       "};\n",
       "\n",
       "mpl.figure.prototype.handle_cursor = function (fig, msg) {\n",
       "    var cursor = msg['cursor'];\n",
       "    switch (cursor) {\n",
       "        case 0:\n",
       "            cursor = 'pointer';\n",
       "            break;\n",
       "        case 1:\n",
       "            cursor = 'default';\n",
       "            break;\n",
       "        case 2:\n",
       "            cursor = 'crosshair';\n",
       "            break;\n",
       "        case 3:\n",
       "            cursor = 'move';\n",
       "            break;\n",
       "    }\n",
       "    fig.rubberband_canvas.style.cursor = cursor;\n",
       "};\n",
       "\n",
       "mpl.figure.prototype.handle_message = function (fig, msg) {\n",
       "    fig.message.textContent = msg['message'];\n",
       "};\n",
       "\n",
       "mpl.figure.prototype.handle_draw = function (fig, _msg) {\n",
       "    // Request the server to send over a new figure.\n",
       "    fig.send_draw_message();\n",
       "};\n",
       "\n",
       "mpl.figure.prototype.handle_image_mode = function (fig, msg) {\n",
       "    fig.image_mode = msg['mode'];\n",
       "};\n",
       "\n",
       "mpl.figure.prototype.handle_history_buttons = function (fig, msg) {\n",
       "    for (var key in msg) {\n",
       "        if (!(key in fig.buttons)) {\n",
       "            continue;\n",
       "        }\n",
       "        fig.buttons[key].disabled = !msg[key];\n",
       "        fig.buttons[key].setAttribute('aria-disabled', !msg[key]);\n",
       "    }\n",
       "};\n",
       "\n",
       "mpl.figure.prototype.handle_navigate_mode = function (fig, msg) {\n",
       "    if (msg['mode'] === 'PAN') {\n",
       "        fig.buttons['Pan'].classList.add('active');\n",
       "        fig.buttons['Zoom'].classList.remove('active');\n",
       "    } else if (msg['mode'] === 'ZOOM') {\n",
       "        fig.buttons['Pan'].classList.remove('active');\n",
       "        fig.buttons['Zoom'].classList.add('active');\n",
       "    } else {\n",
       "        fig.buttons['Pan'].classList.remove('active');\n",
       "        fig.buttons['Zoom'].classList.remove('active');\n",
       "    }\n",
       "};\n",
       "\n",
       "mpl.figure.prototype.updated_canvas_event = function () {\n",
       "    // Called whenever the canvas gets updated.\n",
       "    this.send_message('ack', {});\n",
       "};\n",
       "\n",
       "// A function to construct a web socket function for onmessage handling.\n",
       "// Called in the figure constructor.\n",
       "mpl.figure.prototype._make_on_message_function = function (fig) {\n",
       "    return function socket_on_message(evt) {\n",
       "        if (evt.data instanceof Blob) {\n",
       "            /* FIXME: We get \"Resource interpreted as Image but\n",
       "             * transferred with MIME type text/plain:\" errors on\n",
       "             * Chrome.  But how to set the MIME type?  It doesn't seem\n",
       "             * to be part of the websocket stream */\n",
       "            evt.data.type = 'image/png';\n",
       "\n",
       "            /* Free the memory for the previous frames */\n",
       "            if (fig.imageObj.src) {\n",
       "                (window.URL || window.webkitURL).revokeObjectURL(\n",
       "                    fig.imageObj.src\n",
       "                );\n",
       "            }\n",
       "\n",
       "            fig.imageObj.src = (window.URL || window.webkitURL).createObjectURL(\n",
       "                evt.data\n",
       "            );\n",
       "            fig.updated_canvas_event();\n",
       "            fig.waiting = false;\n",
       "            return;\n",
       "        } else if (\n",
       "            typeof evt.data === 'string' &&\n",
       "            evt.data.slice(0, 21) === 'data:image/png;base64'\n",
       "        ) {\n",
       "            fig.imageObj.src = evt.data;\n",
       "            fig.updated_canvas_event();\n",
       "            fig.waiting = false;\n",
       "            return;\n",
       "        }\n",
       "\n",
       "        var msg = JSON.parse(evt.data);\n",
       "        var msg_type = msg['type'];\n",
       "\n",
       "        // Call the  \"handle_{type}\" callback, which takes\n",
       "        // the figure and JSON message as its only arguments.\n",
       "        try {\n",
       "            var callback = fig['handle_' + msg_type];\n",
       "        } catch (e) {\n",
       "            console.log(\n",
       "                \"No handler for the '\" + msg_type + \"' message type: \",\n",
       "                msg\n",
       "            );\n",
       "            return;\n",
       "        }\n",
       "\n",
       "        if (callback) {\n",
       "            try {\n",
       "                // console.log(\"Handling '\" + msg_type + \"' message: \", msg);\n",
       "                callback(fig, msg);\n",
       "            } catch (e) {\n",
       "                console.log(\n",
       "                    \"Exception inside the 'handler_\" + msg_type + \"' callback:\",\n",
       "                    e,\n",
       "                    e.stack,\n",
       "                    msg\n",
       "                );\n",
       "            }\n",
       "        }\n",
       "    };\n",
       "};\n",
       "\n",
       "// from http://stackoverflow.com/questions/1114465/getting-mouse-location-in-canvas\n",
       "mpl.findpos = function (e) {\n",
       "    //this section is from http://www.quirksmode.org/js/events_properties.html\n",
       "    var targ;\n",
       "    if (!e) {\n",
       "        e = window.event;\n",
       "    }\n",
       "    if (e.target) {\n",
       "        targ = e.target;\n",
       "    } else if (e.srcElement) {\n",
       "        targ = e.srcElement;\n",
       "    }\n",
       "    if (targ.nodeType === 3) {\n",
       "        // defeat Safari bug\n",
       "        targ = targ.parentNode;\n",
       "    }\n",
       "\n",
       "    // pageX,Y are the mouse positions relative to the document\n",
       "    var boundingRect = targ.getBoundingClientRect();\n",
       "    var x = e.pageX - (boundingRect.left + document.body.scrollLeft);\n",
       "    var y = e.pageY - (boundingRect.top + document.body.scrollTop);\n",
       "\n",
       "    return { x: x, y: y };\n",
       "};\n",
       "\n",
       "/*\n",
       " * return a copy of an object with only non-object keys\n",
       " * we need this to avoid circular references\n",
       " * http://stackoverflow.com/a/24161582/3208463\n",
       " */\n",
       "function simpleKeys(original) {\n",
       "    return Object.keys(original).reduce(function (obj, key) {\n",
       "        if (typeof original[key] !== 'object') {\n",
       "            obj[key] = original[key];\n",
       "        }\n",
       "        return obj;\n",
       "    }, {});\n",
       "}\n",
       "\n",
       "mpl.figure.prototype.mouse_event = function (event, name) {\n",
       "    var canvas_pos = mpl.findpos(event);\n",
       "\n",
       "    if (name === 'button_press') {\n",
       "        this.canvas.focus();\n",
       "        this.canvas_div.focus();\n",
       "    }\n",
       "\n",
       "    var x = canvas_pos.x * this.ratio;\n",
       "    var y = canvas_pos.y * this.ratio;\n",
       "\n",
       "    this.send_message(name, {\n",
       "        x: x,\n",
       "        y: y,\n",
       "        button: event.button,\n",
       "        step: event.step,\n",
       "        guiEvent: simpleKeys(event),\n",
       "    });\n",
       "\n",
       "    /* This prevents the web browser from automatically changing to\n",
       "     * the text insertion cursor when the button is pressed.  We want\n",
       "     * to control all of the cursor setting manually through the\n",
       "     * 'cursor' event from matplotlib */\n",
       "    event.preventDefault();\n",
       "    return false;\n",
       "};\n",
       "\n",
       "mpl.figure.prototype._key_event_extra = function (_event, _name) {\n",
       "    // Handle any extra behaviour associated with a key event\n",
       "};\n",
       "\n",
       "mpl.figure.prototype.key_event = function (event, name) {\n",
       "    // Prevent repeat events\n",
       "    if (name === 'key_press') {\n",
       "        if (event.which === this._key) {\n",
       "            return;\n",
       "        } else {\n",
       "            this._key = event.which;\n",
       "        }\n",
       "    }\n",
       "    if (name === 'key_release') {\n",
       "        this._key = null;\n",
       "    }\n",
       "\n",
       "    var value = '';\n",
       "    if (event.ctrlKey && event.which !== 17) {\n",
       "        value += 'ctrl+';\n",
       "    }\n",
       "    if (event.altKey && event.which !== 18) {\n",
       "        value += 'alt+';\n",
       "    }\n",
       "    if (event.shiftKey && event.which !== 16) {\n",
       "        value += 'shift+';\n",
       "    }\n",
       "\n",
       "    value += 'k';\n",
       "    value += event.which.toString();\n",
       "\n",
       "    this._key_event_extra(event, name);\n",
       "\n",
       "    this.send_message(name, { key: value, guiEvent: simpleKeys(event) });\n",
       "    return false;\n",
       "};\n",
       "\n",
       "mpl.figure.prototype.toolbar_button_onclick = function (name) {\n",
       "    if (name === 'download') {\n",
       "        this.handle_save(this, null);\n",
       "    } else {\n",
       "        this.send_message('toolbar_button', { name: name });\n",
       "    }\n",
       "};\n",
       "\n",
       "mpl.figure.prototype.toolbar_button_onmouseover = function (tooltip) {\n",
       "    this.message.textContent = tooltip;\n",
       "};\n",
       "\n",
       "///////////////// REMAINING CONTENT GENERATED BY embed_js.py /////////////////\n",
       "// prettier-ignore\n",
       "var _JSXTOOLS_RESIZE_OBSERVER=function(A){var t,i=new WeakMap,n=new WeakMap,a=new WeakMap,r=new WeakMap,o=new Set;function s(e){if(!(this instanceof s))throw new TypeError(\"Constructor requires 'new' operator\");i.set(this,e)}function h(){throw new TypeError(\"Function is not a constructor\")}function c(e,t,i,n){e=0 in arguments?Number(arguments[0]):0,t=1 in arguments?Number(arguments[1]):0,i=2 in arguments?Number(arguments[2]):0,n=3 in arguments?Number(arguments[3]):0,this.right=(this.x=this.left=e)+(this.width=i),this.bottom=(this.y=this.top=t)+(this.height=n),Object.freeze(this)}function d(){t=requestAnimationFrame(d);var s=new WeakMap,p=new Set;o.forEach((function(t){r.get(t).forEach((function(i){var r=t instanceof window.SVGElement,o=a.get(t),d=r?0:parseFloat(o.paddingTop),f=r?0:parseFloat(o.paddingRight),l=r?0:parseFloat(o.paddingBottom),u=r?0:parseFloat(o.paddingLeft),g=r?0:parseFloat(o.borderTopWidth),m=r?0:parseFloat(o.borderRightWidth),w=r?0:parseFloat(o.borderBottomWidth),b=u+f,F=d+l,v=(r?0:parseFloat(o.borderLeftWidth))+m,W=g+w,y=r?0:t.offsetHeight-W-t.clientHeight,E=r?0:t.offsetWidth-v-t.clientWidth,R=b+v,z=F+W,M=r?t.width:parseFloat(o.width)-R-E,O=r?t.height:parseFloat(o.height)-z-y;if(n.has(t)){var k=n.get(t);if(k[0]===M&&k[1]===O)return}n.set(t,[M,O]);var S=Object.create(h.prototype);S.target=t,S.contentRect=new c(u,d,M,O),s.has(i)||(s.set(i,[]),p.add(i)),s.get(i).push(S)}))})),p.forEach((function(e){i.get(e).call(e,s.get(e),e)}))}return s.prototype.observe=function(i){if(i instanceof window.Element){r.has(i)||(r.set(i,new Set),o.add(i),a.set(i,window.getComputedStyle(i)));var n=r.get(i);n.has(this)||n.add(this),cancelAnimationFrame(t),t=requestAnimationFrame(d)}},s.prototype.unobserve=function(i){if(i instanceof window.Element&&r.has(i)){var n=r.get(i);n.has(this)&&(n.delete(this),n.size||(r.delete(i),o.delete(i))),n.size||r.delete(i),o.size||cancelAnimationFrame(t)}},A.DOMRectReadOnly=c,A.ResizeObserver=s,A.ResizeObserverEntry=h,A}; // eslint-disable-line\n",
       "mpl.toolbar_items = [[\"Home\", \"Reset original view\", \"fa fa-home icon-home\", \"home\"], [\"Back\", \"Back to previous view\", \"fa fa-arrow-left icon-arrow-left\", \"back\"], [\"Forward\", \"Forward to next view\", \"fa fa-arrow-right icon-arrow-right\", \"forward\"], [\"\", \"\", \"\", \"\"], [\"Pan\", \"Left button pans, Right button zooms\\nx/y fixes axis, CTRL fixes aspect\", \"fa fa-arrows icon-move\", \"pan\"], [\"Zoom\", \"Zoom to rectangle\\nx/y fixes axis, CTRL fixes aspect\", \"fa fa-square-o icon-check-empty\", \"zoom\"], [\"\", \"\", \"\", \"\"], [\"Download\", \"Download plot\", \"fa fa-floppy-o icon-save\", \"download\"]];\n",
       "\n",
       "mpl.extensions = [\"eps\", \"jpeg\", \"pdf\", \"png\", \"ps\", \"raw\", \"svg\", \"tif\"];\n",
       "\n",
       "mpl.default_extension = \"png\";/* global mpl */\n",
       "\n",
       "var comm_websocket_adapter = function (comm) {\n",
       "    // Create a \"websocket\"-like object which calls the given IPython comm\n",
       "    // object with the appropriate methods. Currently this is a non binary\n",
       "    // socket, so there is still some room for performance tuning.\n",
       "    var ws = {};\n",
       "\n",
       "    ws.close = function () {\n",
       "        comm.close();\n",
       "    };\n",
       "    ws.send = function (m) {\n",
       "        //console.log('sending', m);\n",
       "        comm.send(m);\n",
       "    };\n",
       "    // Register the callback with on_msg.\n",
       "    comm.on_msg(function (msg) {\n",
       "        //console.log('receiving', msg['content']['data'], msg);\n",
       "        // Pass the mpl event to the overridden (by mpl) onmessage function.\n",
       "        ws.onmessage(msg['content']['data']);\n",
       "    });\n",
       "    return ws;\n",
       "};\n",
       "\n",
       "mpl.mpl_figure_comm = function (comm, msg) {\n",
       "    // This is the function which gets called when the mpl process\n",
       "    // starts-up an IPython Comm through the \"matplotlib\" channel.\n",
       "\n",
       "    var id = msg.content.data.id;\n",
       "    // Get hold of the div created by the display call when the Comm\n",
       "    // socket was opened in Python.\n",
       "    var element = document.getElementById(id);\n",
       "    var ws_proxy = comm_websocket_adapter(comm);\n",
       "\n",
       "    function ondownload(figure, _format) {\n",
       "        window.open(figure.canvas.toDataURL());\n",
       "    }\n",
       "\n",
       "    var fig = new mpl.figure(id, ws_proxy, ondownload, element);\n",
       "\n",
       "    // Call onopen now - mpl needs it, as it is assuming we've passed it a real\n",
       "    // web socket which is closed, not our websocket->open comm proxy.\n",
       "    ws_proxy.onopen();\n",
       "\n",
       "    fig.parent_element = element;\n",
       "    fig.cell_info = mpl.find_output_cell(\"<div id='\" + id + \"'></div>\");\n",
       "    if (!fig.cell_info) {\n",
       "        console.error('Failed to find cell for figure', id, fig);\n",
       "        return;\n",
       "    }\n",
       "    fig.cell_info[0].output_area.element.on(\n",
       "        'cleared',\n",
       "        { fig: fig },\n",
       "        fig._remove_fig_handler\n",
       "    );\n",
       "};\n",
       "\n",
       "mpl.figure.prototype.handle_close = function (fig, msg) {\n",
       "    var width = fig.canvas.width / fig.ratio;\n",
       "    fig.cell_info[0].output_area.element.off(\n",
       "        'cleared',\n",
       "        fig._remove_fig_handler\n",
       "    );\n",
       "    fig.resizeObserverInstance.unobserve(fig.canvas_div);\n",
       "\n",
       "    // Update the output cell to use the data from the current canvas.\n",
       "    fig.push_to_output();\n",
       "    var dataURL = fig.canvas.toDataURL();\n",
       "    // Re-enable the keyboard manager in IPython - without this line, in FF,\n",
       "    // the notebook keyboard shortcuts fail.\n",
       "    IPython.keyboard_manager.enable();\n",
       "    fig.parent_element.innerHTML =\n",
       "        '<img src=\"' + dataURL + '\" width=\"' + width + '\">';\n",
       "    fig.close_ws(fig, msg);\n",
       "};\n",
       "\n",
       "mpl.figure.prototype.close_ws = function (fig, msg) {\n",
       "    fig.send_message('closing', msg);\n",
       "    // fig.ws.close()\n",
       "};\n",
       "\n",
       "mpl.figure.prototype.push_to_output = function (_remove_interactive) {\n",
       "    // Turn the data on the canvas into data in the output cell.\n",
       "    var width = this.canvas.width / this.ratio;\n",
       "    var dataURL = this.canvas.toDataURL();\n",
       "    this.cell_info[1]['text/html'] =\n",
       "        '<img src=\"' + dataURL + '\" width=\"' + width + '\">';\n",
       "};\n",
       "\n",
       "mpl.figure.prototype.updated_canvas_event = function () {\n",
       "    // Tell IPython that the notebook contents must change.\n",
       "    IPython.notebook.set_dirty(true);\n",
       "    this.send_message('ack', {});\n",
       "    var fig = this;\n",
       "    // Wait a second, then push the new image to the DOM so\n",
       "    // that it is saved nicely (might be nice to debounce this).\n",
       "    setTimeout(function () {\n",
       "        fig.push_to_output();\n",
       "    }, 1000);\n",
       "};\n",
       "\n",
       "mpl.figure.prototype._init_toolbar = function () {\n",
       "    var fig = this;\n",
       "\n",
       "    var toolbar = document.createElement('div');\n",
       "    toolbar.classList = 'btn-toolbar';\n",
       "    this.root.appendChild(toolbar);\n",
       "\n",
       "    function on_click_closure(name) {\n",
       "        return function (_event) {\n",
       "            return fig.toolbar_button_onclick(name);\n",
       "        };\n",
       "    }\n",
       "\n",
       "    function on_mouseover_closure(tooltip) {\n",
       "        return function (event) {\n",
       "            if (!event.currentTarget.disabled) {\n",
       "                return fig.toolbar_button_onmouseover(tooltip);\n",
       "            }\n",
       "        };\n",
       "    }\n",
       "\n",
       "    fig.buttons = {};\n",
       "    var buttonGroup = document.createElement('div');\n",
       "    buttonGroup.classList = 'btn-group';\n",
       "    var button;\n",
       "    for (var toolbar_ind in mpl.toolbar_items) {\n",
       "        var name = mpl.toolbar_items[toolbar_ind][0];\n",
       "        var tooltip = mpl.toolbar_items[toolbar_ind][1];\n",
       "        var image = mpl.toolbar_items[toolbar_ind][2];\n",
       "        var method_name = mpl.toolbar_items[toolbar_ind][3];\n",
       "\n",
       "        if (!name) {\n",
       "            /* Instead of a spacer, we start a new button group. */\n",
       "            if (buttonGroup.hasChildNodes()) {\n",
       "                toolbar.appendChild(buttonGroup);\n",
       "            }\n",
       "            buttonGroup = document.createElement('div');\n",
       "            buttonGroup.classList = 'btn-group';\n",
       "            continue;\n",
       "        }\n",
       "\n",
       "        button = fig.buttons[name] = document.createElement('button');\n",
       "        button.classList = 'btn btn-default';\n",
       "        button.href = '#';\n",
       "        button.title = name;\n",
       "        button.innerHTML = '<i class=\"fa ' + image + ' fa-lg\"></i>';\n",
       "        button.addEventListener('click', on_click_closure(method_name));\n",
       "        button.addEventListener('mouseover', on_mouseover_closure(tooltip));\n",
       "        buttonGroup.appendChild(button);\n",
       "    }\n",
       "\n",
       "    if (buttonGroup.hasChildNodes()) {\n",
       "        toolbar.appendChild(buttonGroup);\n",
       "    }\n",
       "\n",
       "    // Add the status bar.\n",
       "    var status_bar = document.createElement('span');\n",
       "    status_bar.classList = 'mpl-message pull-right';\n",
       "    toolbar.appendChild(status_bar);\n",
       "    this.message = status_bar;\n",
       "\n",
       "    // Add the close button to the window.\n",
       "    var buttongrp = document.createElement('div');\n",
       "    buttongrp.classList = 'btn-group inline pull-right';\n",
       "    button = document.createElement('button');\n",
       "    button.classList = 'btn btn-mini btn-primary';\n",
       "    button.href = '#';\n",
       "    button.title = 'Stop Interaction';\n",
       "    button.innerHTML = '<i class=\"fa fa-power-off icon-remove icon-large\"></i>';\n",
       "    button.addEventListener('click', function (_evt) {\n",
       "        fig.handle_close(fig, {});\n",
       "    });\n",
       "    button.addEventListener(\n",
       "        'mouseover',\n",
       "        on_mouseover_closure('Stop Interaction')\n",
       "    );\n",
       "    buttongrp.appendChild(button);\n",
       "    var titlebar = this.root.querySelector('.ui-dialog-titlebar');\n",
       "    titlebar.insertBefore(buttongrp, titlebar.firstChild);\n",
       "};\n",
       "\n",
       "mpl.figure.prototype._remove_fig_handler = function (event) {\n",
       "    var fig = event.data.fig;\n",
       "    if (event.target !== this) {\n",
       "        // Ignore bubbled events from children.\n",
       "        return;\n",
       "    }\n",
       "    fig.close_ws(fig, {});\n",
       "};\n",
       "\n",
       "mpl.figure.prototype._root_extra_style = function (el) {\n",
       "    el.style.boxSizing = 'content-box'; // override notebook setting of border-box.\n",
       "};\n",
       "\n",
       "mpl.figure.prototype._canvas_extra_style = function (el) {\n",
       "    // this is important to make the div 'focusable\n",
       "    el.setAttribute('tabindex', 0);\n",
       "    // reach out to IPython and tell the keyboard manager to turn it's self\n",
       "    // off when our div gets focus\n",
       "\n",
       "    // location in version 3\n",
       "    if (IPython.notebook.keyboard_manager) {\n",
       "        IPython.notebook.keyboard_manager.register_events(el);\n",
       "    } else {\n",
       "        // location in version 2\n",
       "        IPython.keyboard_manager.register_events(el);\n",
       "    }\n",
       "};\n",
       "\n",
       "mpl.figure.prototype._key_event_extra = function (event, _name) {\n",
       "    var manager = IPython.notebook.keyboard_manager;\n",
       "    if (!manager) {\n",
       "        manager = IPython.keyboard_manager;\n",
       "    }\n",
       "\n",
       "    // Check for shift+enter\n",
       "    if (event.shiftKey && event.which === 13) {\n",
       "        this.canvas_div.blur();\n",
       "        // select the cell after this one\n",
       "        var index = IPython.notebook.find_cell_index(this.cell_info[0]);\n",
       "        IPython.notebook.select(index + 1);\n",
       "    }\n",
       "};\n",
       "\n",
       "mpl.figure.prototype.handle_save = function (fig, _msg) {\n",
       "    fig.ondownload(fig, null);\n",
       "};\n",
       "\n",
       "mpl.find_output_cell = function (html_output) {\n",
       "    // Return the cell and output element which can be found *uniquely* in the notebook.\n",
       "    // Note - this is a bit hacky, but it is done because the \"notebook_saving.Notebook\"\n",
       "    // IPython event is triggered only after the cells have been serialised, which for\n",
       "    // our purposes (turning an active figure into a static one), is too late.\n",
       "    var cells = IPython.notebook.get_cells();\n",
       "    var ncells = cells.length;\n",
       "    for (var i = 0; i < ncells; i++) {\n",
       "        var cell = cells[i];\n",
       "        if (cell.cell_type === 'code') {\n",
       "            for (var j = 0; j < cell.output_area.outputs.length; j++) {\n",
       "                var data = cell.output_area.outputs[j];\n",
       "                if (data.data) {\n",
       "                    // IPython >= 3 moved mimebundle to data attribute of output\n",
       "                    data = data.data;\n",
       "                }\n",
       "                if (data['text/html'] === html_output) {\n",
       "                    return [cell, data, j];\n",
       "                }\n",
       "            }\n",
       "        }\n",
       "    }\n",
       "};\n",
       "\n",
       "// Register the function which deals with the matplotlib target/channel.\n",
       "// The kernel may be null if the page has been refreshed.\n",
       "if (IPython.notebook.kernel !== null) {\n",
       "    IPython.notebook.kernel.comm_manager.register_target(\n",
       "        'matplotlib',\n",
       "        mpl.mpl_figure_comm\n",
       "    );\n",
       "}\n"
      ],
      "text/plain": [
       "<IPython.core.display.Javascript object>"
      ]
     },
     "metadata": {},
     "output_type": "display_data"
    },
    {
     "data": {
      "text/html": [
       "<img src=\"data:image/png;base64,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\" width=\"1280\">"
      ],
      "text/plain": [
       "<IPython.core.display.HTML object>"
      ]
     },
     "metadata": {},
     "output_type": "display_data"
    }
   ],
   "source": [
    "%matplotlib notebook\n",
    "fig = plt.figure()\n",
    "ax1 = fig.add_subplot(111, projection='3d')\n",
    "\n",
    "ax1.scatter(Di_hw29_x,Di_hw29_y,Di_hw29_z, facecolor='g')\n",
    "ax1.scatter(Di_hw30_x,Di_hw30_y,Di_hw30_z, facecolor='g')\n",
    "ax1.scatter(Gi5_hw29_x,Gi5_hw29_y,Gi5_hw29_z, facecolor='g')\n",
    "ax1.scatter(Fi_hw29_x,Fi_hw29_y,Fi_hw29_z, facecolor='b')\n",
    "ax1.scatter(Sb_hw29_x,Sb_hw29_y,Sb_hw29_z, facecolor='m')\n",
    "ax1.scatter(Ma_fw29_x,Ma_fw29_y,Ma_fw29_z, facecolor='b')\n",
    "ax1.scatter(Ma_fw37_x,Ma_fw37_y,Ma_fw37_z, facecolor='b')\n",
    "ax1.scatter(Hu_fw37_x,Hu_fw37_y,Hu_fw37_z, facecolor='g')\n",
    "ax1.scatter(Hu_fw29_x,Hu_fw29_y,Hu_fw29_z, facecolor='g')\n",
    "ax1.scatter(Ka_fw29_x,Ka_fw29_y,Ka_fw29_z, facecolor='y')\n",
    "ax1.scatter(Ka_hw29_x,Ka_hw29_y,Ka_hw29_z, facecolor='y')\n",
    "ax1.scatter(ER_fw29_x,ER_fw29_y,ER_fw29_z, facecolor='m')\n",
    "ax1.scatter(Er_hw29_x,Er_hw29_y,Er_hw29_z, facecolor='m')\n",
    "ax1.scatter(Pr_hw30_x,Pr_hw30_y,Pr_hw30_z, facecolor='b')\n",
    "ax1.scatter(Mg_hw29_x,Mg_hw29_y,Mg_hw29_z, facecolor='g')\n",
    "ax1.scatter(Di_fw29_x,Di_fw29_y,Di_fw29_z, facecolor='g')\n",
    "ax1.scatter(So_fw29_x,So_fw29_y,So_fw29_z, facecolor='y')\n",
    "ax1.scatter(Gi5_fw29_x,Gi5_fw29_y,Gi5_fw29_z, facecolor='g')\n",
    "ax1.scatter(Pr_fw29_x,Pr_fw29_y,Pr_fw29_z, facecolor='b')\n",
    "ax1.scatter(Fi_fw29_x,Fi_fw29_y,Fi_fw29_z, facecolor='b')\n",
    "ax1.scatter(Mg_fw29_x,Mg_fw29_y,Mg_fw29_z, facecolor='g')\n",
    "ax1.scatter(Sb_fw29_x,Sb_fw29_y,Sb_fw29_z, facecolor='m')\n",
    "ax1.scatter(Hu_hw29_x,Hu_hw29_y,Hu_hw29_z, facecolor='g')\n",
    "ax1.scatter(La_fw29_x,La_fw29_y,La_fw29_z, facecolor='g')\n",
    "ax1.scatter(Gu_fw37_x,Gu_fw37_y,Gu_fw37_z, facecolor='m')\n",
    "ax1.scatter(Gufw29_x,Gufw29_y,Gufw29_z, facecolor='m')\n",
    "ax1.scatter(Ma_hw29_x,Ma_hw29_y,Ma_hw29_z, facecolor='b')\n",
    "ax1.scatter(Er_fw33_x,Er_fw33_y,Er_fw33_z, facecolor='m')\n",
    "ax1.scatter(Ka_fw33_x,Ka_fw33_y,Ka_fw33_z, facecolor='y')\n",
    "ax1.scatter(Fi_hw39_x,Fi_hw39_y,Fi_hw39_z, facecolor='b')\n",
    "ax1.scatter(Gi5_hw30_x,Gi5_hw30_y,Gi5_hw30_z, facecolor='g')\n",
    "ax1.scatter(So_hw29_x,So_hw29_y,So_hw29_z, facecolor='y')\n",
    "ax1.scatter(So_hw30_x,So_hw30_y,So_hw30_z, facecolor='y')\n",
    "ax1.scatter(Pr_hw29_x,Pr_hw29_y,Pr_hw29_z, facecolor='b')\n",
    "ax1.scatter(Er_hw30_x,Er_hw30_y,Er_hw30_z, facecolor='m')\n",
    "ax1.scatter(Zo8_fw29_x,Zo8_fw29_y,Zo8_fw29_z, facecolor='c')\n",
    "ax1.scatter(Zo8_hw29_x,Zo8_hw29_y,Zo8_hw29_z, facecolor='c')\n",
    "ax1.scatter(La_hw29_x,La_hw29_y,La_hw29_z, facecolor='g')\n",
    "ax1.scatter(Gu_hw29_x,Gu_hw29_y,Gu_hw29_z, facecolor='m')\n",
    "ax1.scatter(Ka_hw30_x,Ka_hw30_y,Ka_hw30_z, facecolor='y')\n",
    "ax1.scatter(Hf_x,Hf_y,Hf_z, facecolor='c')\n",
    "ax1.scatter(Wb_x,Wb_y,Wb_z, facecolor='y')\n",
    "\n",
    "ax1.scatter(f29_x,f29_y,f29_z, facecolor='k')\n",
    "ax1.scatter(f30_x,f30_y,f30_z, facecolor='k')\n",
    "ax1.scatter(f33_x,f33_y,f33_z, facecolor='k')\n",
    "ax1.scatter(f37_x,f37_y,f37_z, facecolor='k')\n",
    "ax1.scatter(f39_x,f39_y,f39_z, facecolor='k')\n",
    "\n",
    "#ax.scatter(f_x,f_y,f_z,c=np.linalg.norm([f_x,f_y,f_z], axis=0))\n",
    "fig_size = plt.gcf().get_size_inches() #Get current size\n",
    "sizefactor = 2 #Set a zoom factor\n",
    "# Modify the current size by the factor\n",
    "plt.gcf().set_size_inches(sizefactor * fig_size)"
   ]
  },
  {
   "cell_type": "code",
   "execution_count": 153,
   "metadata": {},
   "outputs": [
    {
     "data": {
      "image/png": "[encoded data removed]",
      "text/plain": [
       "<Figure size 864x576 with 2 Axes>"
      ]
     },
     "metadata": {
      "needs_background": "light"
     },
     "output_type": "display_data"
    }
   ],
   "source": [
    "%matplotlib inline\n",
    "im = plt.scatter(Di_hw29_x,Di_hw29_z) #,c=Di_hw29_y,cmap=\"gray\")\n",
    "im = plt.scatter(Di_hw30_x,Di_hw30_z) #,c=Di_hw30_y,cmap=\"gray\")\n",
    "im = plt.scatter(Gi5_hw29_x,Gi5_hw29_z) #,c=Gi5_hw29_y,cmap=\"gray\")\n",
    "im = plt.scatter(Fi_hw29_x,Fi_hw29_z)#,cmap=\"gray\")\n",
    "im = plt.scatter(Sb_hw29_x,Sb_hw29_z)#,cmap=\"gray\")\n",
    "im = plt.scatter(Ma_fw29_x,Ma_fw29_z)#,cmap=\"gray\")\n",
    "im = plt.scatter(Ma_fw37_x,Ma_fw37_z)#,cmap=\"gray\")\n",
    "im = plt.scatter(Hu_fw37_x,Hu_fw37_z)#,cmap=\"gray\")\n",
    "im = plt.scatter(Hu_fw29_x,Hu_fw29_z)#,cmap=\"gray\")\n",
    "im = plt.scatter(Ka_fw29_x,Ka_fw29_z)#,cmap=\"gray\")\n",
    "im = plt.scatter(Ka_hw29_x,Ka_hw29_z)#,cmap=\"gray\")\n",
    "im = plt.scatter(ER_fw29_x,ER_fw29_z)#,cmap=\"gray\")\n",
    "im = plt.scatter(Er_hw29_x,Er_hw29_z)#,cmap=\"gray\")\n",
    "im = plt.scatter(Pr_hw30_x,Pr_hw30_z)#,cmap=\"gray\")\n",
    "im = plt.scatter(Mg_hw29_x,Mg_hw29_z)#,cmap=\"gray\")\n",
    "im = plt.scatter(Di_fw29_x,Di_fw29_z)#,cmap=\"gray\")\n",
    "im = plt.scatter(So_fw29_x,So_fw29_z)#,cmap=\"gray\")\n",
    "im = plt.scatter(Gi5_fw29_x,Gi5_fw29_z)\n",
    "im = plt.scatter(Pr_fw29_x,Pr_fw29_z)\n",
    "im = plt.scatter(Fi_fw29_x,Fi_fw29_z)\n",
    "im = plt.scatter(Mg_fw29_x,Mg_fw29_z)\n",
    "im = plt.scatter(Sb_fw29_x,Sb_fw29_z)\n",
    "im = plt.scatter(Hu_hw29_x,Hu_hw29_z)\n",
    "im = plt.scatter(La_fw29_x,La_fw29_z)\n",
    "im = plt.scatter(Gu_fw37_x,Gu_fw37_z)\n",
    "im = plt.scatter(Gufw29_x,Gufw29_z)\n",
    "im = plt.scatter(Ma_hw29_x,Ma_hw29_z)\n",
    "im = plt.scatter(Er_fw33_x,Er_fw33_z)\n",
    "im = plt.scatter(Ka_fw33_x,Ka_fw33_z)\n",
    "im = plt.scatter(Fi_hw39_x,Fi_hw39_z)\n",
    "im = plt.scatter(Gi5_hw30_x,Gi5_hw30_z)\n",
    "im = plt.scatter(So_hw29_x,So_hw29_z)\n",
    "im = plt.scatter(So_hw30_x,So_hw30_z)\n",
    "im = plt.scatter(Pr_hw29_x,Pr_hw29_z)\n",
    "im = plt.scatter(Er_hw30_x,Er_hw30_z)\n",
    "im = plt.scatter(Zo8_fw29_x,Zo8_fw29_z)\n",
    "im = plt.scatter(Zo8_hw29_x,Zo8_hw29_z)\n",
    "im = plt.scatter(La_hw29_x,La_hw29_z)\n",
    "im = plt.scatter(Gu_hw29_x,Gu_hw29_z)\n",
    "im = plt.scatter(Ka_hw30_x,Ka_hw30_z)\n",
    "im = plt.scatter(Hf_x,Hf_z) #,c=Hf_y,cmap=\"gray\")\n",
    "im = plt.scatter(Wb_x,Wb_z) #,c=Wb_y,cmap=\"gray\")\n",
    "\n",
    "im = plt.scatter(f29_x,f29_z,c=f29_y,cmap=\"seismic\") #\n",
    "im = plt.scatter(f30_x,f30_z,c=f30_y,cmap=\"BrBG\")\n",
    "im = plt.scatter(f37_x,f37_z,c=f37_y,cmap=\"gray_r\")\n",
    "im = plt.scatter(f33_x,f33_z,c=f33_y,cmap=\"hsv\")\n",
    "im = plt.scatter(f39_x,f39_z,c=f39_y,cmap=\"hsv\")\n",
    "\n",
    "#im = plt.scatter(f_x,f_z,c=f_y,cmap=\"viridis\")\n",
    "plt.colorbar(im, label=\"y-values\")\n",
    "plt.xlabel(\"x\")\n",
    "plt.ylabel(\"z\");\n",
    "\n",
    "fig_size = plt.gcf().get_size_inches() #Get current size\n",
    "sizefactor = 2 #Set a zoom factor\n",
    "# Modify the current size by the factor\n",
    "plt.gcf().set_size_inches(sizefactor * fig_size); "
   ]
  },
  {
   "cell_type": "markdown",
   "metadata": {},
   "source": [
    "Here we are going to work on fault number 29 from the 4 faults we have on the cross-section."
   ]
  },
  {
   "cell_type": "code",
   "execution_count": 154,
   "metadata": {},
   "outputs": [
    {
     "data": {
      "image/png": "[encoded data removed]",
      "text/plain": [
       "<Figure size 864x576 with 2 Axes>"
      ]
     },
     "metadata": {
      "needs_background": "light"
     },
     "output_type": "display_data"
    }
   ],
   "source": [
    "%matplotlib inline\n",
    "im = plt.scatter(Di_hw29_x,Di_hw29_z) #,c=Di_hw29_y,cmap=\"gray\")\n",
    "im = plt.scatter(Di_hw30_x,Di_hw30_z) #,c=Di_hw30_y,cmap=\"gray\")\n",
    "im = plt.scatter(Gi5_hw29_x,Gi5_hw29_z) #,c=Gi5_hw29_y,cmap=\"gray\")\n",
    "im = plt.scatter(Fi_hw29_x,Fi_hw29_z)#,cmap=\"gray\")\n",
    "im = plt.scatter(Sb_hw29_x,Sb_hw29_z)#,cmap=\"gray\")\n",
    "im = plt.scatter(Ma_fw29_x,Ma_fw29_z)#,cmap=\"gray\")\n",
    "im = plt.scatter(Ma_fw37_x,Ma_fw37_z)#,cmap=\"gray\")\n",
    "im = plt.scatter(Hu_fw37_x,Hu_fw37_z)#,cmap=\"gray\")\n",
    "im = plt.scatter(Hu_fw29_x,Hu_fw29_z)#,cmap=\"gray\")\n",
    "im = plt.scatter(Ka_fw29_x,Ka_fw29_z)#,cmap=\"gray\")\n",
    "im = plt.scatter(Ka_hw29_x,Ka_hw29_z)#,cmap=\"gray\")\n",
    "im = plt.scatter(ER_fw29_x,ER_fw29_z)#,cmap=\"gray\")\n",
    "im = plt.scatter(Er_hw29_x,Er_hw29_z)#,cmap=\"gray\")\n",
    "im = plt.scatter(Pr_hw30_x,Pr_hw30_z)#,cmap=\"gray\")\n",
    "im = plt.scatter(Mg_hw29_x,Mg_hw29_z)#,cmap=\"gray\")\n",
    "im = plt.scatter(Di_fw29_x,Di_fw29_z)#,cmap=\"gray\")\n",
    "im = plt.scatter(So_fw29_x,So_fw29_z)#,cmap=\"gray\")\n",
    "im = plt.scatter(Gi5_fw29_x,Gi5_fw29_z)\n",
    "im = plt.scatter(Pr_fw29_x,Pr_fw29_z)\n",
    "im = plt.scatter(Fi_fw29_x,Fi_fw29_z)\n",
    "im = plt.scatter(Mg_fw29_x,Mg_fw29_z)\n",
    "im = plt.scatter(Sb_fw29_x,Sb_fw29_z)\n",
    "im = plt.scatter(Hu_hw29_x,Hu_hw29_z)\n",
    "im = plt.scatter(La_fw29_x,La_fw29_z)\n",
    "im = plt.scatter(Gu_fw37_x,Gu_fw37_z)\n",
    "im = plt.scatter(Gufw29_x,Gufw29_z)\n",
    "im = plt.scatter(Ma_hw29_x,Ma_hw29_z)\n",
    "im = plt.scatter(Er_fw33_x,Er_fw33_z)\n",
    "im = plt.scatter(Ka_fw33_x,Ka_fw33_z)\n",
    "im = plt.scatter(Fi_hw39_x,Fi_hw39_z)\n",
    "im = plt.scatter(Gi5_hw30_x,Gi5_hw30_z)\n",
    "im = plt.scatter(So_hw29_x,So_hw29_z)\n",
    "im = plt.scatter(So_hw30_x,So_hw30_z)\n",
    "im = plt.scatter(Pr_hw29_x,Pr_hw29_z)\n",
    "im = plt.scatter(Er_hw30_x,Er_hw30_z)\n",
    "im = plt.scatter(Zo8_fw29_x,Zo8_fw29_z)\n",
    "im = plt.scatter(Zo8_hw29_x,Zo8_hw29_z)\n",
    "im = plt.scatter(La_hw29_x,La_hw29_z)\n",
    "im = plt.scatter(Gu_hw29_x,Gu_hw29_z)\n",
    "im = plt.scatter(Ka_hw30_x,Ka_hw30_z)\n",
    "im = plt.scatter(Hf_x,Hf_z) #,c=Hf_y,cmap=\"gray\")\n",
    "im = plt.scatter(Wb_x,Wb_z) #,c=Wb_y,cmap=\"gray\")\n",
    "\n",
    "im = plt.scatter(f29_x,f29_z,c=f29_y,cmap=\"seismic\") #\n",
    "# im = plt.scatter(f30_x,f30_z,c=f30_y,cmap=\"BrBG\")\n",
    "# im = plt.scatter(f37_x,f37_z,c=f37_y,cmap=\"gray_r\")\n",
    "# im = plt.scatter(f33_x,f33_z,c=f33_y,cmap=\"hsv\")\n",
    "# im = plt.scatter(f39_x,f39_z,c=f39_y,cmap=\"hsv\")\n",
    "\n",
    "#im = plt.scatter(f_x,f_z,c=f_y,cmap=\"viridis\")\n",
    "plt.colorbar(im, label=\"y-values\")\n",
    "plt.xlabel(\"x\")\n",
    "plt.ylabel(\"z\");\n",
    "\n",
    "fig_size = plt.gcf().get_size_inches() #Get current size\n",
    "sizefactor = 2 #Set a zoom factor\n",
    "# Modify the current size by the factor\n",
    "plt.gcf().set_size_inches(sizefactor * fig_size); "
   ]
  },
  {
   "cell_type": "markdown",
   "metadata": {},
   "source": [
    "### 3. Displacement, Heave and Throw calculation"
   ]
  },
  {
   "cell_type": "markdown",
   "metadata": {},
   "source": [
    "#### Calculating the offests "
   ]
  },
  {
   "cell_type": "markdown",
   "metadata": {},
   "source": [
    "Calculating the heave, throw and displacement by creating functions. For example, the heave is the horizontal gap or overlap between the hanging wall “upthrown” and footwall “downthrown”, here we index the hanging wall and footwall in the “x” direction to get the first and last points. Second, we calculate the throw by getting the first and last points in the “z” direction. Finally, we calculate the displacement by using the right angle triangle equations."
   ]
  },
  {
   "cell_type": "markdown",
   "metadata": {},
   "source": [
    "![](https://i.imgur.com/LtzNtni.png)"
   ]
  },
  {
   "cell_type": "code",
   "execution_count": 155,
   "metadata": {},
   "outputs": [],
   "source": [
    "def heave(hw_x, fw_x):\n",
    "    heave_x = hw_x[0] - fw_x[-1]\n",
    "    \n",
    "    return heave_x"
   ]
  },
  {
   "cell_type": "code",
   "execution_count": 156,
   "metadata": {},
   "outputs": [],
   "source": [
    "def throw(hw_z, fw_z):\n",
    "    throw_z = hw_z[0] - fw_z[-1]\n",
    "    \n",
    "    return throw_z"
   ]
  },
  {
   "cell_type": "code",
   "execution_count": 157,
   "metadata": {},
   "outputs": [],
   "source": [
    "def displacement(heave, throw):\n",
    "    disp = math.sqrt((np.abs(heave)**2) + (np.abs(throw)**2))\n",
    "    \n",
    "    return disp  "
   ]
  },
  {
   "cell_type": "markdown",
   "metadata": {},
   "source": [
    "#### Offsets of horizon \"La\""
   ]
  },
  {
   "cell_type": "code",
   "execution_count": 158,
   "metadata": {},
   "outputs": [
    {
     "name": "stdout",
     "output_type": "stream",
     "text": [
      "Heave : -38\n",
      "Throw : 32\n",
      "Displacement : 50\n"
     ]
    }
   ],
   "source": [
    "Heave_y_La = heave(La_hw29_x, La_fw29_x)\n",
    "throw_z_La = throw(La_hw29_z, La_fw29_z)\n",
    "disp_z_La = displacement(Heave_y_La, throw_z_La)\n",
    "\n",
    "print('Heave :', round(Heave_y_La))\n",
    "print('Throw :', round(throw_z_La))\n",
    "print('Displacement :', round(disp_z_La))"
   ]
  },
  {
   "cell_type": "markdown",
   "metadata": {},
   "source": [
    "#### Offsets of horizon \"Gu\""
   ]
  },
  {
   "cell_type": "code",
   "execution_count": 159,
   "metadata": {},
   "outputs": [
    {
     "name": "stdout",
     "output_type": "stream",
     "text": [
      "Heave : 204\n",
      "Throw : 71\n",
      "Displacement : 216\n"
     ]
    }
   ],
   "source": [
    "Heave_y_Gu = heave(Gu_hw29_x, Gufw29_x)\n",
    "throw_z_Gu = throw(Gu_hw29_z, Gufw29_z)\n",
    "disp_z_Gu = displacement(Heave_y_Gu, throw_z_Gu)\n",
    "\n",
    "print('Heave :', round(Heave_y_Gu))\n",
    "print('Throw :', round(throw_z_Gu))\n",
    "print('Displacement :', round(disp_z_Gu))"
   ]
  },
  {
   "cell_type": "markdown",
   "metadata": {},
   "source": [
    "#### Offsets of horizon \"Ma\""
   ]
  },
  {
   "cell_type": "code",
   "execution_count": 160,
   "metadata": {},
   "outputs": [
    {
     "name": "stdout",
     "output_type": "stream",
     "text": [
      "Heave : 579\n",
      "Throw : 416\n",
      "Displacement : 713\n"
     ]
    }
   ],
   "source": [
    "Heave_y_Ma = heave(Ma_hw29_x, Ma_fw29_x)\n",
    "throw_z_Ma = throw(Ma_hw29_z, Ma_fw29_z)\n",
    "disp_z_Ma = displacement(Heave_y_Ma, throw_z_Ma)\n",
    "\n",
    "print('Heave :', round(Heave_y_Ma))\n",
    "print('Throw :', round(throw_z_Ma))\n",
    "print('Displacement :', round(disp_z_Ma))"
   ]
  },
  {
   "cell_type": "markdown",
   "metadata": {},
   "source": [
    "#### Offsets of horizon \"Hu\""
   ]
  },
  {
   "cell_type": "code",
   "execution_count": 161,
   "metadata": {},
   "outputs": [
    {
     "name": "stdout",
     "output_type": "stream",
     "text": [
      "Heave : 435\n",
      "Throw : 490\n",
      "Displacement : 655\n"
     ]
    }
   ],
   "source": [
    "Heave_x_Hu = heave(Hu_hw29_x, Hu_fw29_x)\n",
    "throw_z_Hu = throw(Hu_hw29_z, Hu_fw29_z)\n",
    "disp_z_Hu = displacement(Heave_x_Hu, throw_z_Hu)\n",
    "\n",
    "print('Heave :', round(Heave_x_Hu))\n",
    "print('Throw :', round(throw_z_Hu))\n",
    "print('Displacement :', round(disp_z_Hu))"
   ]
  },
  {
   "cell_type": "markdown",
   "metadata": {},
   "source": [
    "#### Offsets of horizon \"Ka\""
   ]
  },
  {
   "cell_type": "code",
   "execution_count": 162,
   "metadata": {},
   "outputs": [
    {
     "name": "stdout",
     "output_type": "stream",
     "text": [
      "Heave : -65\n",
      "Throw : 178\n",
      "Displacement : 189\n"
     ]
    }
   ],
   "source": [
    "Heave_y_Ka = heave(Ka_hw29_x, Ka_fw29_x)\n",
    "throw_z_Ka = throw(Ka_hw29_z, Ka_fw29_z)\n",
    "disp_z_Ka = displacement(Heave_y_Ka, throw_z_Ka)\n",
    "\n",
    "print('Heave :', round(Heave_y_Ka))\n",
    "print('Throw :', round(throw_z_Ka))\n",
    "print('Displacement :', round(disp_z_Ka))"
   ]
  },
  {
   "cell_type": "markdown",
   "metadata": {},
   "source": [
    "Note that the heave is negative value which mean that the heave is overlap not a gap."
   ]
  },
  {
   "cell_type": "markdown",
   "metadata": {},
   "source": [
    "#### Offsets of horizon \"Er\""
   ]
  },
  {
   "cell_type": "code",
   "execution_count": 163,
   "metadata": {},
   "outputs": [
    {
     "name": "stdout",
     "output_type": "stream",
     "text": [
      "Heave : -180\n",
      "Throw : 155\n",
      "Displacement : 238\n"
     ]
    }
   ],
   "source": [
    "Heave_y_Er = heave(ER_fw29_x, ER_fw29_x)\n",
    "throw_z_Er = throw(Er_hw29_z, ER_fw29_z)\n",
    "disp_z_Er = displacement(Heave_y_Er, throw_z_Er)\n",
    "\n",
    "print('Heave :', round(Heave_y_Er))\n",
    "print('Throw :', round(throw_z_Er))\n",
    "print('Displacement :', round(disp_z_Er))"
   ]
  },
  {
   "cell_type": "markdown",
   "metadata": {},
   "source": [
    "#### Offsets of horizon \"Pr\""
   ]
  },
  {
   "cell_type": "code",
   "execution_count": 164,
   "metadata": {},
   "outputs": [
    {
     "name": "stdout",
     "output_type": "stream",
     "text": [
      "Heave : -291\n",
      "Throw : 96\n",
      "Displacement : 306\n"
     ]
    }
   ],
   "source": [
    "Heave_y_Pr = heave(Pr_hw29_x, Pr_fw29_x)\n",
    "throw_z_Pr = throw(Pr_hw29_z, Pr_fw29_z)\n",
    "disp_z_Pr = displacement(Heave_y_Pr, throw_z_Pr)\n",
    "\n",
    "print('Heave :', round(Heave_y_Pr))\n",
    "print('Throw :', round(throw_z_Pr))\n",
    "print('Displacement :', round(disp_z_Pr))"
   ]
  },
  {
   "cell_type": "markdown",
   "metadata": {},
   "source": [
    "#### Offsets of horizon \"Di\""
   ]
  },
  {
   "cell_type": "code",
   "execution_count": 165,
   "metadata": {},
   "outputs": [
    {
     "name": "stdout",
     "output_type": "stream",
     "text": [
      "Heave : -295\n",
      "Throw : 36\n",
      "Displacement : 297\n"
     ]
    }
   ],
   "source": [
    "Heave_y_Di = heave(Di_hw29_x, Di_fw29_x)\n",
    "throw_z_Di = throw(Di_hw29_z, Di_fw29_z)\n",
    "disp_z_Di = displacement(Heave_y_Di, throw_z_Di)\n",
    "\n",
    "print('Heave :', round(Heave_y_Di))\n",
    "print('Throw :', round(throw_z_Di))\n",
    "print('Displacement :', round(disp_z_Di))"
   ]
  },
  {
   "cell_type": "markdown",
   "metadata": {},
   "source": [
    "#### Offsets of horizon \"So\""
   ]
  },
  {
   "cell_type": "code",
   "execution_count": 166,
   "metadata": {},
   "outputs": [
    {
     "name": "stdout",
     "output_type": "stream",
     "text": [
      "Heave : -117\n",
      "Throw : 166\n",
      "Displacement : 204\n"
     ]
    }
   ],
   "source": [
    "Heave_y_So = heave(So_hw29_x, So_fw29_x)\n",
    "throw_z_So = throw(So_hw29_z, So_fw29_z)\n",
    "disp_z_So = displacement(Heave_y_So, throw_z_So)\n",
    "\n",
    "print('Heave :', round(Heave_y_So))\n",
    "print('Throw :', round(throw_z_So))\n",
    "print('Displacement :', round(disp_z_So))"
   ]
  },
  {
   "cell_type": "markdown",
   "metadata": {},
   "source": [
    "#### Offsets of horizon \"Gi5\""
   ]
  },
  {
   "cell_type": "code",
   "execution_count": 167,
   "metadata": {},
   "outputs": [
    {
     "name": "stdout",
     "output_type": "stream",
     "text": [
      "Heave : -144\n",
      "Throw : 62\n",
      "Displacement : 157\n"
     ]
    }
   ],
   "source": [
    "Heave_y_Gi5 = heave(Gi5_hw29_x, Gi5_fw29_x)\n",
    "throw_z_Gi5 = throw(Gi5_hw29_z, Gi5_fw29_z)\n",
    "disp_z_Gi5 = displacement(Heave_y_Gi5, throw_z_Gi5)\n",
    "\n",
    "print('Heave :', round(Heave_y_Gi5))\n",
    "print('Throw :', round(throw_z_Gi5))\n",
    "print('Displacement :', round(disp_z_Gi5))"
   ]
  },
  {
   "cell_type": "markdown",
   "metadata": {},
   "source": [
    "#### Offsets of horizon \"Fi\""
   ]
  },
  {
   "cell_type": "code",
   "execution_count": 168,
   "metadata": {},
   "outputs": [
    {
     "name": "stdout",
     "output_type": "stream",
     "text": [
      "Heave : -183\n",
      "Throw : -22\n",
      "Displacement : 184\n"
     ]
    }
   ],
   "source": [
    "Heave_y_Fi = heave(Fi_hw29_x, Fi_fw29_x)\n",
    "throw_z_Fi = throw(Fi_hw29_z, Fi_fw29_z)\n",
    "disp_z_Fi = displacement(Heave_y_Fi, throw_z_Fi)\n",
    "\n",
    "print('Heave :', round(Heave_y_Fi))\n",
    "print('Throw :', round(throw_z_Fi))\n",
    "print('Displacement :', round(disp_z_Fi))"
   ]
  },
  {
   "cell_type": "markdown",
   "metadata": {},
   "source": [
    "#### Offsets of horizon \"Mg\""
   ]
  },
  {
   "cell_type": "code",
   "execution_count": 169,
   "metadata": {},
   "outputs": [
    {
     "name": "stdout",
     "output_type": "stream",
     "text": [
      "Heave : -325\n",
      "Throw : 4\n",
      "Displacement : 325\n"
     ]
    }
   ],
   "source": [
    "Heave_y_Mg = heave(Mg_hw29_x, Mg_fw29_x)\n",
    "throw_z_Mg = throw(Mg_hw29_z, Mg_fw29_z)\n",
    "disp_z_Mg = displacement(Heave_y_Mg, throw_z_Mg)\n",
    "\n",
    "print('Heave :', round(Heave_y_Mg))\n",
    "print('Throw :', round(throw_z_Mg))\n",
    "print('Displacement :', round(disp_z_Mg))"
   ]
  },
  {
   "cell_type": "markdown",
   "metadata": {},
   "source": [
    "#### Offsets of horizon \"Sb\""
   ]
  },
  {
   "cell_type": "code",
   "execution_count": 170,
   "metadata": {},
   "outputs": [
    {
     "name": "stdout",
     "output_type": "stream",
     "text": [
      "Heave : -206\n",
      "Throw : -110\n",
      "Displacement : 233\n"
     ]
    }
   ],
   "source": [
    "Heave_y_Sb = heave(Sb_hw29_x, Sb_fw29_x)\n",
    "throw_z_Sb = throw(Sb_hw29_z, Sb_fw29_z)\n",
    "disp_z_Sb = displacement(Heave_y_Sb, throw_z_Sb)\n",
    "\n",
    "print('Heave :', round(Heave_y_Sb))\n",
    "print('Throw :', round(throw_z_Sb))\n",
    "print('Displacement :', round(disp_z_Sb))"
   ]
  },
  {
   "cell_type": "markdown",
   "metadata": {},
   "source": [
    "#### Offsets of horizon \"So\""
   ]
  },
  {
   "cell_type": "code",
   "execution_count": 171,
   "metadata": {},
   "outputs": [
    {
     "name": "stdout",
     "output_type": "stream",
     "text": [
      "Heave : -117\n",
      "Throw : 166\n",
      "Displacement : 204\n"
     ]
    }
   ],
   "source": [
    "Heave_y_So = heave(So_hw29_x, So_fw29_x)\n",
    "throw_z_So = throw(So_hw29_z, So_fw29_z)\n",
    "disp_z_So = displacement(Heave_y_So, throw_z_So)\n",
    "\n",
    "print('Heave :', round(Heave_y_So))\n",
    "print('Throw :', round(throw_z_So))\n",
    "print('Displacement :', round(disp_z_So))"
   ]
  },
  {
   "cell_type": "markdown",
   "metadata": {},
   "source": [
    "### 4. Distance calculation"
   ]
  },
  {
   "cell_type": "markdown",
   "metadata": {},
   "source": [
    "Moreover, we calculate the distance from a reference point “RP” to the point adjust the fault on the hanging wall in the \"y\" direction. Then we apply this on all the horizons in the cross-section."
   ]
  },
  {
   "cell_type": "code",
   "execution_count": 172,
   "metadata": {},
   "outputs": [
    {
     "data": {
      "text/plain": [
       "5703368.2079"
      ]
     },
     "execution_count": 172,
     "metadata": {},
     "output_type": "execute_result"
    }
   ],
   "source": [
    "RP = f29_y[-1]\n",
    "RP"
   ]
  },
  {
   "cell_type": "code",
   "execution_count": 173,
   "metadata": {},
   "outputs": [],
   "source": [
    "dist_La = np.abs((RP) - (La_hw29_y[0]))\n",
    "dist_Gu = np.abs((RP) - (Gu_hw29_y[0]))\n",
    "dist_Ma = np.abs((RP) - (Ma_hw29_y[-1]))\n",
    "dist_Hu = np.abs((RP) - (Hu_hw29_y[-1]))\n",
    "dist_Ka = np.abs((RP) - (Ka_hw29_y[0]))\n",
    "dist_Er = np.abs((RP) - (Er_hw29_y[0]))\n",
    "dist_Pr = np.abs((RP) - (Pr_hw29_y[0]))\n",
    "dist_Di = np.abs((RP) - (Di_hw29_y[0]))\n",
    "dist_So = np.abs((RP) - (So_hw29_y[-1]))\n",
    "dist_Gi5 = np.abs((RP) - (Gi5_hw29_y[-1]))\n",
    "dist_Fi = np.abs((RP) - (Fi_hw29_y[0]))\n",
    "dist_Mg = np.abs((RP) - (Mg_hw29_y[0]))\n",
    "dist_Sb = np.abs((RP) - (Sb_hw29_y[0]))"
   ]
  },
  {
   "cell_type": "markdown",
   "metadata": {},
   "source": [
    "Let us check the values of Sb and La horizons."
   ]
  },
  {
   "cell_type": "code",
   "execution_count": 174,
   "metadata": {},
   "outputs": [
    {
     "data": {
      "text/plain": [
       "611.197100000456"
      ]
     },
     "execution_count": 174,
     "metadata": {},
     "output_type": "execute_result"
    }
   ],
   "source": [
    "dist_Sb"
   ]
  },
  {
   "cell_type": "code",
   "execution_count": 175,
   "metadata": {},
   "outputs": [
    {
     "data": {
      "text/plain": [
       "2932.7982000000775"
      ]
     },
     "execution_count": 175,
     "metadata": {},
     "output_type": "execute_result"
    }
   ],
   "source": [
    "dist_La"
   ]
  },
  {
   "cell_type": "markdown",
   "metadata": {},
   "source": [
    "### 5. Plotting the displacement distance profiles "
   ]
  },
  {
   "cell_type": "markdown",
   "metadata": {},
   "source": [
    "In order to plot the displacement distance profiles, we need to set a few user-defined parameters such as setting the upper and lower tips to zero and storing data points in a list."
   ]
  },
  {
   "cell_type": "code",
   "execution_count": 176,
   "metadata": {},
   "outputs": [],
   "source": [
    "upper_tip = 0\n",
    "lower_tip = 0\n",
    "fault_dist = np.abs((RP) -(f29_y[0]))"
   ]
  },
  {
   "cell_type": "code",
   "execution_count": 177,
   "metadata": {},
   "outputs": [
    {
     "data": {
      "text/plain": [
       "3038.5887000001967"
      ]
     },
     "execution_count": 177,
     "metadata": {},
     "output_type": "execute_result"
    }
   ],
   "source": [
    "fault_dist"
   ]
  },
  {
   "cell_type": "code",
   "execution_count": 178,
   "metadata": {},
   "outputs": [],
   "source": [
    "dist_f29 = [fault_dist,\n",
    "    dist_La ,\n",
    "    dist_Gu ,\n",
    "    dist_Ma ,\n",
    "    dist_Hu ,\n",
    "    dist_Ka ,\n",
    "    dist_Er ,\n",
    "    dist_Pr ,\n",
    "    dist_Di ,\n",
    "    dist_So ,\n",
    "    dist_Gi5 ,\n",
    "    dist_Fi ,\n",
    "    dist_Mg ,\n",
    "    dist_Sb,\n",
    "    upper_tip]"
   ]
  },
  {
   "cell_type": "code",
   "execution_count": 179,
   "metadata": {},
   "outputs": [],
   "source": [
    "disp_fault = [upper_tip,\n",
    "    disp_z_La ,\n",
    "    disp_z_Gu ,\n",
    "    disp_z_Ma ,\n",
    "    disp_z_Hu ,\n",
    "    disp_z_Ka ,\n",
    "    disp_z_Er ,\n",
    "    disp_z_Pr ,\n",
    "    disp_z_Di ,\n",
    "    disp_z_So ,\n",
    "    disp_z_Gi5 ,\n",
    "    disp_z_Fi ,\n",
    "    disp_z_Mg ,\n",
    "    disp_z_Sb,\n",
    "    lower_tip]"
   ]
  },
  {
   "cell_type": "code",
   "execution_count": 180,
   "metadata": {},
   "outputs": [
    {
     "data": {
      "text/plain": [
       "[0,\n",
       " 49.57985670864215,\n",
       " 216.27952541286197,\n",
       " 712.967016880551,\n",
       " 654.9954302058716,\n",
       " 189.07869181126108,\n",
       " 237.55792788676962,\n",
       " 306.4599377063059,\n",
       " 296.91229262250897,\n",
       " 203.6780927302792,\n",
       " 156.53848271769982,\n",
       " 184.25066051838544,\n",
       " 325.3943123485531,\n",
       " 233.24343562057751,\n",
       " 0]"
      ]
     },
     "execution_count": 180,
     "metadata": {},
     "output_type": "execute_result"
    }
   ],
   "source": [
    "disp_fault"
   ]
  },
  {
   "cell_type": "markdown",
   "metadata": {},
   "source": [
    "Finally, we visualised the displacement distance plots."
   ]
  },
  {
   "cell_type": "code",
   "execution_count": 181,
   "metadata": {},
   "outputs": [
    {
     "data": {
      "application/javascript": [
       "/* Put everything inside the global mpl namespace */\n",
       "/* global mpl */\n",
       "window.mpl = {};\n",
       "\n",
       "mpl.get_websocket_type = function () {\n",
       "    if (typeof WebSocket !== 'undefined') {\n",
       "        return WebSocket;\n",
       "    } else if (typeof MozWebSocket !== 'undefined') {\n",
       "        return MozWebSocket;\n",
       "    } else {\n",
       "        alert(\n",
       "            'Your browser does not have WebSocket support. ' +\n",
       "                'Please try Chrome, Safari or Firefox ≥ 6. ' +\n",
       "                'Firefox 4 and 5 are also supported but you ' +\n",
       "                'have to enable WebSockets in about:config.'\n",
       "        );\n",
       "    }\n",
       "};\n",
       "\n",
       "mpl.figure = function (figure_id, websocket, ondownload, parent_element) {\n",
       "    this.id = figure_id;\n",
       "\n",
       "    this.ws = websocket;\n",
       "\n",
       "    this.supports_binary = this.ws.binaryType !== undefined;\n",
       "\n",
       "    if (!this.supports_binary) {\n",
       "        var warnings = document.getElementById('mpl-warnings');\n",
       "        if (warnings) {\n",
       "            warnings.style.display = 'block';\n",
       "            warnings.textContent =\n",
       "                'This browser does not support binary websocket messages. ' +\n",
       "                'Performance may be slow.';\n",
       "        }\n",
       "    }\n",
       "\n",
       "    this.imageObj = new Image();\n",
       "\n",
       "    this.context = undefined;\n",
       "    this.message = undefined;\n",
       "    this.canvas = undefined;\n",
       "    this.rubberband_canvas = undefined;\n",
       "    this.rubberband_context = undefined;\n",
       "    this.format_dropdown = undefined;\n",
       "\n",
       "    this.image_mode = 'full';\n",
       "\n",
       "    this.root = document.createElement('div');\n",
       "    this.root.setAttribute('style', 'display: inline-block');\n",
       "    this._root_extra_style(this.root);\n",
       "\n",
       "    parent_element.appendChild(this.root);\n",
       "\n",
       "    this._init_header(this);\n",
       "    this._init_canvas(this);\n",
       "    this._init_toolbar(this);\n",
       "\n",
       "    var fig = this;\n",
       "\n",
       "    this.waiting = false;\n",
       "\n",
       "    this.ws.onopen = function () {\n",
       "        fig.send_message('supports_binary', { value: fig.supports_binary });\n",
       "        fig.send_message('send_image_mode', {});\n",
       "        if (fig.ratio !== 1) {\n",
       "            fig.send_message('set_dpi_ratio', { dpi_ratio: fig.ratio });\n",
       "        }\n",
       "        fig.send_message('refresh', {});\n",
       "    };\n",
       "\n",
       "    this.imageObj.onload = function () {\n",
       "        if (fig.image_mode === 'full') {\n",
       "            // Full images could contain transparency (where diff images\n",
       "            // almost always do), so we need to clear the canvas so that\n",
       "            // there is no ghosting.\n",
       "            fig.context.clearRect(0, 0, fig.canvas.width, fig.canvas.height);\n",
       "        }\n",
       "        fig.context.drawImage(fig.imageObj, 0, 0);\n",
       "    };\n",
       "\n",
       "    this.imageObj.onunload = function () {\n",
       "        fig.ws.close();\n",
       "    };\n",
       "\n",
       "    this.ws.onmessage = this._make_on_message_function(this);\n",
       "\n",
       "    this.ondownload = ondownload;\n",
       "};\n",
       "\n",
       "mpl.figure.prototype._init_header = function () {\n",
       "    var titlebar = document.createElement('div');\n",
       "    titlebar.classList =\n",
       "        'ui-dialog-titlebar ui-widget-header ui-corner-all ui-helper-clearfix';\n",
       "    var titletext = document.createElement('div');\n",
       "    titletext.classList = 'ui-dialog-title';\n",
       "    titletext.setAttribute(\n",
       "        'style',\n",
       "        'width: 100%; text-align: center; padding: 3px;'\n",
       "    );\n",
       "    titlebar.appendChild(titletext);\n",
       "    this.root.appendChild(titlebar);\n",
       "    this.header = titletext;\n",
       "};\n",
       "\n",
       "mpl.figure.prototype._canvas_extra_style = function (_canvas_div) {};\n",
       "\n",
       "mpl.figure.prototype._root_extra_style = function (_canvas_div) {};\n",
       "\n",
       "mpl.figure.prototype._init_canvas = function () {\n",
       "    var fig = this;\n",
       "\n",
       "    var canvas_div = (this.canvas_div = document.createElement('div'));\n",
       "    canvas_div.setAttribute(\n",
       "        'style',\n",
       "        'border: 1px solid #ddd;' +\n",
       "            'box-sizing: content-box;' +\n",
       "            'clear: both;' +\n",
       "            'min-height: 1px;' +\n",
       "            'min-width: 1px;' +\n",
       "            'outline: 0;' +\n",
       "            'overflow: hidden;' +\n",
       "            'position: relative;' +\n",
       "            'resize: both;'\n",
       "    );\n",
       "\n",
       "    function on_keyboard_event_closure(name) {\n",
       "        return function (event) {\n",
       "            return fig.key_event(event, name);\n",
       "        };\n",
       "    }\n",
       "\n",
       "    canvas_div.addEventListener(\n",
       "        'keydown',\n",
       "        on_keyboard_event_closure('key_press')\n",
       "    );\n",
       "    canvas_div.addEventListener(\n",
       "        'keyup',\n",
       "        on_keyboard_event_closure('key_release')\n",
       "    );\n",
       "\n",
       "    this._canvas_extra_style(canvas_div);\n",
       "    this.root.appendChild(canvas_div);\n",
       "\n",
       "    var canvas = (this.canvas = document.createElement('canvas'));\n",
       "    canvas.classList.add('mpl-canvas');\n",
       "    canvas.setAttribute('style', 'box-sizing: content-box;');\n",
       "\n",
       "    this.context = canvas.getContext('2d');\n",
       "\n",
       "    var backingStore =\n",
       "        this.context.backingStorePixelRatio ||\n",
       "        this.context.webkitBackingStorePixelRatio ||\n",
       "        this.context.mozBackingStorePixelRatio ||\n",
       "        this.context.msBackingStorePixelRatio ||\n",
       "        this.context.oBackingStorePixelRatio ||\n",
       "        this.context.backingStorePixelRatio ||\n",
       "        1;\n",
       "\n",
       "    this.ratio = (window.devicePixelRatio || 1) / backingStore;\n",
       "\n",
       "    var rubberband_canvas = (this.rubberband_canvas = document.createElement(\n",
       "        'canvas'\n",
       "    ));\n",
       "    rubberband_canvas.setAttribute(\n",
       "        'style',\n",
       "        'box-sizing: content-box; position: absolute; left: 0; top: 0; z-index: 1;'\n",
       "    );\n",
       "\n",
       "    // Apply a ponyfill if ResizeObserver is not implemented by browser.\n",
       "    if (this.ResizeObserver === undefined) {\n",
       "        if (window.ResizeObserver !== undefined) {\n",
       "            this.ResizeObserver = window.ResizeObserver;\n",
       "        } else {\n",
       "            var obs = _JSXTOOLS_RESIZE_OBSERVER({});\n",
       "            this.ResizeObserver = obs.ResizeObserver;\n",
       "        }\n",
       "    }\n",
       "\n",
       "    this.resizeObserverInstance = new this.ResizeObserver(function (entries) {\n",
       "        var nentries = entries.length;\n",
       "        for (var i = 0; i < nentries; i++) {\n",
       "            var entry = entries[i];\n",
       "            var width, height;\n",
       "            if (entry.contentBoxSize) {\n",
       "                if (entry.contentBoxSize instanceof Array) {\n",
       "                    // Chrome 84 implements new version of spec.\n",
       "                    width = entry.contentBoxSize[0].inlineSize;\n",
       "                    height = entry.contentBoxSize[0].blockSize;\n",
       "                } else {\n",
       "                    // Firefox implements old version of spec.\n",
       "                    width = entry.contentBoxSize.inlineSize;\n",
       "                    height = entry.contentBoxSize.blockSize;\n",
       "                }\n",
       "            } else {\n",
       "                // Chrome <84 implements even older version of spec.\n",
       "                width = entry.contentRect.width;\n",
       "                height = entry.contentRect.height;\n",
       "            }\n",
       "\n",
       "            // Keep the size of the canvas and rubber band canvas in sync with\n",
       "            // the canvas container.\n",
       "            if (entry.devicePixelContentBoxSize) {\n",
       "                // Chrome 84 implements new version of spec.\n",
       "                canvas.setAttribute(\n",
       "                    'width',\n",
       "                    entry.devicePixelContentBoxSize[0].inlineSize\n",
       "                );\n",
       "                canvas.setAttribute(\n",
       "                    'height',\n",
       "                    entry.devicePixelContentBoxSize[0].blockSize\n",
       "                );\n",
       "            } else {\n",
       "                canvas.setAttribute('width', width * fig.ratio);\n",
       "                canvas.setAttribute('height', height * fig.ratio);\n",
       "            }\n",
       "            canvas.setAttribute(\n",
       "                'style',\n",
       "                'width: ' + width + 'px; height: ' + height + 'px;'\n",
       "            );\n",
       "\n",
       "            rubberband_canvas.setAttribute('width', width);\n",
       "            rubberband_canvas.setAttribute('height', height);\n",
       "\n",
       "            // And update the size in Python. We ignore the initial 0/0 size\n",
       "            // that occurs as the element is placed into the DOM, which should\n",
       "            // otherwise not happen due to the minimum size styling.\n",
       "            if (fig.ws.readyState == 1 && width != 0 && height != 0) {\n",
       "                fig.request_resize(width, height);\n",
       "            }\n",
       "        }\n",
       "    });\n",
       "    this.resizeObserverInstance.observe(canvas_div);\n",
       "\n",
       "    function on_mouse_event_closure(name) {\n",
       "        return function (event) {\n",
       "            return fig.mouse_event(event, name);\n",
       "        };\n",
       "    }\n",
       "\n",
       "    rubberband_canvas.addEventListener(\n",
       "        'mousedown',\n",
       "        on_mouse_event_closure('button_press')\n",
       "    );\n",
       "    rubberband_canvas.addEventListener(\n",
       "        'mouseup',\n",
       "        on_mouse_event_closure('button_release')\n",
       "    );\n",
       "    // Throttle sequential mouse events to 1 every 20ms.\n",
       "    rubberband_canvas.addEventListener(\n",
       "        'mousemove',\n",
       "        on_mouse_event_closure('motion_notify')\n",
       "    );\n",
       "\n",
       "    rubberband_canvas.addEventListener(\n",
       "        'mouseenter',\n",
       "        on_mouse_event_closure('figure_enter')\n",
       "    );\n",
       "    rubberband_canvas.addEventListener(\n",
       "        'mouseleave',\n",
       "        on_mouse_event_closure('figure_leave')\n",
       "    );\n",
       "\n",
       "    canvas_div.addEventListener('wheel', function (event) {\n",
       "        if (event.deltaY < 0) {\n",
       "            event.step = 1;\n",
       "        } else {\n",
       "            event.step = -1;\n",
       "        }\n",
       "        on_mouse_event_closure('scroll')(event);\n",
       "    });\n",
       "\n",
       "    canvas_div.appendChild(canvas);\n",
       "    canvas_div.appendChild(rubberband_canvas);\n",
       "\n",
       "    this.rubberband_context = rubberband_canvas.getContext('2d');\n",
       "    this.rubberband_context.strokeStyle = '#000000';\n",
       "\n",
       "    this._resize_canvas = function (width, height, forward) {\n",
       "        if (forward) {\n",
       "            canvas_div.style.width = width + 'px';\n",
       "            canvas_div.style.height = height + 'px';\n",
       "        }\n",
       "    };\n",
       "\n",
       "    // Disable right mouse context menu.\n",
       "    this.rubberband_canvas.addEventListener('contextmenu', function (_e) {\n",
       "        event.preventDefault();\n",
       "        return false;\n",
       "    });\n",
       "\n",
       "    function set_focus() {\n",
       "        canvas.focus();\n",
       "        canvas_div.focus();\n",
       "    }\n",
       "\n",
       "    window.setTimeout(set_focus, 100);\n",
       "};\n",
       "\n",
       "mpl.figure.prototype._init_toolbar = function () {\n",
       "    var fig = this;\n",
       "\n",
       "    var toolbar = document.createElement('div');\n",
       "    toolbar.classList = 'mpl-toolbar';\n",
       "    this.root.appendChild(toolbar);\n",
       "\n",
       "    function on_click_closure(name) {\n",
       "        return function (_event) {\n",
       "            return fig.toolbar_button_onclick(name);\n",
       "        };\n",
       "    }\n",
       "\n",
       "    function on_mouseover_closure(tooltip) {\n",
       "        return function (event) {\n",
       "            if (!event.currentTarget.disabled) {\n",
       "                return fig.toolbar_button_onmouseover(tooltip);\n",
       "            }\n",
       "        };\n",
       "    }\n",
       "\n",
       "    fig.buttons = {};\n",
       "    var buttonGroup = document.createElement('div');\n",
       "    buttonGroup.classList = 'mpl-button-group';\n",
       "    for (var toolbar_ind in mpl.toolbar_items) {\n",
       "        var name = mpl.toolbar_items[toolbar_ind][0];\n",
       "        var tooltip = mpl.toolbar_items[toolbar_ind][1];\n",
       "        var image = mpl.toolbar_items[toolbar_ind][2];\n",
       "        var method_name = mpl.toolbar_items[toolbar_ind][3];\n",
       "\n",
       "        if (!name) {\n",
       "            /* Instead of a spacer, we start a new button group. */\n",
       "            if (buttonGroup.hasChildNodes()) {\n",
       "                toolbar.appendChild(buttonGroup);\n",
       "            }\n",
       "            buttonGroup = document.createElement('div');\n",
       "            buttonGroup.classList = 'mpl-button-group';\n",
       "            continue;\n",
       "        }\n",
       "\n",
       "        var button = (fig.buttons[name] = document.createElement('button'));\n",
       "        button.classList = 'mpl-widget';\n",
       "        button.setAttribute('role', 'button');\n",
       "        button.setAttribute('aria-disabled', 'false');\n",
       "        button.addEventListener('click', on_click_closure(method_name));\n",
       "        button.addEventListener('mouseover', on_mouseover_closure(tooltip));\n",
       "\n",
       "        var icon_img = document.createElement('img');\n",
       "        icon_img.src = '_images/' + image + '.png';\n",
       "        icon_img.srcset = '_images/' + image + '_large.png 2x';\n",
       "        icon_img.alt = tooltip;\n",
       "        button.appendChild(icon_img);\n",
       "\n",
       "        buttonGroup.appendChild(button);\n",
       "    }\n",
       "\n",
       "    if (buttonGroup.hasChildNodes()) {\n",
       "        toolbar.appendChild(buttonGroup);\n",
       "    }\n",
       "\n",
       "    var fmt_picker = document.createElement('select');\n",
       "    fmt_picker.classList = 'mpl-widget';\n",
       "    toolbar.appendChild(fmt_picker);\n",
       "    this.format_dropdown = fmt_picker;\n",
       "\n",
       "    for (var ind in mpl.extensions) {\n",
       "        var fmt = mpl.extensions[ind];\n",
       "        var option = document.createElement('option');\n",
       "        option.selected = fmt === mpl.default_extension;\n",
       "        option.innerHTML = fmt;\n",
       "        fmt_picker.appendChild(option);\n",
       "    }\n",
       "\n",
       "    var status_bar = document.createElement('span');\n",
       "    status_bar.classList = 'mpl-message';\n",
       "    toolbar.appendChild(status_bar);\n",
       "    this.message = status_bar;\n",
       "};\n",
       "\n",
       "mpl.figure.prototype.request_resize = function (x_pixels, y_pixels) {\n",
       "    // Request matplotlib to resize the figure. Matplotlib will then trigger a resize in the client,\n",
       "    // which will in turn request a refresh of the image.\n",
       "    this.send_message('resize', { width: x_pixels, height: y_pixels });\n",
       "};\n",
       "\n",
       "mpl.figure.prototype.send_message = function (type, properties) {\n",
       "    properties['type'] = type;\n",
       "    properties['figure_id'] = this.id;\n",
       "    this.ws.send(JSON.stringify(properties));\n",
       "};\n",
       "\n",
       "mpl.figure.prototype.send_draw_message = function () {\n",
       "    if (!this.waiting) {\n",
       "        this.waiting = true;\n",
       "        this.ws.send(JSON.stringify({ type: 'draw', figure_id: this.id }));\n",
       "    }\n",
       "};\n",
       "\n",
       "mpl.figure.prototype.handle_save = function (fig, _msg) {\n",
       "    var format_dropdown = fig.format_dropdown;\n",
       "    var format = format_dropdown.options[format_dropdown.selectedIndex].value;\n",
       "    fig.ondownload(fig, format);\n",
       "};\n",
       "\n",
       "mpl.figure.prototype.handle_resize = function (fig, msg) {\n",
       "    var size = msg['size'];\n",
       "    if (size[0] !== fig.canvas.width || size[1] !== fig.canvas.height) {\n",
       "        fig._resize_canvas(size[0], size[1], msg['forward']);\n",
       "        fig.send_message('refresh', {});\n",
       "    }\n",
       "};\n",
       "\n",
       "mpl.figure.prototype.handle_rubberband = function (fig, msg) {\n",
       "    var x0 = msg['x0'] / fig.ratio;\n",
       "    var y0 = (fig.canvas.height - msg['y0']) / fig.ratio;\n",
       "    var x1 = msg['x1'] / fig.ratio;\n",
       "    var y1 = (fig.canvas.height - msg['y1']) / fig.ratio;\n",
       "    x0 = Math.floor(x0) + 0.5;\n",
       "    y0 = Math.floor(y0) + 0.5;\n",
       "    x1 = Math.floor(x1) + 0.5;\n",
       "    y1 = Math.floor(y1) + 0.5;\n",
       "    var min_x = Math.min(x0, x1);\n",
       "    var min_y = Math.min(y0, y1);\n",
       "    var width = Math.abs(x1 - x0);\n",
       "    var height = Math.abs(y1 - y0);\n",
       "\n",
       "    fig.rubberband_context.clearRect(\n",
       "        0,\n",
       "        0,\n",
       "        fig.canvas.width / fig.ratio,\n",
       "        fig.canvas.height / fig.ratio\n",
       "    );\n",
       "\n",
       "    fig.rubberband_context.strokeRect(min_x, min_y, width, height);\n",
       "};\n",
       "\n",
       "mpl.figure.prototype.handle_figure_label = function (fig, msg) {\n",
       "    // Updates the figure title.\n",
       "    fig.header.textContent = msg['label'];\n",
       "};\n",
       "\n",
       "mpl.figure.prototype.handle_cursor = function (fig, msg) {\n",
       "    var cursor = msg['cursor'];\n",
       "    switch (cursor) {\n",
       "        case 0:\n",
       "            cursor = 'pointer';\n",
       "            break;\n",
       "        case 1:\n",
       "            cursor = 'default';\n",
       "            break;\n",
       "        case 2:\n",
       "            cursor = 'crosshair';\n",
       "            break;\n",
       "        case 3:\n",
       "            cursor = 'move';\n",
       "            break;\n",
       "    }\n",
       "    fig.rubberband_canvas.style.cursor = cursor;\n",
       "};\n",
       "\n",
       "mpl.figure.prototype.handle_message = function (fig, msg) {\n",
       "    fig.message.textContent = msg['message'];\n",
       "};\n",
       "\n",
       "mpl.figure.prototype.handle_draw = function (fig, _msg) {\n",
       "    // Request the server to send over a new figure.\n",
       "    fig.send_draw_message();\n",
       "};\n",
       "\n",
       "mpl.figure.prototype.handle_image_mode = function (fig, msg) {\n",
       "    fig.image_mode = msg['mode'];\n",
       "};\n",
       "\n",
       "mpl.figure.prototype.handle_history_buttons = function (fig, msg) {\n",
       "    for (var key in msg) {\n",
       "        if (!(key in fig.buttons)) {\n",
       "            continue;\n",
       "        }\n",
       "        fig.buttons[key].disabled = !msg[key];\n",
       "        fig.buttons[key].setAttribute('aria-disabled', !msg[key]);\n",
       "    }\n",
       "};\n",
       "\n",
       "mpl.figure.prototype.handle_navigate_mode = function (fig, msg) {\n",
       "    if (msg['mode'] === 'PAN') {\n",
       "        fig.buttons['Pan'].classList.add('active');\n",
       "        fig.buttons['Zoom'].classList.remove('active');\n",
       "    } else if (msg['mode'] === 'ZOOM') {\n",
       "        fig.buttons['Pan'].classList.remove('active');\n",
       "        fig.buttons['Zoom'].classList.add('active');\n",
       "    } else {\n",
       "        fig.buttons['Pan'].classList.remove('active');\n",
       "        fig.buttons['Zoom'].classList.remove('active');\n",
       "    }\n",
       "};\n",
       "\n",
       "mpl.figure.prototype.updated_canvas_event = function () {\n",
       "    // Called whenever the canvas gets updated.\n",
       "    this.send_message('ack', {});\n",
       "};\n",
       "\n",
       "// A function to construct a web socket function for onmessage handling.\n",
       "// Called in the figure constructor.\n",
       "mpl.figure.prototype._make_on_message_function = function (fig) {\n",
       "    return function socket_on_message(evt) {\n",
       "        if (evt.data instanceof Blob) {\n",
       "            /* FIXME: We get \"Resource interpreted as Image but\n",
       "             * transferred with MIME type text/plain:\" errors on\n",
       "             * Chrome.  But how to set the MIME type?  It doesn't seem\n",
       "             * to be part of the websocket stream */\n",
       "            evt.data.type = 'image/png';\n",
       "\n",
       "            /* Free the memory for the previous frames */\n",
       "            if (fig.imageObj.src) {\n",
       "                (window.URL || window.webkitURL).revokeObjectURL(\n",
       "                    fig.imageObj.src\n",
       "                );\n",
       "            }\n",
       "\n",
       "            fig.imageObj.src = (window.URL || window.webkitURL).createObjectURL(\n",
       "                evt.data\n",
       "            );\n",
       "            fig.updated_canvas_event();\n",
       "            fig.waiting = false;\n",
       "            return;\n",
       "        } else if (\n",
       "            typeof evt.data === 'string' &&\n",
       "            evt.data.slice(0, 21) === 'data:image/png;base64'\n",
       "        ) {\n",
       "            fig.imageObj.src = evt.data;\n",
       "            fig.updated_canvas_event();\n",
       "            fig.waiting = false;\n",
       "            return;\n",
       "        }\n",
       "\n",
       "        var msg = JSON.parse(evt.data);\n",
       "        var msg_type = msg['type'];\n",
       "\n",
       "        // Call the  \"handle_{type}\" callback, which takes\n",
       "        // the figure and JSON message as its only arguments.\n",
       "        try {\n",
       "            var callback = fig['handle_' + msg_type];\n",
       "        } catch (e) {\n",
       "            console.log(\n",
       "                \"No handler for the '\" + msg_type + \"' message type: \",\n",
       "                msg\n",
       "            );\n",
       "            return;\n",
       "        }\n",
       "\n",
       "        if (callback) {\n",
       "            try {\n",
       "                // console.log(\"Handling '\" + msg_type + \"' message: \", msg);\n",
       "                callback(fig, msg);\n",
       "            } catch (e) {\n",
       "                console.log(\n",
       "                    \"Exception inside the 'handler_\" + msg_type + \"' callback:\",\n",
       "                    e,\n",
       "                    e.stack,\n",
       "                    msg\n",
       "                );\n",
       "            }\n",
       "        }\n",
       "    };\n",
       "};\n",
       "\n",
       "// from http://stackoverflow.com/questions/1114465/getting-mouse-location-in-canvas\n",
       "mpl.findpos = function (e) {\n",
       "    //this section is from http://www.quirksmode.org/js/events_properties.html\n",
       "    var targ;\n",
       "    if (!e) {\n",
       "        e = window.event;\n",
       "    }\n",
       "    if (e.target) {\n",
       "        targ = e.target;\n",
       "    } else if (e.srcElement) {\n",
       "        targ = e.srcElement;\n",
       "    }\n",
       "    if (targ.nodeType === 3) {\n",
       "        // defeat Safari bug\n",
       "        targ = targ.parentNode;\n",
       "    }\n",
       "\n",
       "    // pageX,Y are the mouse positions relative to the document\n",
       "    var boundingRect = targ.getBoundingClientRect();\n",
       "    var x = e.pageX - (boundingRect.left + document.body.scrollLeft);\n",
       "    var y = e.pageY - (boundingRect.top + document.body.scrollTop);\n",
       "\n",
       "    return { x: x, y: y };\n",
       "};\n",
       "\n",
       "/*\n",
       " * return a copy of an object with only non-object keys\n",
       " * we need this to avoid circular references\n",
       " * http://stackoverflow.com/a/24161582/3208463\n",
       " */\n",
       "function simpleKeys(original) {\n",
       "    return Object.keys(original).reduce(function (obj, key) {\n",
       "        if (typeof original[key] !== 'object') {\n",
       "            obj[key] = original[key];\n",
       "        }\n",
       "        return obj;\n",
       "    }, {});\n",
       "}\n",
       "\n",
       "mpl.figure.prototype.mouse_event = function (event, name) {\n",
       "    var canvas_pos = mpl.findpos(event);\n",
       "\n",
       "    if (name === 'button_press') {\n",
       "        this.canvas.focus();\n",
       "        this.canvas_div.focus();\n",
       "    }\n",
       "\n",
       "    var x = canvas_pos.x * this.ratio;\n",
       "    var y = canvas_pos.y * this.ratio;\n",
       "\n",
       "    this.send_message(name, {\n",
       "        x: x,\n",
       "        y: y,\n",
       "        button: event.button,\n",
       "        step: event.step,\n",
       "        guiEvent: simpleKeys(event),\n",
       "    });\n",
       "\n",
       "    /* This prevents the web browser from automatically changing to\n",
       "     * the text insertion cursor when the button is pressed.  We want\n",
       "     * to control all of the cursor setting manually through the\n",
       "     * 'cursor' event from matplotlib */\n",
       "    event.preventDefault();\n",
       "    return false;\n",
       "};\n",
       "\n",
       "mpl.figure.prototype._key_event_extra = function (_event, _name) {\n",
       "    // Handle any extra behaviour associated with a key event\n",
       "};\n",
       "\n",
       "mpl.figure.prototype.key_event = function (event, name) {\n",
       "    // Prevent repeat events\n",
       "    if (name === 'key_press') {\n",
       "        if (event.which === this._key) {\n",
       "            return;\n",
       "        } else {\n",
       "            this._key = event.which;\n",
       "        }\n",
       "    }\n",
       "    if (name === 'key_release') {\n",
       "        this._key = null;\n",
       "    }\n",
       "\n",
       "    var value = '';\n",
       "    if (event.ctrlKey && event.which !== 17) {\n",
       "        value += 'ctrl+';\n",
       "    }\n",
       "    if (event.altKey && event.which !== 18) {\n",
       "        value += 'alt+';\n",
       "    }\n",
       "    if (event.shiftKey && event.which !== 16) {\n",
       "        value += 'shift+';\n",
       "    }\n",
       "\n",
       "    value += 'k';\n",
       "    value += event.which.toString();\n",
       "\n",
       "    this._key_event_extra(event, name);\n",
       "\n",
       "    this.send_message(name, { key: value, guiEvent: simpleKeys(event) });\n",
       "    return false;\n",
       "};\n",
       "\n",
       "mpl.figure.prototype.toolbar_button_onclick = function (name) {\n",
       "    if (name === 'download') {\n",
       "        this.handle_save(this, null);\n",
       "    } else {\n",
       "        this.send_message('toolbar_button', { name: name });\n",
       "    }\n",
       "};\n",
       "\n",
       "mpl.figure.prototype.toolbar_button_onmouseover = function (tooltip) {\n",
       "    this.message.textContent = tooltip;\n",
       "};\n",
       "\n",
       "///////////////// REMAINING CONTENT GENERATED BY embed_js.py /////////////////\n",
       "// prettier-ignore\n",
       "var _JSXTOOLS_RESIZE_OBSERVER=function(A){var t,i=new WeakMap,n=new WeakMap,a=new WeakMap,r=new WeakMap,o=new Set;function s(e){if(!(this instanceof s))throw new TypeError(\"Constructor requires 'new' operator\");i.set(this,e)}function h(){throw new TypeError(\"Function is not a constructor\")}function c(e,t,i,n){e=0 in arguments?Number(arguments[0]):0,t=1 in arguments?Number(arguments[1]):0,i=2 in arguments?Number(arguments[2]):0,n=3 in arguments?Number(arguments[3]):0,this.right=(this.x=this.left=e)+(this.width=i),this.bottom=(this.y=this.top=t)+(this.height=n),Object.freeze(this)}function d(){t=requestAnimationFrame(d);var s=new WeakMap,p=new Set;o.forEach((function(t){r.get(t).forEach((function(i){var r=t instanceof window.SVGElement,o=a.get(t),d=r?0:parseFloat(o.paddingTop),f=r?0:parseFloat(o.paddingRight),l=r?0:parseFloat(o.paddingBottom),u=r?0:parseFloat(o.paddingLeft),g=r?0:parseFloat(o.borderTopWidth),m=r?0:parseFloat(o.borderRightWidth),w=r?0:parseFloat(o.borderBottomWidth),b=u+f,F=d+l,v=(r?0:parseFloat(o.borderLeftWidth))+m,W=g+w,y=r?0:t.offsetHeight-W-t.clientHeight,E=r?0:t.offsetWidth-v-t.clientWidth,R=b+v,z=F+W,M=r?t.width:parseFloat(o.width)-R-E,O=r?t.height:parseFloat(o.height)-z-y;if(n.has(t)){var k=n.get(t);if(k[0]===M&&k[1]===O)return}n.set(t,[M,O]);var S=Object.create(h.prototype);S.target=t,S.contentRect=new c(u,d,M,O),s.has(i)||(s.set(i,[]),p.add(i)),s.get(i).push(S)}))})),p.forEach((function(e){i.get(e).call(e,s.get(e),e)}))}return s.prototype.observe=function(i){if(i instanceof window.Element){r.has(i)||(r.set(i,new Set),o.add(i),a.set(i,window.getComputedStyle(i)));var n=r.get(i);n.has(this)||n.add(this),cancelAnimationFrame(t),t=requestAnimationFrame(d)}},s.prototype.unobserve=function(i){if(i instanceof window.Element&&r.has(i)){var n=r.get(i);n.has(this)&&(n.delete(this),n.size||(r.delete(i),o.delete(i))),n.size||r.delete(i),o.size||cancelAnimationFrame(t)}},A.DOMRectReadOnly=c,A.ResizeObserver=s,A.ResizeObserverEntry=h,A}; // eslint-disable-line\n",
       "mpl.toolbar_items = [[\"Home\", \"Reset original view\", \"fa fa-home icon-home\", \"home\"], [\"Back\", \"Back to previous view\", \"fa fa-arrow-left icon-arrow-left\", \"back\"], [\"Forward\", \"Forward to next view\", \"fa fa-arrow-right icon-arrow-right\", \"forward\"], [\"\", \"\", \"\", \"\"], [\"Pan\", \"Left button pans, Right button zooms\\nx/y fixes axis, CTRL fixes aspect\", \"fa fa-arrows icon-move\", \"pan\"], [\"Zoom\", \"Zoom to rectangle\\nx/y fixes axis, CTRL fixes aspect\", \"fa fa-square-o icon-check-empty\", \"zoom\"], [\"\", \"\", \"\", \"\"], [\"Download\", \"Download plot\", \"fa fa-floppy-o icon-save\", \"download\"]];\n",
       "\n",
       "mpl.extensions = [\"eps\", \"jpeg\", \"pdf\", \"png\", \"ps\", \"raw\", \"svg\", \"tif\"];\n",
       "\n",
       "mpl.default_extension = \"png\";/* global mpl */\n",
       "\n",
       "var comm_websocket_adapter = function (comm) {\n",
       "    // Create a \"websocket\"-like object which calls the given IPython comm\n",
       "    // object with the appropriate methods. Currently this is a non binary\n",
       "    // socket, so there is still some room for performance tuning.\n",
       "    var ws = {};\n",
       "\n",
       "    ws.close = function () {\n",
       "        comm.close();\n",
       "    };\n",
       "    ws.send = function (m) {\n",
       "        //console.log('sending', m);\n",
       "        comm.send(m);\n",
       "    };\n",
       "    // Register the callback with on_msg.\n",
       "    comm.on_msg(function (msg) {\n",
       "        //console.log('receiving', msg['content']['data'], msg);\n",
       "        // Pass the mpl event to the overridden (by mpl) onmessage function.\n",
       "        ws.onmessage(msg['content']['data']);\n",
       "    });\n",
       "    return ws;\n",
       "};\n",
       "\n",
       "mpl.mpl_figure_comm = function (comm, msg) {\n",
       "    // This is the function which gets called when the mpl process\n",
       "    // starts-up an IPython Comm through the \"matplotlib\" channel.\n",
       "\n",
       "    var id = msg.content.data.id;\n",
       "    // Get hold of the div created by the display call when the Comm\n",
       "    // socket was opened in Python.\n",
       "    var element = document.getElementById(id);\n",
       "    var ws_proxy = comm_websocket_adapter(comm);\n",
       "\n",
       "    function ondownload(figure, _format) {\n",
       "        window.open(figure.canvas.toDataURL());\n",
       "    }\n",
       "\n",
       "    var fig = new mpl.figure(id, ws_proxy, ondownload, element);\n",
       "\n",
       "    // Call onopen now - mpl needs it, as it is assuming we've passed it a real\n",
       "    // web socket which is closed, not our websocket->open comm proxy.\n",
       "    ws_proxy.onopen();\n",
       "\n",
       "    fig.parent_element = element;\n",
       "    fig.cell_info = mpl.find_output_cell(\"<div id='\" + id + \"'></div>\");\n",
       "    if (!fig.cell_info) {\n",
       "        console.error('Failed to find cell for figure', id, fig);\n",
       "        return;\n",
       "    }\n",
       "    fig.cell_info[0].output_area.element.on(\n",
       "        'cleared',\n",
       "        { fig: fig },\n",
       "        fig._remove_fig_handler\n",
       "    );\n",
       "};\n",
       "\n",
       "mpl.figure.prototype.handle_close = function (fig, msg) {\n",
       "    var width = fig.canvas.width / fig.ratio;\n",
       "    fig.cell_info[0].output_area.element.off(\n",
       "        'cleared',\n",
       "        fig._remove_fig_handler\n",
       "    );\n",
       "    fig.resizeObserverInstance.unobserve(fig.canvas_div);\n",
       "\n",
       "    // Update the output cell to use the data from the current canvas.\n",
       "    fig.push_to_output();\n",
       "    var dataURL = fig.canvas.toDataURL();\n",
       "    // Re-enable the keyboard manager in IPython - without this line, in FF,\n",
       "    // the notebook keyboard shortcuts fail.\n",
       "    IPython.keyboard_manager.enable();\n",
       "    fig.parent_element.innerHTML =\n",
       "        '<img src=\"' + dataURL + '\" width=\"' + width + '\">';\n",
       "    fig.close_ws(fig, msg);\n",
       "};\n",
       "\n",
       "mpl.figure.prototype.close_ws = function (fig, msg) {\n",
       "    fig.send_message('closing', msg);\n",
       "    // fig.ws.close()\n",
       "};\n",
       "\n",
       "mpl.figure.prototype.push_to_output = function (_remove_interactive) {\n",
       "    // Turn the data on the canvas into data in the output cell.\n",
       "    var width = this.canvas.width / this.ratio;\n",
       "    var dataURL = this.canvas.toDataURL();\n",
       "    this.cell_info[1]['text/html'] =\n",
       "        '<img src=\"' + dataURL + '\" width=\"' + width + '\">';\n",
       "};\n",
       "\n",
       "mpl.figure.prototype.updated_canvas_event = function () {\n",
       "    // Tell IPython that the notebook contents must change.\n",
       "    IPython.notebook.set_dirty(true);\n",
       "    this.send_message('ack', {});\n",
       "    var fig = this;\n",
       "    // Wait a second, then push the new image to the DOM so\n",
       "    // that it is saved nicely (might be nice to debounce this).\n",
       "    setTimeout(function () {\n",
       "        fig.push_to_output();\n",
       "    }, 1000);\n",
       "};\n",
       "\n",
       "mpl.figure.prototype._init_toolbar = function () {\n",
       "    var fig = this;\n",
       "\n",
       "    var toolbar = document.createElement('div');\n",
       "    toolbar.classList = 'btn-toolbar';\n",
       "    this.root.appendChild(toolbar);\n",
       "\n",
       "    function on_click_closure(name) {\n",
       "        return function (_event) {\n",
       "            return fig.toolbar_button_onclick(name);\n",
       "        };\n",
       "    }\n",
       "\n",
       "    function on_mouseover_closure(tooltip) {\n",
       "        return function (event) {\n",
       "            if (!event.currentTarget.disabled) {\n",
       "                return fig.toolbar_button_onmouseover(tooltip);\n",
       "            }\n",
       "        };\n",
       "    }\n",
       "\n",
       "    fig.buttons = {};\n",
       "    var buttonGroup = document.createElement('div');\n",
       "    buttonGroup.classList = 'btn-group';\n",
       "    var button;\n",
       "    for (var toolbar_ind in mpl.toolbar_items) {\n",
       "        var name = mpl.toolbar_items[toolbar_ind][0];\n",
       "        var tooltip = mpl.toolbar_items[toolbar_ind][1];\n",
       "        var image = mpl.toolbar_items[toolbar_ind][2];\n",
       "        var method_name = mpl.toolbar_items[toolbar_ind][3];\n",
       "\n",
       "        if (!name) {\n",
       "            /* Instead of a spacer, we start a new button group. */\n",
       "            if (buttonGroup.hasChildNodes()) {\n",
       "                toolbar.appendChild(buttonGroup);\n",
       "            }\n",
       "            buttonGroup = document.createElement('div');\n",
       "            buttonGroup.classList = 'btn-group';\n",
       "            continue;\n",
       "        }\n",
       "\n",
       "        button = fig.buttons[name] = document.createElement('button');\n",
       "        button.classList = 'btn btn-default';\n",
       "        button.href = '#';\n",
       "        button.title = name;\n",
       "        button.innerHTML = '<i class=\"fa ' + image + ' fa-lg\"></i>';\n",
       "        button.addEventListener('click', on_click_closure(method_name));\n",
       "        button.addEventListener('mouseover', on_mouseover_closure(tooltip));\n",
       "        buttonGroup.appendChild(button);\n",
       "    }\n",
       "\n",
       "    if (buttonGroup.hasChildNodes()) {\n",
       "        toolbar.appendChild(buttonGroup);\n",
       "    }\n",
       "\n",
       "    // Add the status bar.\n",
       "    var status_bar = document.createElement('span');\n",
       "    status_bar.classList = 'mpl-message pull-right';\n",
       "    toolbar.appendChild(status_bar);\n",
       "    this.message = status_bar;\n",
       "\n",
       "    // Add the close button to the window.\n",
       "    var buttongrp = document.createElement('div');\n",
       "    buttongrp.classList = 'btn-group inline pull-right';\n",
       "    button = document.createElement('button');\n",
       "    button.classList = 'btn btn-mini btn-primary';\n",
       "    button.href = '#';\n",
       "    button.title = 'Stop Interaction';\n",
       "    button.innerHTML = '<i class=\"fa fa-power-off icon-remove icon-large\"></i>';\n",
       "    button.addEventListener('click', function (_evt) {\n",
       "        fig.handle_close(fig, {});\n",
       "    });\n",
       "    button.addEventListener(\n",
       "        'mouseover',\n",
       "        on_mouseover_closure('Stop Interaction')\n",
       "    );\n",
       "    buttongrp.appendChild(button);\n",
       "    var titlebar = this.root.querySelector('.ui-dialog-titlebar');\n",
       "    titlebar.insertBefore(buttongrp, titlebar.firstChild);\n",
       "};\n",
       "\n",
       "mpl.figure.prototype._remove_fig_handler = function (event) {\n",
       "    var fig = event.data.fig;\n",
       "    if (event.target !== this) {\n",
       "        // Ignore bubbled events from children.\n",
       "        return;\n",
       "    }\n",
       "    fig.close_ws(fig, {});\n",
       "};\n",
       "\n",
       "mpl.figure.prototype._root_extra_style = function (el) {\n",
       "    el.style.boxSizing = 'content-box'; // override notebook setting of border-box.\n",
       "};\n",
       "\n",
       "mpl.figure.prototype._canvas_extra_style = function (el) {\n",
       "    // this is important to make the div 'focusable\n",
       "    el.setAttribute('tabindex', 0);\n",
       "    // reach out to IPython and tell the keyboard manager to turn it's self\n",
       "    // off when our div gets focus\n",
       "\n",
       "    // location in version 3\n",
       "    if (IPython.notebook.keyboard_manager) {\n",
       "        IPython.notebook.keyboard_manager.register_events(el);\n",
       "    } else {\n",
       "        // location in version 2\n",
       "        IPython.keyboard_manager.register_events(el);\n",
       "    }\n",
       "};\n",
       "\n",
       "mpl.figure.prototype._key_event_extra = function (event, _name) {\n",
       "    var manager = IPython.notebook.keyboard_manager;\n",
       "    if (!manager) {\n",
       "        manager = IPython.keyboard_manager;\n",
       "    }\n",
       "\n",
       "    // Check for shift+enter\n",
       "    if (event.shiftKey && event.which === 13) {\n",
       "        this.canvas_div.blur();\n",
       "        // select the cell after this one\n",
       "        var index = IPython.notebook.find_cell_index(this.cell_info[0]);\n",
       "        IPython.notebook.select(index + 1);\n",
       "    }\n",
       "};\n",
       "\n",
       "mpl.figure.prototype.handle_save = function (fig, _msg) {\n",
       "    fig.ondownload(fig, null);\n",
       "};\n",
       "\n",
       "mpl.find_output_cell = function (html_output) {\n",
       "    // Return the cell and output element which can be found *uniquely* in the notebook.\n",
       "    // Note - this is a bit hacky, but it is done because the \"notebook_saving.Notebook\"\n",
       "    // IPython event is triggered only after the cells have been serialised, which for\n",
       "    // our purposes (turning an active figure into a static one), is too late.\n",
       "    var cells = IPython.notebook.get_cells();\n",
       "    var ncells = cells.length;\n",
       "    for (var i = 0; i < ncells; i++) {\n",
       "        var cell = cells[i];\n",
       "        if (cell.cell_type === 'code') {\n",
       "            for (var j = 0; j < cell.output_area.outputs.length; j++) {\n",
       "                var data = cell.output_area.outputs[j];\n",
       "                if (data.data) {\n",
       "                    // IPython >= 3 moved mimebundle to data attribute of output\n",
       "                    data = data.data;\n",
       "                }\n",
       "                if (data['text/html'] === html_output) {\n",
       "                    return [cell, data, j];\n",
       "                }\n",
       "            }\n",
       "        }\n",
       "    }\n",
       "};\n",
       "\n",
       "// Register the function which deals with the matplotlib target/channel.\n",
       "// The kernel may be null if the page has been refreshed.\n",
       "if (IPython.notebook.kernel !== null) {\n",
       "    IPython.notebook.kernel.comm_manager.register_target(\n",
       "        'matplotlib',\n",
       "        mpl.mpl_figure_comm\n",
       "    );\n",
       "}\n"
      ],
      "text/plain": [
       "<IPython.core.display.Javascript object>"
      ]
     },
     "metadata": {},
     "output_type": "display_data"
    },
    {
     "data": {
      "text/html": [
       "<img src=\"data:image/png;base64,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\" width=\"864\">"
      ],
      "text/plain": [
       "<IPython.core.display.HTML object>"
      ]
     },
     "metadata": {},
     "output_type": "display_data"
    }
   ],
   "source": [
    "%matplotlib notebook\n",
    "\n",
    "x = dist_f29\n",
    "y = disp_fault\n",
    "ax2 = plt.axes()\n",
    "ax2.plot(x, y, '-ok', label='Fault')\n",
    "\n",
    "\n",
    "a = [0,dist_Sb,dist_Mg, dist_Mg]\n",
    "b = [0,disp_z_Sb,disp_z_Mg,0]\n",
    "c = [dist_Mg,dist_Mg, dist_Fi,dist_Fi]\n",
    "d = [0,disp_z_Mg,disp_z_Fi,0]\n",
    "e = [dist_Fi,dist_Fi,dist_Gi5,dist_Gi5]\n",
    "f = [0,disp_z_Fi,disp_z_Gi5,0]\n",
    "g = [dist_Gi5,dist_Gi5,dist_So,dist_Di,dist_Di]\n",
    "h = [0,disp_z_Gi5,disp_z_So,disp_z_Di,0]\n",
    "i = [dist_Di,dist_Di,dist_Pr,dist_Pr]\n",
    "j = [0,disp_z_Di,disp_z_Pr,0]\n",
    "k = [dist_Pr,dist_Pr,dist_Er,dist_Er]\n",
    "l = [0,disp_z_Pr,disp_z_Er,0]\n",
    "m = [dist_Er,dist_Er,dist_Ka,dist_Hu,dist_Ma,dist_Gu,dist_La,fault_dist]\n",
    "n = [0,disp_z_Er,disp_z_Ka,disp_z_Hu,disp_z_Ma,disp_z_Gu,disp_z_La,0]\n",
    "\n",
    "ax2.plot(a, b, '-k')\n",
    "ax2.plot(c, d, '-k')\n",
    "ax2.plot(e, f, '-k')\n",
    "ax2.plot(g, h, '-k')\n",
    "ax2.plot(i, j, '-k')\n",
    "ax2.plot(k, l, '-k')\n",
    "ax2.plot(m, n, '-k')\n",
    "\n",
    "ax2.fill_between(a, b, facecolor='k', alpha=0.3)\n",
    "ax2.fill_between(c, d, facecolor='y', alpha=0.7)\n",
    "ax2.fill_between(e, f, facecolor='y', alpha=0.3)\n",
    "ax2.fill_between(g, h, facecolor='g', alpha=0.3)\n",
    "ax2.fill_between(i, j, facecolor='r', alpha=0.5)\n",
    "ax2.fill_between(k, l, facecolor='g', alpha=0.7)\n",
    "ax2.fill_between(m, n, facecolor='y', alpha=0.5)\n",
    "\n",
    "\n",
    "leg = ax2.legend()\n",
    "style.use('ggplot')\n",
    "\n",
    "plt.xlabel('Distance')\n",
    "plt.ylabel('Displacement')\n",
    "plt.title('Apparent Displacement')\n",
    "fig_size = plt.gcf().get_size_inches() #Get current size\n",
    "sizefactor = 2 #Set a zoom factor\n",
    "#Modify the current size by the factor\n",
    "plt.gcf().set_size_inches(sizefactor * fig_size) "
   ]
  },
  {
   "cell_type": "markdown",
   "metadata": {},
   "source": [
    "## Conclusions"
   ]
  },
  {
   "cell_type": "markdown",
   "metadata": {},
   "source": [
    "1. We create a Python script to calculate the displacement and distance along the faults from 2D cross-sections."
   ]
  },
  {
   "cell_type": "markdown",
   "metadata": {},
   "source": [
    "2. The script plots the displacement–distance profiles automatically and colours the background of the profiles with the rock formations. "
   ]
  },
  {
   "cell_type": "markdown",
   "metadata": {},
   "source": [
    "3. Moreover, the model will plot an error envelope reference to the uncertainty nomenclature of the horizons and faults inherited in the interpreted cross-sections from Drozdzewski et al. (1980)."
   ]
  },
  {
   "cell_type": "markdown",
   "metadata": {},
   "source": [
    "4. Additionally, the algorithm will suggest a smooth displacement–distance curve as a semi-circular line between faults tips where it acts as a baseline to quantify the displacement–distance variations."
   ]
  },
  {
   "cell_type": "markdown",
   "metadata": {},
   "source": [
    "5. This model allows researchers to produce displacement–distance profiles quickly, incorporate the mechanical stratigraphy information, and increase the interpretation accuracy by a realistic distribution of the displacement across the length of the faults."
   ]
  },
  {
   "cell_type": "markdown",
   "metadata": {},
   "source": [
    "![](https://i.imgur.com/zYZO8TF.png)"
   ]
  },
  {
   "cell_type": "markdown",
   "metadata": {},
   "source": [
    "***Thank you!***"
   ]
  }
 ],
 "metadata": {
  "kernelspec": {
   "display_name": "Python 3 (ipykernel)",
   "language": "python",
   "name": "python3"
  },
  "language_info": {
   "codemirror_mode": {
    "name": "ipython",
    "version": 3
   },
   "file_extension": ".py",
   "mimetype": "text/x-python",
   "name": "python",
   "nbconvert_exporter": "python",
   "pygments_lexer": "ipython3",
   "version": "3.9.10"
  }
 },
 "nbformat": 4,
 "nbformat_minor": 2
}
